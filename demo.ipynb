{
 "cells": [
  {
   "cell_type": "code",
   "execution_count": 1,
   "metadata": {},
   "outputs": [],
   "source": [
    "import os\n",
    "import sys\n",
    "import math\n",
    "import utils\n",
    "import random\n",
    "import layers\n",
    "import dataset\n",
    "import binvox_rw\n",
    "import numpy as np\n",
    "import pandas as pd\n",
    "from PIL import Image\n",
    "from datetime import datetime\n",
    "import matplotlib.pyplot as plt\n",
    "import tensorflow as tf\n",
    "# tf.contrib.eager.enable_eager_execution() "
   ]
  },
  {
   "cell_type": "code",
   "execution_count": 2,
   "metadata": {},
   "outputs": [
    {
     "name": "stdout",
     "output_type": "stream",
     "text": [
      "(?, 24, 137, 137, 3)\n",
      "(?, 24, 68, 68, 96)\n",
      "(?, 24, 34, 34, 128)\n",
      "(?, 24, 17, 17, 256)\n",
      "(?, 24, 8, 8, 256)\n",
      "(?, 24, 4, 4, 256)\n",
      "(?, 24, 2, 2, 256)\n",
      "(?, 24, 1024)\n"
     ]
    }
   ],
   "source": [
    "# place holders\n",
    "x=tf.placeholder(tf.float32,[None,24,137,137,3]) \n",
    "y=tf.placeholder(tf.float32,[None,32,32,32])\n",
    "\n",
    "# encoder network\n",
    "cur_tensor=x\n",
    "encoder_outputs=[cur_tensor]\n",
    "print(cur_tensor.shape)\n",
    "k_s = [3,3]\n",
    "conv_filter_count = [96, 128, 256, 256, 256, 256]\n",
    "for i in range(6): \n",
    "    ks=[7,7]if i is 0 else k_s  \n",
    "    # with tf.name_scope(\"encoding_block\"):\n",
    "    \n",
    "    cur_tensor=tf.map_fn(lambda a:tf.layers.conv2d(a,filters=conv_filter_count[i],padding='SAME',kernel_size= k_s,activation=None),cur_tensor)\n",
    "    cur_tensor=tf.map_fn(lambda a:tf.layers.max_pooling2d(a,2,2),cur_tensor)\n",
    "    cur_tensor=tf.map_fn(tf.nn.relu,cur_tensor)\n",
    "    print(cur_tensor.shape)\n",
    "    encoder_outputs.append(cur_tensor)\n",
    "\n",
    "# flatten tensors\n",
    "cur_tensor=tf.map_fn(tf.contrib.layers.flatten,cur_tensor)\n",
    "cur_tensor=tf.map_fn(lambda a:tf.contrib.layers.fully_connected(a,1024,activation_fn=None),cur_tensor)\n",
    "encoder_outputs.append(cur_tensor)\n",
    "print(cur_tensor.shape)"
   ]
  },
  {
   "cell_type": "code",
   "execution_count": 4,
   "metadata": {},
   "outputs": [
    {
     "name": "stdout",
     "output_type": "stream",
     "text": [
      "(4, 4, 4, ?, 24, 1024)\n"
     ]
    },
    {
     "ename": "TypeError",
     "evalue": "Input 'dims' of 'Fill' Op has type float32 that does not match expected type of int32.",
     "output_type": "error",
     "traceback": [
      "\u001b[0;31m---------------------------------------------------------------------------\u001b[0m",
      "\u001b[0;31mValueError\u001b[0m                                Traceback (most recent call last)",
      "\u001b[0;32m/anaconda3/lib/python3.6/site-packages/tensorflow/python/framework/op_def_library.py\u001b[0m in \u001b[0;36m_apply_op_helper\u001b[0;34m(self, op_type_name, name, **keywords)\u001b[0m\n\u001b[1;32m    509\u001b[0m                 \u001b[0mas_ref\u001b[0m\u001b[0;34m=\u001b[0m\u001b[0minput_arg\u001b[0m\u001b[0;34m.\u001b[0m\u001b[0mis_ref\u001b[0m\u001b[0;34m,\u001b[0m\u001b[0;34m\u001b[0m\u001b[0m\n\u001b[0;32m--> 510\u001b[0;31m                 preferred_dtype=default_dtype)\n\u001b[0m\u001b[1;32m    511\u001b[0m           \u001b[0;32mexcept\u001b[0m \u001b[0mTypeError\u001b[0m \u001b[0;32mas\u001b[0m \u001b[0merr\u001b[0m\u001b[0;34m:\u001b[0m\u001b[0;34m\u001b[0m\u001b[0m\n",
      "\u001b[0;32m/anaconda3/lib/python3.6/site-packages/tensorflow/python/framework/ops.py\u001b[0m in \u001b[0;36minternal_convert_to_tensor\u001b[0;34m(value, dtype, name, as_ref, preferred_dtype, ctx)\u001b[0m\n\u001b[1;32m   1021\u001b[0m     \u001b[0;32mif\u001b[0m \u001b[0mret\u001b[0m \u001b[0;32mis\u001b[0m \u001b[0;32mNone\u001b[0m\u001b[0;34m:\u001b[0m\u001b[0;34m\u001b[0m\u001b[0m\n\u001b[0;32m-> 1022\u001b[0;31m       \u001b[0mret\u001b[0m \u001b[0;34m=\u001b[0m \u001b[0mconversion_func\u001b[0m\u001b[0;34m(\u001b[0m\u001b[0mvalue\u001b[0m\u001b[0;34m,\u001b[0m \u001b[0mdtype\u001b[0m\u001b[0;34m=\u001b[0m\u001b[0mdtype\u001b[0m\u001b[0;34m,\u001b[0m \u001b[0mname\u001b[0m\u001b[0;34m=\u001b[0m\u001b[0mname\u001b[0m\u001b[0;34m,\u001b[0m \u001b[0mas_ref\u001b[0m\u001b[0;34m=\u001b[0m\u001b[0mas_ref\u001b[0m\u001b[0;34m)\u001b[0m\u001b[0;34m\u001b[0m\u001b[0m\n\u001b[0m\u001b[1;32m   1023\u001b[0m \u001b[0;34m\u001b[0m\u001b[0m\n",
      "\u001b[0;32m/anaconda3/lib/python3.6/site-packages/tensorflow/python/framework/ops.py\u001b[0m in \u001b[0;36m_TensorTensorConversionFunction\u001b[0;34m(t, dtype, name, as_ref)\u001b[0m\n\u001b[1;32m    865\u001b[0m         \u001b[0;34m\"Tensor conversion requested dtype %s for Tensor with dtype %s: %r\"\u001b[0m \u001b[0;34m%\u001b[0m\u001b[0;34m\u001b[0m\u001b[0m\n\u001b[0;32m--> 866\u001b[0;31m         (dtype.name, t.dtype.name, str(t)))\n\u001b[0m\u001b[1;32m    867\u001b[0m   \u001b[0;32mreturn\u001b[0m \u001b[0mt\u001b[0m\u001b[0;34m\u001b[0m\u001b[0m\n",
      "\u001b[0;31mValueError\u001b[0m: Tensor conversion requested dtype int32 for Tensor with dtype float32: 'Tensor(\"Placeholder:0\", shape=(?, 24, 137, 137, 3), dtype=float32)'",
      "\nDuring handling of the above exception, another exception occurred:\n",
      "\u001b[0;31mTypeError\u001b[0m                                 Traceback (most recent call last)",
      "\u001b[0;32m<ipython-input-4-dbb087dcfa24>\u001b[0m in \u001b[0;36m<module>\u001b[0;34m()\u001b[0m\n\u001b[1;32m     10\u001b[0m \u001b[0;34m\u001b[0m\u001b[0m\n\u001b[1;32m     11\u001b[0m \u001b[0;31m# initial hidden state\u001b[0m\u001b[0;34m\u001b[0m\u001b[0;34m\u001b[0m\u001b[0m\n\u001b[0;32m---> 12\u001b[0;31m \u001b[0mzero_state\u001b[0m\u001b[0;34m=\u001b[0m  \u001b[0mtf\u001b[0m\u001b[0;34m.\u001b[0m\u001b[0mfill\u001b[0m\u001b[0;34m(\u001b[0m\u001b[0mx\u001b[0m\u001b[0;34m,\u001b[0m \u001b[0mtf\u001b[0m\u001b[0;34m.\u001b[0m\u001b[0mto_float\u001b[0m\u001b[0;34m(\u001b[0m\u001b[0;36m0\u001b[0m\u001b[0;34m)\u001b[0m\u001b[0;34m)\u001b[0m\u001b[0;34m\u001b[0m\u001b[0m\n\u001b[0m\u001b[1;32m     13\u001b[0m \u001b[0;34m\u001b[0m\u001b[0m\n\u001b[1;32m     14\u001b[0m \u001b[0;31m# feed batches of seqeuences\u001b[0m\u001b[0;34m\u001b[0m\u001b[0;34m\u001b[0m\u001b[0m\n",
      "\u001b[0;32m/anaconda3/lib/python3.6/site-packages/tensorflow/python/ops/gen_array_ops.py\u001b[0m in \u001b[0;36mfill\u001b[0;34m(dims, value, name)\u001b[0m\n\u001b[1;32m   1799\u001b[0m   \u001b[0;32mif\u001b[0m \u001b[0m_ctx\u001b[0m\u001b[0;34m.\u001b[0m\u001b[0min_graph_mode\u001b[0m\u001b[0;34m(\u001b[0m\u001b[0;34m)\u001b[0m\u001b[0;34m:\u001b[0m\u001b[0;34m\u001b[0m\u001b[0m\n\u001b[1;32m   1800\u001b[0m     _, _, _op = _op_def_lib._apply_op_helper(\n\u001b[0;32m-> 1801\u001b[0;31m         \"Fill\", dims=dims, value=value, name=name)\n\u001b[0m\u001b[1;32m   1802\u001b[0m     \u001b[0m_result\u001b[0m \u001b[0;34m=\u001b[0m \u001b[0m_op\u001b[0m\u001b[0;34m.\u001b[0m\u001b[0moutputs\u001b[0m\u001b[0;34m[\u001b[0m\u001b[0;34m:\u001b[0m\u001b[0;34m]\u001b[0m\u001b[0;34m\u001b[0m\u001b[0m\n\u001b[1;32m   1803\u001b[0m     \u001b[0m_inputs_flat\u001b[0m \u001b[0;34m=\u001b[0m \u001b[0m_op\u001b[0m\u001b[0;34m.\u001b[0m\u001b[0minputs\u001b[0m\u001b[0;34m\u001b[0m\u001b[0m\n",
      "\u001b[0;32m/anaconda3/lib/python3.6/site-packages/tensorflow/python/framework/op_def_library.py\u001b[0m in \u001b[0;36m_apply_op_helper\u001b[0;34m(self, op_type_name, name, **keywords)\u001b[0m\n\u001b[1;32m    531\u001b[0m             \u001b[0;32mif\u001b[0m \u001b[0minput_arg\u001b[0m\u001b[0;34m.\u001b[0m\u001b[0mtype\u001b[0m \u001b[0;34m!=\u001b[0m \u001b[0mtypes_pb2\u001b[0m\u001b[0;34m.\u001b[0m\u001b[0mDT_INVALID\u001b[0m\u001b[0;34m:\u001b[0m\u001b[0;34m\u001b[0m\u001b[0m\n\u001b[1;32m    532\u001b[0m               raise TypeError(\"%s expected type of %s.\" %\n\u001b[0;32m--> 533\u001b[0;31m                               (prefix, dtypes.as_dtype(input_arg.type).name))\n\u001b[0m\u001b[1;32m    534\u001b[0m             \u001b[0;32melse\u001b[0m\u001b[0;34m:\u001b[0m\u001b[0;34m\u001b[0m\u001b[0m\n\u001b[1;32m    535\u001b[0m               \u001b[0;31m# Update the maps with the default, if needed.\u001b[0m\u001b[0;34m\u001b[0m\u001b[0;34m\u001b[0m\u001b[0m\n",
      "\u001b[0;31mTypeError\u001b[0m: Input 'dims' of 'Fill' Op has type float32 that does not match expected type of int32."
     ]
    }
   ],
   "source": [
    "# recurrent module\n",
    "recurrent_module=layers.GRU_R2N2();\n",
    "\n",
    "# prepare input\n",
    "cur_tensor=encoder_outputs[-1]\n",
    "stacked_input=cur_tensor\n",
    "for i in range(3):\n",
    "    stacked_input=tf.stack([stacked_input]*4,axis=0)\n",
    "print(stacked_input.shape)\n",
    "\n",
    "# initial hidden state\n",
    "zero_state=  tf.zeros([None,])\n",
    "\n",
    "# feed batches of seqeuences\n",
    "hidden_state=zero_state\n",
    "for t in range(24):\n",
    "    input_frames = stacked_input[:,:,:,:,t,:]\n",
    "    hidden_state = recurrent_module.call(input_frames, hidden_state)\n",
    "print(hidden_state.shape)"
   ]
  },
  {
   "cell_type": "code",
   "execution_count": null,
   "metadata": {},
   "outputs": [],
   "source": [
    "# decoding network\n",
    "cur_tensor=tf.transpose(hidden_state,[3,0,1,2,4])\n",
    "print(cur_tensor.shape)\n",
    "\n",
    "decoder_outputs=[cur_tensor]\n",
    "cur_tensor=layers.unpool3D(cur_tensor)\n",
    "print(cur_tensor.shape)\n",
    "decoder_outputs.append(cur_tensor)\n",
    "\n",
    "k_s = [3,3,3]\n",
    "deconv_filter_count = [128, 128, 128, 64, 32, 2]\n",
    "for i in range(2,4): \n",
    "    # with tf.name_scope(\"decoding_block\"):\n",
    "    cur_tensor=tf.layers.conv3d(cur_tensor,padding='SAME',filters=deconv_filter_count[i],kernel_size= k_s,activation=None)\n",
    "    cur_tensor=layers.unpool3D(cur_tensor)\n",
    "    cur_tensor=tf.nn.relu(cur_tensor)\n",
    "    print(cur_tensor.shape)\n",
    "    decoder_outputs.append(cur_tensor)\n",
    "            \n",
    "for i in range(4,6): \n",
    "    # with tf.name_scope(\"decoding_block_without_unpooling\"):\n",
    "    cur_tensor=tf.layers.conv3d(cur_tensor,padding='SAME',filters=deconv_filter_count[i],kernel_size= k_s,activation=None)\n",
    "    cur_tensor=tf.nn.relu(cur_tensor)\n",
    "    print(cur_tensor.shape)\n",
    "    decoder_outputs.append(cur_tensor)"
   ]
  },
  {
   "cell_type": "code",
   "execution_count": null,
   "metadata": {},
   "outputs": [],
   "source": [
    "#3d voxel-wise softmax\n",
    "y_hat=tf.nn.softmax(decoder_outputs[-1])\n",
    "p=y_hat[:,:,:,:,0]\n",
    "q=y_hat[:,:,:,:,1]\n",
    "cross_entropies=tf.reduce_sum(-tf.multiply(tf.log(p),y)-tf.multiply(tf.log(q),1-y),[1,2,3])\n",
    "loss=tf.reduce_mean(cross_entropies)\n",
    "optimizer = tf.train.GradientDescentOptimizer(1).minimize(loss)"
   ]
  },
  {
   "cell_type": "code",
   "execution_count": null,
   "metadata": {},
   "outputs": [],
   "source": [
    "# debug\n",
    "sess=tf.InteractiveSession()\n",
    "tf.global_variables_initializer().run()\n",
    "\n",
    "# load dataset\n",
    "shapenet=dataset.ShapeNet()\n",
    "data,label=shapenet.next_train_batch()    \n",
    "feed_dict={x:data, y: label};\n",
    "\n",
    "# tensorboard\n",
    "writer = tf.summary.FileWriter(\"./logs/\")\n",
    "writer.add_graph(sess.graph)\n",
    "\n",
    "# enocder debug\n",
    "for i in range(7):\n",
    "    for i in range(24):\n",
    "    t=encoder_outputs[i]\n",
    "    print(t.shape)\n",
    "    t=t[0,0]\n",
    "    im_3d=t.eval(feed_dict)\n",
    "    utils.imsave_multichannel(im_3d,str(i)+\".png\")\n",
    "\n",
    "\n",
    "    "
   ]
  },
  {
   "cell_type": "code",
   "execution_count": null,
   "metadata": {},
   "outputs": [],
   "source": [
    "d=y_hat.eval(session=sess,feed_dict=fd)\n",
    "d.shape\n",
    "\n",
    "\n",
    "# debug decoder net\n",
    "out=tf.cast(tf.argmax(y_hat,axis=4),dtype=tf.float32)\n",
    "out=sess.run(out,feed_dict=fd)\n",
    "outvoxel=binvox_rw.Voxels(out,out.shape,[0,0,0],1,'xzy')\n",
    "with open(\"out/cur_output.binvox\",'w') as f:\n",
    "    outvoxel.write(f)"
   ]
  },
  {
   "cell_type": "code",
   "execution_count": null,
   "metadata": {},
   "outputs": [],
   "source": [
    "# setup training\n",
    "sess=tf.Session()\n",
    "root_train_dir = \"train_dir\"\n",
    "cur_time = str(datetime.now().strftime('%I:%M:%S%p %Y/%m/%d'))\n",
    "train_dir=os.path.join(root_train_dir,'session_{}'.format(cur_time))\n",
    "saver = tf.train.Saver()\n",
    "init=tf.global_variables_initializer()\n",
    "sess.run(init)\n",
    "\n",
    "# train network\n",
    "print(\"starting training at {}\".format(cur_time))\n",
    "loss_session=[]\n",
    "loss_all=[]\n",
    "epoch=5\n",
    "for e in range(epoch):\n",
    "    loss_epoch=[]\n",
    "    # print(\"starting epoch_{:03d}\".format(e))\n",
    "    epoch_dir=\"{}/epoch_{:03d}\".format(train_dir,e)\n",
    "    os.makedirs(epoch_dir)\n",
    "    batch_number=0\n",
    "    shapenet.reset()\n",
    "    data,label=shapenet.next_train_batch()\n",
    "    while(data is not None): \n",
    "        feed_dict={x:data, y: label};\n",
    "        batch_info=sess.run([tf.trainable_variables(),loss],feed_dict=feed_dict)\n",
    "        loss_batch=batch_info[-1]\n",
    "        loss_epoch.append(loss_batch) \n",
    "        train=shapenet.next_train_batch() # update\n",
    "        batch_number+=1\n",
    "        # show info about current batch\n",
    "        if batch_number%100==0:\n",
    "            print(\"epoch_{:03d}-batch_{:03d}: loss={}\".format(e,batch_number,loss_batch))\n",
    "\n",
    "    loss_session.append(loss_epoch)\n",
    "    loss_all+=loss_epoch\n",
    "    # record parameters and generate plots \n",
    "    fig = plt.figure()\n",
    "    plt.plot(loss_session)\n",
    "    plt.savefig(\"{}/loss.png\".format(epoch_dir),bbox_inches='tight')\n",
    "    saver.save(sess,\"{}/model.ckpt\".format(epoch_dir))\n",
    "    plt.close()\n",
    "    # save epoch losses"
   ]
  }
 ],
 "metadata": {
  "kernelspec": {
   "display_name": "Python 3",
   "language": "python",
   "name": "python3"
  },
  "language_info": {
   "codemirror_mode": {
    "name": "ipython",
    "version": 3
   },
   "file_extension": ".py",
   "mimetype": "text/x-python",
   "name": "python",
   "nbconvert_exporter": "python",
   "pygments_lexer": "ipython3",
   "version": "3.6.2"
  }
 },
 "nbformat": 4,
 "nbformat_minor": 2
}
