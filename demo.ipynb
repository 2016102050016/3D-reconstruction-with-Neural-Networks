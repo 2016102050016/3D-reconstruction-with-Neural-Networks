{
 "cells": [
  {
   "cell_type": "code",
   "execution_count": 1,
   "metadata": {},
   "outputs": [
    {
     "name": "stdout",
     "output_type": "stream",
     "text": [
      "[load_dataset] loading from ./ShapeNet\n",
      "[construct_paths] parsing dir ./ShapeNet for ['.obj', '.mtl'] ...\n",
      "... done\n",
      "[write_renders_to_disk] writing renders to ./ShapeNet_Renders/02691156/40dc09d726aa6325ce2cec85ea6ae00d ... \n",
      "... done\n",
      "[fetch_renders_from_disk] fetching renders from ./ShapeNet_Renders/02691156/40dc09d726aa6325ce2cec85ea6ae00d ... \n",
      "... done\n"
     ]
    }
   ],
   "source": [
    "import os\n",
    "import sys\n",
    "import utils\n",
    "import random\n",
    "import dataset\n",
    "import numpy as np\n",
    "from PIL import Image\n",
    "import matplotlib.pyplot as plt\n",
    "import tensorflow as tf\n",
    "import tensorflow.contrib.eager as tfe\n",
    "\n",
    "# mode of execution\n",
    "%matplotlib inline\n",
    "#tfe.enable_eager_execution()\n",
    "sess=tf.Session()\n",
    "\n",
    "# load data\n",
    "os.system(\"sh clean.sh\")\n",
    "X=dataset.load_dataset(\"./ShapeNet\",render_count=1,num_of_examples=1)\n",
    "Y=None;"
   ]
  },
  {
   "cell_type": "code",
   "execution_count": 2,
   "metadata": {},
   "outputs": [
    {
     "name": "stdout",
     "output_type": "stream",
     "text": [
      "(1, 512, 512, 3)\n",
      "(1, 255, 255, 96)\n",
      "(1, 126, 126, 128)\n",
      "(1, 62, 62, 256)\n",
      "(1, 30, 30, 256)\n",
      "(1, 14, 14, 256)\n",
      "(1, 6, 6, 256)\n",
      "(1, 9216)\n",
      "(1, 1024)\n"
     ]
    }
   ],
   "source": [
    "# encoder network\n",
    "cur_tensor=tf.convert_to_tensor(X[0],dtype=tf.float32)\n",
    "print(cur_tensor.shape)\n",
    "k_s = [3,3]\n",
    "conv_filter_count = [96, 128, 256, 256, 256, 256]\n",
    "for i in range(6): \n",
    "    ks=[7,7]if i is 0 else k_s  \n",
    "    with tf.name_scope(\"encoding_block\"):\n",
    "        cur_tensor=tf.layers.conv2d(cur_tensor,filters=conv_filter_count[i],kernel_size= k_s,activation=None)\n",
    "        cur_tensor=tf.layers.max_pooling2d(cur_tensor,2,2)\n",
    "        cur_tensor=tf.nn.relu(cur_tensor)\n",
    "        print(cur_tensor.shape)\n",
    "\n",
    "# flatten tensor\n",
    "cur_tensor=tf.contrib.layers.flatten(cur_tensor)\n",
    "print(cur_tensor.shape)\n",
    "cur_tensor=tf.contrib.layers.fully_connected(cur_tensor,1024,activation_fn=None)\n",
    "print(cur_tensor.shape)"
   ]
  },
  {
   "cell_type": "code",
   "execution_count": 8,
   "metadata": {},
   "outputs": [
    {
     "ename": "TypeError",
     "evalue": "sigmoid() missing 1 required positional argument: 'x'",
     "output_type": "error",
     "traceback": [
      "\u001b[0;31m---------------------------------------------------------------------------\u001b[0m",
      "\u001b[0;31mTypeError\u001b[0m                                 Traceback (most recent call last)",
      "\u001b[0;32m<ipython-input-8-e2a3c594b2eb>\u001b[0m in \u001b[0;36m<module>\u001b[0;34m()\u001b[0m\n\u001b[1;32m     10\u001b[0m \u001b[0mb_f\u001b[0m\u001b[0;34m,\u001b[0m\u001b[0mb_i\u001b[0m\u001b[0;34m,\u001b[0m\u001b[0mb_o\u001b[0m\u001b[0;34m,\u001b[0m\u001b[0mb_s\u001b[0m\u001b[0;34m=\u001b[0m\u001b[0mtf\u001b[0m\u001b[0;34m.\u001b[0m\u001b[0mVariable\u001b[0m\u001b[0;34m(\u001b[0m\u001b[0mtf\u001b[0m\u001b[0;34m.\u001b[0m\u001b[0mzeros\u001b[0m\u001b[0;34m(\u001b[0m\u001b[0mgrid_shape\u001b[0m\u001b[0;34m)\u001b[0m\u001b[0;34m)\u001b[0m\u001b[0;34m,\u001b[0m\u001b[0mtf\u001b[0m\u001b[0;34m.\u001b[0m\u001b[0mVariable\u001b[0m\u001b[0;34m(\u001b[0m\u001b[0mtf\u001b[0m\u001b[0;34m.\u001b[0m\u001b[0mzeros\u001b[0m\u001b[0;34m(\u001b[0m\u001b[0mgrid_shape\u001b[0m\u001b[0;34m)\u001b[0m\u001b[0;34m)\u001b[0m\u001b[0;34m,\u001b[0m\u001b[0mtf\u001b[0m\u001b[0;34m.\u001b[0m\u001b[0mVariable\u001b[0m\u001b[0;34m(\u001b[0m\u001b[0mtf\u001b[0m\u001b[0;34m.\u001b[0m\u001b[0mzeros\u001b[0m\u001b[0;34m(\u001b[0m\u001b[0mgrid_shape\u001b[0m\u001b[0;34m)\u001b[0m\u001b[0;34m)\u001b[0m\u001b[0;34m,\u001b[0m\u001b[0mtf\u001b[0m\u001b[0;34m.\u001b[0m\u001b[0mVariable\u001b[0m\u001b[0;34m(\u001b[0m\u001b[0mtf\u001b[0m\u001b[0;34m.\u001b[0m\u001b[0mzeros\u001b[0m\u001b[0;34m(\u001b[0m\u001b[0mgrid_shape\u001b[0m\u001b[0;34m)\u001b[0m\u001b[0;34m)\u001b[0m\u001b[0;34m\u001b[0m\u001b[0m\n\u001b[1;32m     11\u001b[0m \u001b[0;34m\u001b[0m\u001b[0m\n\u001b[0;32m---> 12\u001b[0;31m \u001b[0mf_t\u001b[0m\u001b[0;34m=\u001b[0m\u001b[0mtf\u001b[0m\u001b[0;34m.\u001b[0m\u001b[0msigmoid\u001b[0m\u001b[0;34m(\u001b[0m\u001b[0;34m)\u001b[0m\u001b[0;34m\u001b[0m\u001b[0m\n\u001b[0m\u001b[1;32m     13\u001b[0m \u001b[0mi_t\u001b[0m\u001b[0;34m=\u001b[0m\u001b[0mtf\u001b[0m\u001b[0;34m.\u001b[0m\u001b[0msigmoid\u001b[0m\u001b[0;34m(\u001b[0m\u001b[0;34m)\u001b[0m\u001b[0;34m\u001b[0m\u001b[0m\n\u001b[1;32m     14\u001b[0m \u001b[0mo_t\u001b[0m\u001b[0;34m=\u001b[0m\u001b[0mtf\u001b[0m\u001b[0;34m.\u001b[0m\u001b[0msigmoid\u001b[0m\u001b[0;34m(\u001b[0m\u001b[0;34m)\u001b[0m\u001b[0;34m\u001b[0m\u001b[0m\n",
      "\u001b[0;31mTypeError\u001b[0m: sigmoid() missing 1 required positional argument: 'x'"
     ]
    }
   ],
   "source": [
    "# 3D_Convolutional_LSTM \n",
    "grid_shape=[4,4,4]\n",
    "\n",
    "x=tf.placeholder(tf.float32,[None,1024])\n",
    "\n",
    "grid_shape=[4,4,4,256]\n",
    "h_t=tf.Variable(tf.zeros(grid_shape))\n",
    "W_f,W_i,W_o,W_s=tf.Variable(tf.zeros(grid_shape)),tf.Variable(tf.zeros(grid_shape)),tf.Variable(tf.zeros(grid_shape)),tf.Variable(tf.zeros(grid_shape))\n",
    "U_f,U_i,U_o,U_s=tf.Variable(tf.zeros(grid_shape)),tf.Variable(tf.zeros(grid_shape)),tf.Variable(tf.zeros(grid_shape)),tf.Variable(tf.zeros(grid_shape))\n",
    "b_f,b_i,b_o,b_s=tf.Variable(tf.zeros(grid_shape)),tf.Variable(tf.zeros(grid_shape)),tf.Variable(tf.zeros(grid_shape)),tf.Variable(tf.zeros(grid_shape))\n",
    "\n",
    "f_t=tf.sigmoid(tf.matmul(x, W))\n",
    "i_t=tf.sigmoid()\n",
    "o_t=tf.sigmoid()\n",
    "s_t=tf.multiply(f_t,s_t) + tf.multiply(i_t,tf.tanh())\n",
    "h_t=tf.tanh(st)\n",
    "       "
   ]
  },
  {
   "cell_type": "code",
   "execution_count": null,
   "metadata": {},
   "outputs": [],
   "source": [
    "# decoding network\n",
    "# batch_size=cur_tensor.shape.as_list()[0]\n",
    "# cur_tensor=tf.reshape(cur_tensor,[batch_size,2,2,2,-1])\n",
    "# print(cur_tensor.shape)\n",
    "k_s = [3,3,3]\n",
    "deconv_filter_count = [128, 128, 128, 64, 32, 2]\n",
    "for i in range(6): \n",
    "    with tf.name_scope(\"decoding_block\"):\n",
    "            cur_tensor=tf.layers.conv3d_transpose(cur_tensor,padding='VALID',filters=deconv_filter_count[i],kernel_size= k_s,activation=None)\n",
    "            cur_tensor=utils.unpool(cur_tensor)\n",
    "            cur_tensor=tf.nn.relu(cur_tensor)\n",
    "            print(cur_tensor.shape)"
   ]
  },
  {
   "cell_type": "code",
   "execution_count": null,
   "metadata": {},
   "outputs": [],
   "source": [
    "# serialize graph for tensorboard\n",
    "os.system(\"rm -rf ./logs/*\")\n",
    "writer = tf.summary.FileWriter(\"./logs/\")\n",
    "writer.add_graph(sess.graph)\n",
    "os.system(\"sh tensorboard.sh\")"
   ]
  },
  {
   "cell_type": "code",
   "execution_count": null,
   "metadata": {},
   "outputs": [],
   "source": []
  }
 ],
 "metadata": {
  "kernelspec": {
   "display_name": "Python 3",
   "language": "python",
   "name": "python3"
  },
  "language_info": {
   "codemirror_mode": {
    "name": "ipython",
    "version": 3
   },
   "file_extension": ".py",
   "mimetype": "text/x-python",
   "name": "python",
   "nbconvert_exporter": "python",
   "pygments_lexer": "ipython3",
   "version": "3.6.2"
  }
 },
 "nbformat": 4,
 "nbformat_minor": 2
}
