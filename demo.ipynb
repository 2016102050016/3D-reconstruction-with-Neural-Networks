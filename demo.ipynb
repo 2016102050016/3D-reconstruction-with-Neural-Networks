{
 "cells": [
  {
   "cell_type": "code",
   "execution_count": 1,
   "metadata": {},
   "outputs": [],
   "source": [
    "%load_ext autoreload\n",
    "%autoreload 2\n",
    "%matplotlib inline"
   ]
  },
  {
   "cell_type": "code",
   "execution_count": 2,
   "metadata": {},
   "outputs": [],
   "source": [
    "import os\n",
    "import sys\n",
    "import math\n",
    "import time\n",
    "import random\n",
    "import numpy as np\n",
    "import pandas as pd\n",
    "import tensorflow as tf\n",
    "import matplotlib.pyplot as plt\n",
    "import lib.dataset as dataset\n",
    "import lib.network as network\n",
    "import lib.path as path\n",
    "import lib.utils as utils"
   ]
  },
  {
   "cell_type": "code",
   "execution_count": 3,
   "metadata": {},
   "outputs": [],
   "source": [
    "data_all=np.array(sorted(path.construct_path_lists(\"out\",\"data_\")))\n",
    "label_all=np.array(sorted(path.construct_path_lists(\"out\",\"labels_\")))"
   ]
  },
  {
   "cell_type": "code",
   "execution_count": 4,
   "metadata": {},
   "outputs": [
    {
     "name": "stdout",
     "output_type": "stream",
     "text": [
      "learn_rate 0.1, epochs 1, batch_size 3\n",
      "creating network...\n",
      "encoder_network\n",
      "recurrent_module\n",
      "decoder_network\n",
      "loss_function\n",
      "...network created\n"
     ]
    }
   ],
   "source": [
    "net=network.R2N2()"
   ]
  },
  {
   "cell_type": "code",
   "execution_count": 5,
   "metadata": {},
   "outputs": [],
   "source": [
    "i=1\n",
    "x=utils.to_npy(data_all[i])\n",
    "y=utils.to_npy(label_all[i])"
   ]
  },
  {
   "cell_type": "code",
   "execution_count": null,
   "metadata": {},
   "outputs": [],
   "source": [
    "states_all=net.get_decoder_state(x,y)"
   ]
  },
  {
   "cell_type": "code",
   "execution_count": null,
   "metadata": {},
   "outputs": [],
   "source": [
    "y_hat=net.predict(x)"
   ]
  },
  {
   "cell_type": "code",
   "execution_count": null,
   "metadata": {},
   "outputs": [],
   "source": [
    "utils.imshow_voxel(y_hat[0])"
   ]
  },
  {
   "cell_type": "code",
   "execution_count": null,
   "metadata": {},
   "outputs": [],
   "source": [
    "plt.plot(states_all[23][0,1,2,3,:])"
   ]
  },
  {
   "cell_type": "code",
   "execution_count": null,
   "metadata": {},
   "outputs": [],
   "source": [
    "plt.plot(states_all[7][0,23])"
   ]
  },
  {
   "cell_type": "code",
   "execution_count": null,
   "metadata": {},
   "outputs": [],
   "source": [
    "utils.imshow_voxel(a[0,:,:,:,0])"
   ]
  },
  {
   "cell_type": "code",
   "execution_count": null,
   "metadata": {},
   "outputs": [],
   "source": [
    "model_dir=\"out/model_{}_{}_{} {}\".format(learning_rate,epoch,batch_size,datetime.now().strftime(\"%Y-%m-%d_%H:%M:%S\"))\n",
    "    \n",
    "# train network\n",
    "loss_all=[]\n",
    "acc_all=[]\n",
    "print(\"starting training\")\n",
    "for e in range(epoch):\n",
    "    start_time=time.time()\n",
    "    loss_epoch=[]\n",
    "    batch_number=0\n",
    "    data_batchs,label_batchs=utils.get_batchs(data_all,label_all,batch_size)\n",
    "    for data,label in zip(data_batchs,label_batchs):\n",
    "        loss_epoch.append(net.train_step(data,label))\n",
    "        print(\"epoch_{:03d}-batch_{:03d}: loss={}\".format(e,batch_number,loss_epoch[-1]))\n",
    "        batch_number+=1\n",
    "    loss_all.append(loss_epoch)\n",
    "    net.save(\"{}/epoch_{:03d}\".format(model_dir,e),\"loss\",loss_all)\n",
    "    print(\"epoch %d took %d seconds\"%(e,time.time()-start_time))"
   ]
  }
 ],
 "metadata": {
  "kernelspec": {
   "display_name": "Python 3",
   "language": "python",
   "name": "python3"
  },
  "language_info": {
   "codemirror_mode": {
    "name": "ipython",
    "version": 3
   },
   "file_extension": ".py",
   "mimetype": "text/x-python",
   "name": "python",
   "nbconvert_exporter": "python",
   "pygments_lexer": "ipython3",
   "version": "3.6.2"
  }
 },
 "nbformat": 4,
 "nbformat_minor": 2
}
