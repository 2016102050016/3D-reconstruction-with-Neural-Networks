{
 "cells": [
  {
   "cell_type": "code",
   "execution_count": 1,
   "metadata": {},
   "outputs": [],
   "source": [
    "import os\n",
    "import sys\n",
    "import math\n",
    "import time\n",
    "import random\n",
    "import numpy as np\n",
    "import pandas as pd\n",
    "import tensorflow as tf\n",
    "import matplotlib.pyplot as plt\n",
    "import lib.params as params\n",
    "import lib.network as network\n",
    "import lib.utils as utils\n",
    "from datetime import datetime"
   ]
  },
  {
   "cell_type": "code",
   "execution_count": 2,
   "metadata": {},
   "outputs": [
    {
     "name": "stdout",
     "output_type": "stream",
     "text": [
      "training with a learning rate of 0.1 for 1 epochs with batchs of size 3\n"
     ]
    }
   ],
   "source": [
    "%load_ext autoreload\n",
    "%autoreload 2\n",
    "#read params\n",
    "with open(\"config/train.params\") as f:\n",
    "    learning_rate=float(params.read_param(f.readline()))\n",
    "    batch_size=int(params.read_param(f.readline()))\n",
    "    epoch=int(params.read_param(f.readline()))\n",
    "   \n",
    "    print(\"training with a learning rate of {} for {} epochs with batchs of size {}\".format(learning_rate,epoch,batch_size))\n",
    "    \n",
    "data_all=np.load(\"out/all_data.npy\")  \n",
    "label_all=np.load(\"out/all_labels.npy\")\n",
    "# print(data_all.shape,label_all.shape)"
   ]
  },
  {
   "cell_type": "code",
   "execution_count": 7,
   "metadata": {},
   "outputs": [
    {
     "name": "stdout",
     "output_type": "stream",
     "text": [
      "training\n",
      "epoch 0 starts\n",
      "epoch_000-batch_000: loss=[[[-0.07121372 -1.3980571  -0.39468667 ..., -7.3202877   4.08890915\n",
      "    0.45083928]\n",
      "  [ 0.03615016 -1.07557905  0.28759524 ..., -5.94372845  4.46613932\n",
      "    0.18392783]\n",
      "  [ 0.23831642 -2.23874879 -0.32606506 ..., -6.57622528  4.95889091\n",
      "    0.10449296]\n",
      "  ..., \n",
      "  [ 0.04859376 -1.28883755  0.07362787 ..., -6.28833342  3.95998311\n",
      "   -0.72899163]\n",
      "  [ 0.49004942 -2.12506771  0.38724765 ..., -7.22942114  4.34837818\n",
      "    0.80953276]\n",
      "  [ 1.10244656 -2.20582247  0.46695802 ..., -4.55524778  5.05661011\n",
      "    0.29440206]]\n",
      "\n",
      " [[ 1.48693013 -2.74202633 -0.64910406 ..., -8.46296024  4.62104511\n",
      "   -0.19534856]\n",
      "  [ 0.46266735 -1.39381409 -0.66477501 ..., -7.64242744  3.26437449\n",
      "    0.53357023]\n",
      "  [ 1.41221774 -2.29748201 -0.72554696 ..., -8.2671299   3.19469261\n",
      "   -0.39396852]\n",
      "  ..., \n",
      "  [ 2.00855613 -2.64269686 -0.01028085 ..., -8.05302048  3.32103491\n",
      "   -0.58228397]\n",
      "  [ 1.53044963 -1.91918111 -0.74095398 ..., -7.60092258  4.440588\n",
      "   -0.48069945]\n",
      "  [ 1.34760976 -1.74707437 -0.70721704 ..., -7.63987637  4.64118958\n",
      "    0.36106062]]\n",
      "\n",
      " [[ 0.58073127 -2.37715483  0.60307646 ..., -6.4601841   4.53796291\n",
      "    0.5506888 ]\n",
      "  [ 0.53571177 -1.74628472  0.79113847 ..., -5.52520752  4.95707655\n",
      "    0.815395  ]\n",
      "  [ 0.29704458 -0.51673371  0.0520995  ..., -5.31093502  4.5503459\n",
      "    0.09284014]\n",
      "  ..., \n",
      "  [-0.17354798 -1.32905507  0.61656201 ..., -5.09856224  4.92591476\n",
      "   -0.0736784 ]\n",
      "  [ 1.01302516 -1.52545142 -0.42815238 ..., -6.3793788   3.52339053\n",
      "    0.16701967]\n",
      "  [ 1.00789976 -1.72447443  0.24799058 ..., -7.26090431  3.806283\n",
      "    0.36600664]]]\n"
     ]
    },
    {
     "ename": "SystemExit",
     "evalue": "",
     "output_type": "error",
     "traceback": [
      "An exception has occurred, use %tb to see the full traceback.\n",
      "\u001b[0;31mSystemExit\u001b[0m\n"
     ]
    },
    {
     "name": "stderr",
     "output_type": "stream",
     "text": [
      "/anaconda3/lib/python3.6/site-packages/IPython/core/interactiveshell.py:2918: UserWarning: To exit: use 'exit', 'quit', or Ctrl-D.\n",
      "  warn(\"To exit: use 'exit', 'quit', or Ctrl-D.\", stacklevel=1)\n"
     ]
    }
   ],
   "source": [
    "%matplotlib inline\n",
    "print(\"training\")\n",
    "net=network.R2N2(learning_rate)\n",
    "model_dir=\"out/model_{}_{}_{} {}\".format(learning_rate,epoch,batch_size,datetime.now().strftime(\"%Y-%m-%d_%H:%M:%S\"))\n",
    "if not os.path.isdir(model_dir):\n",
    "    os.makedirs(model_dir)\n",
    "\n",
    "# train network\n",
    "loss_all=[]\n",
    "acc_all=[]\n",
    "N=len(data_all)\n",
    "for e in range(epoch):\n",
    "    start_time=time.time()\n",
    "    perm=np.random.permutation(N)\n",
    "    data_all=data_all[perm]\n",
    "    label_all=label_all[perm]\n",
    "    split_size=math.ceil(N/batch_size)\n",
    "    data_batchs=np.array_split(data_all,split_size)\n",
    "    label_batchs=np.array_split(label_all,split_size)\n",
    "    \n",
    "    print(\"epoch %d starts\"%(e))\n",
    "    save_dir=\"{}/epoch_{:03d}\".format(model_dir,e)\n",
    "    if not os.path.isdir(save_dir):\n",
    "            os.makedirs(save_dir)\n",
    "    loss_epoch=[]\n",
    "    acc_epoch=[]\n",
    "    batch_number=0\n",
    "    for data,label in zip(data_batchs,label_batchs):\n",
    "        fd={net.X:data, net.Y: label}\n",
    "#         train_step=net.train_step(fd)\n",
    "#         net.save_hidden_state(save_dir,fd)\n",
    "        loss_epoch.append(net.final_encoder_state.eval(fd))\n",
    "#         acc_epoch.append(net.mean_accuracy.eval(fd))\n",
    "        print(\"epoch_{:03d}-batch_{:03d}: loss={}\".format(e,batch_number,loss_epoch[-1]))\n",
    "        batch_number+=1\n",
    "        sys.exit()\n",
    "        \n",
    "            \n",
    "    loss_all.append(loss_epoch)\n",
    "    acc_all.append(acc_epoch)\n",
    "    net.save(save_dir,loss_all,acc_all)\n",
    "    print(\"epoch %d took %d seconds\"%(e,time.time()-start_time))"
   ]
  },
  {
   "cell_type": "code",
   "execution_count": null,
   "metadata": {},
   "outputs": [],
   "source": []
  }
 ],
 "metadata": {
  "kernelspec": {
   "display_name": "Python 3",
   "language": "python",
   "name": "python3"
  },
  "language_info": {
   "codemirror_mode": {
    "name": "ipython",
    "version": 3
   },
   "file_extension": ".py",
   "mimetype": "text/x-python",
   "name": "python",
   "nbconvert_exporter": "python",
   "pygments_lexer": "ipython3",
   "version": "3.6.2"
  }
 },
 "nbformat": 4,
 "nbformat_minor": 2
}
