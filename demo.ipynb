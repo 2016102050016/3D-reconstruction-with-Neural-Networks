{
 "cells": [
  {
   "cell_type": "code",
   "execution_count": 1,
   "metadata": {},
   "outputs": [
    {
     "name": "stderr",
     "output_type": "stream",
     "text": [
      "Using TensorFlow backend.\n"
     ]
    }
   ],
   "source": [
    "import os\n",
    "import random\n",
    "import numpy as np\n",
    "import matplotlib.pyplot as plt\n",
    "import utils\n",
    "import datasets\n",
    "import keras.backend as K\n",
    "from keras.models import Model\n",
    "from keras.callbacks import TensorBoard\n",
    "from keras.layers import Input, Reshape\n",
    "from keras.layers import Conv2D, MaxPooling2D, Activation , Flatten, Dense\n",
    "from keras.layers import RNN, LSTM, GRU, ConvLSTM2D\n",
    "from keras.layers import Deconv3D,UpSampling3D, Activation"
   ]
  },
  {
   "cell_type": "code",
   "execution_count": 2,
   "metadata": {},
   "outputs": [],
   "source": [
    "# some magic commands\n",
    "# %load_ext autoreload\n",
    "%matplotlib inline"
   ]
  },
  {
   "cell_type": "code",
   "execution_count": 3,
   "metadata": {},
   "outputs": [
    {
     "name": "stdout",
     "output_type": "stream",
     "text": [
      "[load_dataset] loading ShapeNet\n",
      "[construct_paths] for dir ShapeNet\n",
      "[fetch_renders_from_disk]\n"
     ]
    },
    {
     "data": {
      "text/plain": [
       "<matplotlib.image.AxesImage at 0x1a20992a58>"
      ]
     },
     "execution_count": 3,
     "metadata": {},
     "output_type": "execute_result"
    },
    {
     "data": {
      "image/png": "[encoded data removed]",
      "text/plain": [
       "<matplotlib.figure.Figure at 0x1a208d64a8>"
      ]
     },
     "metadata": {},
     "output_type": "display_data"
    }
   ],
   "source": [
    "# load data and display random example\n",
    "X=datasets.load_dataset(\"ShapeNet\")\n",
    "input_shape=X.shape[1:]\n",
    "plt.imshow(random.choice(X))"
   ]
  },
  {
   "cell_type": "code",
   "execution_count": 4,
   "metadata": {},
   "outputs": [],
   "source": [
    "# net parameters\n",
    "conv_filter_count = [96, 128, 256, 256, 256, 256]\n",
    "deconv_filter_count = [128, 128, 128, 64, 32, 2]"
   ]
  },
  {
   "cell_type": "code",
   "execution_count": 8,
   "metadata": {},
   "outputs": [
    {
     "name": "stdout",
     "output_type": "stream",
     "text": [
      "(5, 512, 512, 3)\n",
      "(?, 255, 255, 96)\n",
      "(?, 126, 126, 128)\n",
      "(?, 62, 62, 256)\n",
      "(?, 30, 30, 256)\n",
      "(?, 14, 14, 256)\n",
      "(?, 6, 6, 256)\n"
     ]
    }
   ],
   "source": [
    "# encoder network\n",
    "print(X.shape)\n",
    "cur_tensor=Input(shape=input_shape);\n",
    "\n",
    "k_s = [3,3]\n",
    "for i in range(6):   \n",
    "    ks=[7,7] if i is 0 else k_s       \n",
    "    cur_tensor=Conv2D(filters=conv_filter_count[i],kernel_size= k_s)(cur_tensor)\n",
    "    cur_tensor=MaxPooling2D()(cur_tensor)\n",
    "    cur_tensor=Activation('relu')(cur_tensor)\n",
    "    print(cur_tensor.shape)"
   ]
  },
  {
   "cell_type": "code",
   "execution_count": null,
   "metadata": {},
   "outputs": [],
   "source": [
    "# construct feature vector\n",
    "cur_tensor=Flatten()(cur_tensor)\n",
    "print(cur_tensor.shape)\n",
    "cur_tensor=Dense(1024)(cur_tensor)\n",
    "print(cur_tensor.shape)"
   ]
  },
  {
   "cell_type": "code",
   "execution_count": null,
   "metadata": {},
   "outputs": [],
   "source": [
    "g_cell=GRU(1024)\n",
    "cur_tensor=Reshape([1,1024])(cur_tensor)\n",
    "cur_tensor=g_cell(cur_tensor)"
   ]
  },
  {
   "cell_type": "code",
   "execution_count": null,
   "metadata": {},
   "outputs": [],
   "source": [
    "# rnn module\n",
    "# %autoreload\n",
    "\n",
    "gru_grid= utils.grid3D("
   ]
  },
  {
   "cell_type": "code",
   "execution_count": null,
   "metadata": {},
   "outputs": [],
   "source": [
    "cur_tensor=gru_grid[0,0,0](cur_tensor)"
   ]
  },
  {
   "cell_type": "code",
   "execution_count": null,
   "metadata": {},
   "outputs": [],
   "source": [
    "# decoder network\n",
    "for i in range(6):\n",
    "    cur_tensor=Deconv3D(filters=deconv_filter_count[i],kernel_size=(3,3,3))(cur_tensor)\n",
    "    cur_tensor=UpSampling3D()(cur_tensor)\n",
    "    cur_tensor=Activation('relu')(cur_tensor)\n",
    "    print(cur_tensor.shape)\n",
    "    \n",
    "print(cur_tensor.shape())"
   ]
  },
  {
   "cell_type": "code",
   "execution_count": null,
   "metadata": {},
   "outputs": [],
   "source": [
    "net = Model(input=input_tensor,output=cur_tensor)"
   ]
  },
  {
   "cell_type": "code",
   "execution_count": null,
   "metadata": {
    "scrolled": false
   },
   "outputs": [],
   "source": [
    "net.compile(optimizer='sgd',\n",
    "              loss='categorical_crossentropy',\n",
    "              metrics=['accuracy'])"
   ]
  },
  {
   "cell_type": "code",
   "execution_count": null,
   "metadata": {},
   "outputs": [],
   "source": [
    "os.system(\"rm -rf ./logs/*\")\n",
    "tensor_board=TensorBoard(log_dir='./logs', histogram_freq=0, batch_size=32, write_graph=True, write_grads=False, write_images=False, embeddings_freq=0, embeddings_layer_names=None, embeddings_metadata=None)\n",
    "net.fit(X,np.random.rand(len(X),1024),epochs=1,callbacks=[tensor_board])"
   ]
  },
  {
   "cell_type": "code",
   "execution_count": null,
   "metadata": {},
   "outputs": [],
   "source": []
  }
 ],
 "metadata": {
  "kernelspec": {
   "display_name": "Python 3",
   "language": "python",
   "name": "python3"
  },
  "language_info": {
   "codemirror_mode": {
    "name": "ipython",
    "version": 3
   },
   "file_extension": ".py",
   "mimetype": "text/x-python",
   "name": "python",
   "nbconvert_exporter": "python",
   "pygments_lexer": "ipython3",
   "version": "3.6.2"
  }
 },
 "nbformat": 4,
 "nbformat_minor": 2
}
