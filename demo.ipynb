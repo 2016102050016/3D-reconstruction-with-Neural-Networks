{
 "cells": [
  {
   "cell_type": "code",
   "execution_count": null,
   "metadata": {},
   "outputs": [],
   "source": [
    "import os\n",
    "import sys\n",
    "import math\n",
    "import utils\n",
    "import random\n",
    "import layers\n",
    "import dataset\n",
    "import binvox_rw\n",
    "import numpy as np\n",
    "import pandas as pd\n",
    "from PIL import Image\n",
    "from datetime import datetime\n",
    "import matplotlib.pyplot as plt\n",
    "import tensorflow as tf\n",
    "\n",
    "# tf.contrib.eager.enable_eager_execution() \n",
    "# load data\n",
    "x=tf.placeholder(tf.float32,[36,24,137,137,3]) \n",
    "y=tf.placeholder(tf.float32,[36,32,32,32])\n",
    "\n",
    "shapenet=dataset.ShapeNet()\n",
    "# shapenet.batch_size=1\n",
    "# data,label=shapenet.next_train_batch()"
   ]
  },
  {
   "cell_type": "code",
   "execution_count": null,
   "metadata": {},
   "outputs": [],
   "source": [
    "# encoder network\n",
    "cur_tensor=x\n",
    "encoder_outputs=[cur_tensor]\n",
    "print(cur_tensor.shape)\n",
    "k_s = [3,3]\n",
    "conv_filter_count = [96, 128, 256, 256, 256, 256]\n",
    "for i in range(6): \n",
    "    ks=[7,7]if i is 0 else k_s  \n",
    "    # with tf.name_scope(\"encoding_block\"):\n",
    "    \n",
    "    cur_tensor=tf.map_fn(lambda x:tf.layers.conv2d(x,filters=conv_filter_count[i],padding='SAME',kernel_size= k_s,activation=None),cur_tensor)\n",
    "    cur_tensor=tf.map_fn(lambda x:tf.layers.max_pooling2d(x,2,2),cur_tensor)\n",
    "    cur_tensor=tf.map_fn(tf.nn.relu,cur_tensor)\n",
    "    print(cur_tensor.shape)\n",
    "    encoder_outputs.append(cur_tensor)\n",
    "\n",
    "# flatten tensors\n",
    "cur_tensor=tf.map_fn(tf.contrib.layers.flatten,cur_tensor)\n",
    "cur_tensor=tf.map_fn(lambda x:tf.contrib.layers.fully_connected(x,1024,activation_fn=None),cur_tensor)\n",
    "encoder_outputs.append(cur_tensor)\n",
    "print(cur_tensor.shape)"
   ]
  },
  {
   "cell_type": "code",
   "execution_count": null,
   "metadata": {},
   "outputs": [],
   "source": [
    "# recurrent module\n",
    "cur_tensor=encoder_outputs[-1]\n",
    "stacked_input=cur_tensor\n",
    "for i in range(3):\n",
    "    stacked_input=tf.stack([stacked_input]*4,axis=0)\n",
    "print(stacked_input.shape)\n",
    "    \n",
    "# grid takes batches of sequences\n",
    "lstm3D=layers.lstm_grid();\n",
    "cur_state=lstm3D.state\n",
    "for t in range(24):\n",
    "    batch_frames=stacked_input[:,:,:,:,t,:]\n",
    "    cur_tensor, cur_state=lstm3D.lstm_grid_call(batch_frames, cur_state)\n",
    "\n",
    "print(cur_tensor.shape)\n",
    "cur_tensor=tf.transpose(cur_tensor,[3,0,1,2,4])\n",
    "print(cur_tensor.shape)"
   ]
  },
  {
   "cell_type": "code",
   "execution_count": null,
   "metadata": {},
   "outputs": [],
   "source": [
    "# decoding network\n",
    "# batch_size=cur_tensor.shape.as_list()[0]\n",
    "# cur_tensor=tf.reshape(cur_tensor,[batch_size,2,2,2,-1])\n",
    "# print(cur_tensor.shape)\n",
    "\n",
    "decoder_outputs=[]\n",
    "cur_tensor=layers.unpool3D(cur_tensor)\n",
    "print(cur_tensor.shape)\n",
    "decoder_outputs.append(cur_tensor)\n",
    "\n",
    "k_s = [3,3,3]\n",
    "deconv_filter_count = [128, 128, 128, 64, 32, 2]\n",
    "for i in range(2,4): \n",
    "    # with tf.name_scope(\"decoding_block\"):\n",
    "    cur_tensor=tf.layers.conv3d_transpose(cur_tensor,padding='SAME',filters=deconv_filter_count[i],kernel_size= k_s,activation=None)\n",
    "    cur_tensor=layers.unpool3D(cur_tensor)\n",
    "    cur_tensor=tf.nn.relu(cur_tensor)\n",
    "    print(cur_tensor.shape)\n",
    "    decoder_outputs.append(cur_tensor)\n",
    "            \n",
    "for i in range(4,6): \n",
    "    # with tf.name_scope(\"decoding_block_without_unpooling\"):\n",
    "    cur_tensor=tf.layers.conv3d_transpose(cur_tensor,padding='SAME',filters=deconv_filter_count[i],kernel_size= k_s,activation=None)\n",
    "    cur_tensor=tf.nn.relu(cur_tensor)\n",
    "    print(cur_tensor.shape)\n",
    "    decoder_outputs.append(cur_tensor)"
   ]
  },
  {
   "cell_type": "code",
   "execution_count": null,
   "metadata": {},
   "outputs": [],
   "source": [
    "#3d voxel-wise softmax\n",
    "y_hat=tf.nn.softmax(decoder_outputs[-1])\n",
    "p=y_hat[:,:,:,:,0]\n",
    "q=y_hat[:,:,:,:,1]\n",
    "cross_entropies=tf.reduce_sum(-tf.multiply(tf.log(p),y)-tf.multiply(tf.log(q),1-y),[1,2,3])\n",
    "loss=tf.reduce_mean(cross_entropies)\n",
    "optimizer = tf.train.GradientDescentOptimizer(0.1).minimize(loss)"
   ]
  },
  {
   "cell_type": "code",
   "execution_count": null,
   "metadata": {},
   "outputs": [],
   "source": [
    "# setup training\n",
    "sess=tf.Session()\n",
    "root_train_dir = \"train_dir\"\n",
    "cur_time = str(datetime.now().strftime('%I:%M:%S%p %Y/%m/%d'))\n",
    "train_dir=os.path.join(root_train_dir,'session_{}'.format(cur_time))\n",
    "saver = tf.train.Saver()\n",
    "init=tf.global_variables_initializer()\n",
    "sess.run(init)\n",
    "\n",
    "# train network\n",
    "print(\"starting training at {}\".format(cur_time))\n",
    "loss_session=[]\n",
    "loss_all=[]\n",
    "epoch=5\n",
    "for e in range(epoch):\n",
    "    loss_epoch=[]\n",
    "    # print(\"starting epoch_{:03d}\".format(e))\n",
    "    epoch_dir=\"{}/epoch_{:03d}\".format(train_dir,e)\n",
    "    os.makedirs(epoch_dir)\n",
    "    batch_number=0\n",
    "    shapenet.reset()\n",
    "    data,label=shapenet.next_train_batch()\n",
    "    while(data is not None): \n",
    "        fd={x:data, y: label};\n",
    "        batch_info=sess.run([loss,tf.trainable_variables()],feed_dict=fd)\n",
    "        loss_batch=batch_info[0]\n",
    "#         weight=batch_info[1][0]\n",
    "#         print(type(weight))\n",
    "#         np.savetxt(\"weight.txt\",weight)\n",
    "        loss_epoch.append(loss_batch) \n",
    "        train=shapenet.next_train_batch() # update\n",
    "        batch_number+=1\n",
    "        # show info about current batch\n",
    "        if batch_number%100==0:\n",
    "            print(\"epoch_{:03d}-batch_{:03d}: loss={}\".format(e,batch_number,loss_batch))\n",
    "\n",
    "    loss_session.append(loss_epoch)\n",
    "    loss_all+=loss_epoch\n",
    "    # record parameters and generate plots \n",
    "    fig = plt.figure()\n",
    "    plt.plot(loss_session)\n",
    "    plt.savefig(\"{}/loss.png\".format(epoch_dir),bbox_inches='tight')\n",
    "    saver.save(sess,\"{}/model.ckpt\".format(epoch_dir))\n",
    "    plt.close()\n",
    "    # save epoch losses"
   ]
  },
  {
   "cell_type": "code",
   "execution_count": null,
   "metadata": {},
   "outputs": [],
   "source": [
    "# tensorboard\n",
    "writer = tf.summary.FileWriter(\"./logs/\")\n",
    "writer.add_graph(sess.graph)"
   ]
  },
  {
   "cell_type": "code",
   "execution_count": null,
   "metadata": {},
   "outputs": [],
   "source": [
    "im_3d=encoder_outputs[1].eval(session=sess,feed_dict=fd)[0]\n",
    "im_2d=utils.flatten_multichannel_image(im_3d)\n",
    "plt.imsave(\"test.png\",im_2d)"
   ]
  },
  {
   "cell_type": "code",
   "execution_count": null,
   "metadata": {},
   "outputs": [],
   "source": [
    "# model output as a voxelized image\n",
    "out=tf.cast(tf.argmax(y_hat,axis=4),dtype=tf.float32)\n",
    "out=sess.run(out,feed_dict=fd)\n",
    "outvoxel=binvox_rw.Voxels(out,out.shape,[0,0,0],1,'xzy')\n",
    "with open(\"out/cur_output.binvox\",'w') as f:\n",
    "    outvoxel.write(f)"
   ]
  }
 ],
 "metadata": {
  "kernelspec": {
   "display_name": "Python 3",
   "language": "python",
   "name": "python3"
  },
  "language_info": {
   "codemirror_mode": {
    "name": "ipython",
    "version": 3
   },
   "file_extension": ".py",
   "mimetype": "text/x-python",
   "name": "python",
   "nbconvert_exporter": "python",
   "pygments_lexer": "ipython3",
   "version": "3.6.2"
  }
 },
 "nbformat": 4,
 "nbformat_minor": 2
}
