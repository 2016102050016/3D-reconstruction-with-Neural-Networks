{
 "cells": [
  {
   "cell_type": "code",
   "execution_count": 4,
   "metadata": {},
   "outputs": [],
   "source": [
    "import os\n",
    "import sys\n",
    "import math\n",
    "import random\n",
    "import numpy as np\n",
    "import pandas as pd\n",
    "import tensorflow as tf\n",
    "import matplotlib.pyplot as plt\n",
    "import lib.params as params\n",
    "import lib.network as network\n",
    "import lib.utils as utils\n",
    "from datetime import datetime\n",
    "import time"
   ]
  },
  {
   "cell_type": "code",
   "execution_count": 5,
   "metadata": {},
   "outputs": [
    {
     "name": "stdout",
     "output_type": "stream",
     "text": [
      "The autoreload extension is already loaded. To reload it, use:\n",
      "  %reload_ext autoreload\n",
      "training with a learning rate of 0.1 for 1 epochs with batchs of size 3\n"
     ]
    }
   ],
   "source": [
    "%load_ext autoreload\n",
    "%autoreload 2\n",
    "#read params\n",
    "with open(\"config/train.params\") as f:\n",
    "    learning_rate=float(params.read_param(f.readline()))\n",
    "    batch_size=int(params.read_param(f.readline()))\n",
    "    epoch=int(params.read_param(f.readline()))\n",
    "   \n",
    "    print(\"training with a learning rate of {} for {} epochs with batchs of size {}\".format(learning_rate,epoch,batch_size))\n",
    "    \n",
    "data_all=np.load(\"out/all_data.npy\")  \n",
    "label_all=np.load(\"out/all_labels.npy\")\n",
    "# print(data_all.shape,label_all.shape)"
   ]
  },
  {
   "cell_type": "code",
   "execution_count": 10,
   "metadata": {},
   "outputs": [
    {
     "name": "stdout",
     "output_type": "stream",
     "text": [
      "init network\n",
      "training\n",
      "epoch_000-batch_000: loss=0.6897974826657185\n",
      "epoch_000-batch_001: loss=0.6906845889811851\n",
      "epoch_000-batch_002: loss=0.6896974887996004\n",
      "epoch_000-batch_003: loss=0.6913641449402903\n",
      "epoch 0 took 265 seconds\n"
     ]
    },
    {
     "ename": "SystemExit",
     "evalue": "",
     "output_type": "error",
     "traceback": [
      "An exception has occurred, use %tb to see the full traceback.\n",
      "\u001b[0;31mSystemExit\u001b[0m\n"
     ]
    },
    {
     "name": "stderr",
     "output_type": "stream",
     "text": [
      "/anaconda3/lib/python3.6/site-packages/IPython/core/interactiveshell.py:2918: UserWarning: To exit: use 'exit', 'quit', or Ctrl-D.\n",
      "  warn(\"To exit: use 'exit', 'quit', or Ctrl-D.\", stacklevel=1)\n"
     ]
    },
    {
     "data": {
      "text/plain": [
       "<matplotlib.figure.Figure at 0x2249bf860>"
      ]
     },
     "metadata": {},
     "output_type": "display_data"
    }
   ],
   "source": [
    "%matplotlib inline\n",
    "print(\"init network\")\n",
    "net=network.R2N2(learning_rate)\n",
    "model_dir=\"out/model_{}_{}_{} {}\".format(learning_rate,epoch,batch_size,datetime.now().strftime(\"%Y-%m-%d_%H:%M:%S\"))\n",
    "if not os.path.isdir(model_dir):\n",
    "    os.makedirs(model_dir)\n",
    "\n",
    "# train network\n",
    "loss_all=[]\n",
    "acc_all=[]\n",
    "N=len(data_all)\n",
    "print(\"training\")\n",
    "for e in range(epoch):\n",
    "    start_time=time.time()\n",
    "    perm=np.random.permutation(N)\n",
    "    data_all=data_all[perm]\n",
    "    label_all=label_all[perm]\n",
    "    split_size=math.ceil(N/batch_size)\n",
    "    data_batchs=np.array_split(data_all,split_size)\n",
    "    label_batchs=np.array_split(label_all,split_size)\n",
    "    \n",
    "    save_dir=\"{}/epoch_{:03d}\".format(model_dir,e)\n",
    "    if not os.path.isdir(save_dir):\n",
    "            os.makedirs(save_dir)\n",
    "    loss_epoch=[]\n",
    "    acc_epoch=[]\n",
    "    batch_number=0\n",
    "    for data,label in zip(data_batchs,label_batchs):\n",
    "        fd={net.X:data, net.Y: label}\n",
    "#         train_step=net.train_step(fd)\n",
    "#         net.save_hidden_state(save_dir,fd)\n",
    "        loss_epoch.append(net.batch_loss.eval(fd))\n",
    "#         acc_epoch.append(net.mean_accuracy.eval(fd))\n",
    "        print(\"epoch_{:03d}-batch_{:03d}: loss={}\".format(e,batch_number,loss_epoch[-1]))\n",
    "        batch_number+=1\n",
    "        \n",
    "    loss_all.append(loss_epoch)\n",
    "    acc_all.append(acc_epoch)\n",
    "    net.save(save_dir,loss_all,acc_all)\n",
    "    print(\"epoch %d took %d seconds\"%(e,time.time()-start_time))"
   ]
  }
 ],
 "metadata": {
  "kernelspec": {
   "display_name": "Python 3",
   "language": "python",
   "name": "python3"
  },
  "language_info": {
   "codemirror_mode": {
    "name": "ipython",
    "version": 3
   },
   "file_extension": ".py",
   "mimetype": "text/x-python",
   "name": "python",
   "nbconvert_exporter": "python",
   "pygments_lexer": "ipython3",
   "version": "3.6.2"
  }
 },
 "nbformat": 4,
 "nbformat_minor": 2
}
