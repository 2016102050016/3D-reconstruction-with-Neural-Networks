{
 "cells": [
  {
   "cell_type": "code",
   "execution_count": 24,
   "metadata": {},
   "outputs": [],
   "source": [
    "import os\n",
    "import sys\n",
    "import utils\n",
    "import random\n",
    "import dataset\n",
    "import binvox_rw\n",
    "import numpy as np\n",
    "import pandas as pd\n",
    "from PIL import Image\n",
    "from datetime import datetime\n",
    "import matplotlib.pyplot as plt\n",
    "import tensorflow as tf\n",
    "# import tensorflow.contrib.eager as tfe\n",
    "# tfe.enable_eager_execution()"
   ]
  },
  {
   "cell_type": "code",
   "execution_count": null,
   "metadata": {},
   "outputs": [],
   "source": [
    "# load data\n",
    "shapenet=dataset.ShapeNet()\n",
    "# shapenet.batch_size=3\n",
    "\n",
    "# with tf.name_scope('input'):\n",
    "x=tf.placeholder(tf.float32,[shapenet.batch_size,137,137,3])\n",
    "y=tf.placeholder(tf.float32,[shapenet.batch_size,32,32,32])"
   ]
  },
  {
   "cell_type": "code",
   "execution_count": null,
   "metadata": {},
   "outputs": [],
   "source": [
    "# encoder network\n",
    "cur_tensor=x\n",
    "encoder_outputs=[x]\n",
    "print(cur_tensor.shape)\n",
    "\n",
    "k_s = [3,3]\n",
    "conv_filter_count = [96, 128, 256, 256, 256, 256]\n",
    "for i in range(6): \n",
    "    ks=[7,7]if i is 0 else k_s  \n",
    "    # with tf.name_scope(\"encoding_block\"):\n",
    "    cur_tensor=tf.layers.conv2d(cur_tensor,filters=conv_filter_count[i],padding='SAME',kernel_size= k_s,activation=None)\n",
    "    cur_tensor=tf.layers.max_pooling2d(cur_tensor,2,2)\n",
    "    cur_tensor=tf.nn.relu(cur_tensor)\n",
    "    print(cur_tensor.shape)\n",
    "    encoder_outputs.append(cur_tensor)\n",
    "\n",
    "# flatten tensor\n",
    "cur_tensor=tf.contrib.layers.flatten(cur_tensor)\n",
    "cur_tensor=tf.contrib.layers.fully_connected(cur_tensor,1024,activation_fn=None)\n",
    "print(cur_tensor.shape)\n",
    "encoder_outputs.append(cur_tensor)"
   ]
  },
  {
   "cell_type": "code",
   "execution_count": null,
   "metadata": {},
   "outputs": [],
   "source": [
    "# 3D_Convolutional_LSTM \n",
    "cur_tensor=encoder_outputs[-1]\n",
    "# with tf.name_scope(\"3D_LSTM\"):\n",
    "h_t=tf.Variable(tf.zeros([4,4,4,1,256]),name=\"hidden_state\")\n",
    "s_t=tf.Variable(tf.zeros([4,4,4,1,256]),name=\"cell_state\")\n",
    "\n",
    "# W,U,b for f,i,s,o\n",
    "W=[tf.Variable(tf.zeros([1024,256]),name=\"W%d\"%(i)) for i in range(4)]\n",
    "U=[tf.Variable(tf.zeros([3,3,3,256,256]),name=\"U%d\"%(i)) for i in range(4)]\n",
    "b=[tf.Variable(tf.zeros([1,256]),name=\"b%d\"%(i)) for i in range(4)]\n",
    "\n",
    "Wx=[tf.matmul(cur_tensor, W[i]) for i in range(4)]\n",
    "Uh=[tf.nn.convolution(h_t,U[i],padding=\"SAME\") for i in range(4)]\n",
    "\n",
    "\n",
    "f_t=tf.sigmoid(Wx[0] + Uh[0] + b[0])\n",
    "i_t=tf.sigmoid(Wx[1] + Uh[1] + b[1])\n",
    "o_t=tf.sigmoid(Wx[2]+ Uh[2] + b[2])\n",
    "s_t=tf.multiply(f_t,s_t) + tf.multiply(i_t,tf.tanh(Wx[3]+ Uh[3] + b[3]))\n",
    "h_t=tf.tanh(s_t)\n",
    "\n",
    "cur_tensor=tf.transpose(h_t,[3,0,1,2,4])\n",
    "print(cur_tensor.shape)"
   ]
  },
  {
   "cell_type": "code",
   "execution_count": null,
   "metadata": {},
   "outputs": [],
   "source": [
    "# decoding network\n",
    "# batch_size=cur_tensor.shape.as_list()[0]\n",
    "# cur_tensor=tf.reshape(cur_tensor,[batch_size,2,2,2,-1])\n",
    "# print(cur_tensor.shape)\n",
    "\n",
    "decoder_outputs=[]\n",
    "cur_tensor=utils.unpool(cur_tensor)\n",
    "print(cur_tensor.shape)\n",
    "decoder_outputs.append(cur_tensor)\n",
    "\n",
    "k_s = [3,3,3]\n",
    "deconv_filter_count = [128, 128, 128, 64, 32, 2]\n",
    "for i in range(2,4): \n",
    "    # with tf.name_scope(\"decoding_block\"):\n",
    "    cur_tensor=tf.layers.conv3d_transpose(cur_tensor,padding='SAME',filters=deconv_filter_count[i],kernel_size= k_s,activation=None)\n",
    "    cur_tensor=utils.unpool(cur_tensor)\n",
    "    cur_tensor=tf.nn.relu(cur_tensor)\n",
    "    print(cur_tensor.shape)\n",
    "    decoder_outputs.append(cur_tensor)\n",
    "            \n",
    "for i in range(4,6): \n",
    "    # with tf.name_scope(\"decoding_block_without_unpooling\"):\n",
    "    cur_tensor=tf.layers.conv3d_transpose(cur_tensor,padding='SAME',filters=deconv_filter_count[i],kernel_size= k_s,activation=None)\n",
    "    cur_tensor=tf.nn.relu(cur_tensor)\n",
    "    print(cur_tensor.shape)\n",
    "    decoder_outputs.append(cur_tensor)"
   ]
  },
  {
   "cell_type": "code",
   "execution_count": null,
   "metadata": {},
   "outputs": [],
   "source": [
    "#3d voxel-wise softmax\n",
    "y_hat=tf.nn.softmax(decoder_outputs[-1])\n",
    "p=y_hat[:,:,:,:,0]\n",
    "q=y_hat[:,:,:,:,1]\n",
    "cross_entropies=tf.reduce_sum(-tf.multiply(tf.log(p),y)-tf.multiply(tf.log(q),1-y),[1,2,3])\n",
    "loss_voxel=tf.reduce_mean(cross_entropies)\n",
    "optimizer = tf.train.GradientDescentOptimizer(0.5).minimize(loss_voxel)\n",
    "\n",
    "sess=tf.Session()"
   ]
  },
  {
   "cell_type": "code",
   "execution_count": 7,
   "metadata": {},
   "outputs": [],
   "source": [
    "# setup training\n",
    "root_train_dir = \"train_dir\"\n",
    "cur_time = str(datetime.now()).translate({ord(\" \"): \"_\"})\n",
    "train_dir=os.path.join(root_train_dir,cur_time)\n",
    "saver = tf.train.Saver()\n",
    "init=tf.global_variables_initializer()\n",
    "sess.run(init)"
   ]
  },
  {
   "cell_type": "code",
   "execution_count": 8,
   "metadata": {},
   "outputs": [],
   "source": [
    "train=shapenet.next_train_batch()\n",
    "train_X=dataset.load_dataset(train[:,0])\n",
    "train_Y=dataset.load_labels(train[:,1])\n",
    "fd={x:train_X, y: train_Y};"
   ]
  },
  {
   "cell_type": "code",
   "execution_count": 27,
   "metadata": {},
   "outputs": [
    {
     "name": "stdout",
     "output_type": "stream",
     "text": [
      "(68, 612)\n"
     ]
    },
    {
     "data": {
      "text/plain": [
       "<matplotlib.image.AxesImage at 0x12ad671d0>"
      ]
     },
     "execution_count": 27,
     "metadata": {},
     "output_type": "execute_result"
    },
    {
     "data": {
      "image/png": "[encoded data removed]",
      "text/plain": [
       "<matplotlib.figure.Figure at 0x12e32d208>"
      ]
     },
     "metadata": {},
     "output_type": "display_data"
    },
    {
     "data": {
      "image/png": "[encoded data removed]",
      "text/plain": [
       "<matplotlib.figure.Figure at 0x12f34b5c0>"
      ]
     },
     "metadata": {},
     "output_type": "display_data"
    }
   ],
   "source": [
    "%matplotlib inline\n",
    "im_3d=encoder_outputs[1].eval(session=sess,feed_dict=fd)[0]\n",
    "im_2d=utils.imshow_multichannel(im_3d)\n",
    "im_2d=im_2d[0]\n",
    "im_2d=im_2d\n",
    "print(im_2d.shape)\n",
    "\n",
    "i=2\n",
    "plt.imshow(Image.fromarray(im_2d[:,i*68:(i+1)*68]))\n",
    "plt.figure()\n",
    "plt.imshow(Image.fromarray(im_3d[:,:,2]))\n",
    "\n"
   ]
  },
  {
   "cell_type": "code",
   "execution_count": null,
   "metadata": {},
   "outputs": [],
   "source": [
    "# train network\n",
    "loss=[]\n",
    "epoch=5\n",
    "for e in range(epoch):     \n",
    "    batch_number=0\n",
    "    train=shapenet.next_train_batch()\n",
    "    while(train is not None):\n",
    "        iter_dir=\"{}/epoch_{:03d}/batch_{:03d}\".format(train_dir,e,batch_number)    \n",
    "        os.makedirs(iter_dir)\n",
    "        \n",
    "        train_X=dataset.load_dataset(train[:,0])\n",
    "        train_Y=dataset.load_labels(train[:,1])\n",
    "        fd={x:train_X, y: train_Y};\n",
    "        l=sess.run([loss_voxel],feed_dict=fd)\n",
    "        loss.append(l[0]) \n",
    "        print(\"{}: loss={}\".format(iter_dir,loss[-1]))\n",
    "        \n",
    "        # record parameters and generate plots\n",
    "        fig = plt.figure()\n",
    "        plt.plot(loss)\n",
    "        plt.savefig(\"{}/loss.png\".format(iter_dir),bbox_inches='tight')\n",
    "        saver.save(sess,\"{}/model.ckpt\".format(iter_dir))\n",
    "        plt.close()\n",
    "        # update\n",
    "        train=shapenet.next_train_batch()\n",
    "        batch_number+=1"
   ]
  },
  {
   "cell_type": "code",
   "execution_count": null,
   "metadata": {
    "scrolled": false
   },
   "outputs": [],
   "source": []
  },
  {
   "cell_type": "code",
   "execution_count": null,
   "metadata": {},
   "outputs": [],
   "source": [
    "im.shape"
   ]
  },
  {
   "cell_type": "code",
   "execution_count": null,
   "metadata": {},
   "outputs": [],
   "source": [
    "# tensorboard\n",
    "writer = tf.summary.FileWriter(\"./logs/\")\n",
    "writer.add_graph(sess.graph)"
   ]
  },
  {
   "cell_type": "code",
   "execution_count": null,
   "metadata": {},
   "outputs": [],
   "source": [
    "# model output as a voxelized image\n",
    "out=tf.cast(tf.argmax(y_hat,axis=4),dtype=tf.float32)\n",
    "out=sess.run(out,feed_dict=feed_dict)\n",
    "outvoxel=binvox_rw.Voxels(out,out.shape,[0,0,0],1,'xzy')\n",
    "with open(\"out/{i}.binvox\",'w') as f:\n",
    "    outvoxel.write(f)"
   ]
  },
  {
   "cell_type": "code",
   "execution_count": null,
   "metadata": {},
   "outputs": [],
   "source": []
  }
 ],
 "metadata": {
  "kernelspec": {
   "display_name": "Python 3",
   "language": "python",
   "name": "python3"
  },
  "language_info": {
   "codemirror_mode": {
    "name": "ipython",
    "version": 3
   },
   "file_extension": ".py",
   "mimetype": "text/x-python",
   "name": "python",
   "nbconvert_exporter": "python",
   "pygments_lexer": "ipython3",
   "version": "3.6.2"
  }
 },
 "nbformat": 4,
 "nbformat_minor": 2
}
