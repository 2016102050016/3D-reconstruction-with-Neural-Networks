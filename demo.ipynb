{
 "cells": [
  {
   "cell_type": "code",
   "execution_count": 1,
   "metadata": {},
   "outputs": [
    {
     "name": "stderr",
     "output_type": "stream",
     "text": [
      "Using TensorFlow backend.\n"
     ]
    }
   ],
   "source": [
    "import os\n",
    "import random\n",
    "import numpy as np\n",
    "import matplotlib.pyplot as plt\n",
    "import utils\n",
    "import datasets\n",
    "from keras.models import Sequential\n",
    "from keras.callbacks import TensorBoard\n",
    "from keras.layers import Conv2D, MaxPooling2D, Activation , Flatten, Dense\n",
    "from keras.layers import Deconv3D,UpSampling3D, Activation\n",
    "from keras.layers import LSTM, GRU"
   ]
  },
  {
   "cell_type": "code",
   "execution_count": 2,
   "metadata": {},
   "outputs": [],
   "source": [
    "# some magic commands\n",
    "%matplotlib inline\n",
    "%load_ext autoreload"
   ]
  },
  {
   "cell_type": "code",
   "execution_count": 4,
   "metadata": {},
   "outputs": [
    {
     "name": "stdout",
     "output_type": "stream",
     "text": [
      "[load_dataset] loading ShapeNet\n",
      "[construct_paths] for dir ShapeNet\n",
      "[fetch_renders_from_disk]\n"
     ]
    },
    {
     "data": {
      "text/plain": [
       "<matplotlib.image.AxesImage at 0x1a22b0dac8>"
      ]
     },
     "execution_count": 4,
     "metadata": {},
     "output_type": "execute_result"
    },
    {
     "data": {
      "image/png": "[encoded data removed]",
      "text/plain": [
       "<matplotlib.figure.Figure at 0x1a2250bb70>"
      ]
     },
     "metadata": {},
     "output_type": "display_data"
    }
   ],
   "source": [
    "# get data\n",
    "X=datasets.load_dataset(\"ShapeNet\")\n",
    "input_shape=X.shape[1:]\n",
    "\n",
    "# display sample from data\n",
    "plt.imshow(random.choice(X))"
   ]
  },
  {
   "cell_type": "code",
   "execution_count": 5,
   "metadata": {},
   "outputs": [],
   "source": [
    "net = Sequential()\n",
    "conv_filter_count = [96, 128, 256, 256, 256, 256]\n",
    "deconv_filter_count = [128, 128, 128, 64, 32, 2]"
   ]
  },
  {
   "cell_type": "code",
   "execution_count": 6,
   "metadata": {},
   "outputs": [
    {
     "name": "stdout",
     "output_type": "stream",
     "text": [
      "(5, 512, 512, 3)\n",
      "(?, 252, 252, 128)\n",
      "(?, 125, 125, 256)\n",
      "(?, 61, 61, 256)\n",
      "(?, 29, 29, 256)\n",
      "(?, 13, 13, 256)\n"
     ]
    }
   ],
   "source": [
    "# encoder network\n",
    "print(X.shape)\n",
    "net.add(Conv2D(filters=conv_filter_count[0],kernel_size= (7,7),input_shape=input_shape))\n",
    "for i in range(1,6):\n",
    "    net.add(Conv2D(filters=conv_filter_count[i],kernel_size= (3,3)))\n",
    "    net.add(MaxPooling2D())\n",
    "    net.add(Activation('relu')) \n",
    "    print(net.output.shape)"
   ]
  },
  {
   "cell_type": "code",
   "execution_count": 7,
   "metadata": {},
   "outputs": [],
   "source": [
    "gru_grid= utils.grid3D(GRU(1024))"
   ]
  },
  {
   "cell_type": "code",
   "execution_count": 14,
   "metadata": {},
   "outputs": [],
   "source": [
    "%autoreload\n",
    "grid_slice=utils.get_neighbors(gru_grid,[4,4,4])"
   ]
  },
  {
   "cell_type": "code",
   "execution_count": null,
   "metadata": {
    "scrolled": false
   },
   "outputs": [],
   "source": [
    "# lstm\n",
    "net.add(Flatten())\n",
    "print(net.output.get_shape())"
   ]
  },
  {
   "cell_type": "code",
   "execution_count": null,
   "metadata": {},
   "outputs": [],
   "source": [
    "net.add(Dense(1024))\n",
    "print(net.output.shape)\n",
    "gru_layer=GRU(1024)"
   ]
  },
  {
   "cell_type": "code",
   "execution_count": null,
   "metadata": {},
   "outputs": [],
   "source": [
    "# decoder network\n",
    "for i in range(6):\n",
    "    net.add(Deconv3D(filters=deconv_filter_count[i],kernel_size=(3,3,3)))\n",
    "    net.add(UpSampling3D())\n",
    "    net.add(Activation('relu'))\n",
    "    print(net.output.shape)\n",
    "    \n",
    "print(net.output.shape())"
   ]
  },
  {
   "cell_type": "code",
   "execution_count": null,
   "metadata": {
    "scrolled": false
   },
   "outputs": [],
   "source": [
    "net.compile(optimizer='sgd',\n",
    "              loss='categorical_crossentropy',\n",
    "              metrics=['accuracy'])"
   ]
  },
  {
   "cell_type": "code",
   "execution_count": null,
   "metadata": {},
   "outputs": [],
   "source": [
    "os.system(\"rm -rf ./logs/*\")\n",
    "tensor_board=TensorBoard(log_dir='./logs', histogram_freq=0, batch_size=32, write_graph=True, write_grads=False, write_images=False, embeddings_freq=0, embeddings_layer_names=None, embeddings_metadata=None)\n",
    "net.fit(X,np.random.rand(len(X),n_fc_filters[0]),epochs=1,callbacks=[tensor_board])"
   ]
  },
  {
   "cell_type": "code",
   "execution_count": null,
   "metadata": {},
   "outputs": [],
   "source": []
  }
 ],
 "metadata": {
  "kernelspec": {
   "display_name": "Python 3",
   "language": "python",
   "name": "python3"
  },
  "language_info": {
   "codemirror_mode": {
    "name": "ipython",
    "version": 3
   },
   "file_extension": ".py",
   "mimetype": "text/x-python",
   "name": "python",
   "nbconvert_exporter": "python",
   "pygments_lexer": "ipython3",
   "version": "3.6.2"
  }
 },
 "nbformat": 4,
 "nbformat_minor": 2
}
