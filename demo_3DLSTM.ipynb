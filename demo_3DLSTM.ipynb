{
 "cells": [
  {
   "cell_type": "code",
   "execution_count": 1,
   "metadata": {},
   "outputs": [],
   "source": [
    "%matplotlib inline\n",
    "\n",
    "import os\n",
    "import sys\n",
    "import utils\n",
    "import random\n",
    "import dataset\n",
    "import numpy as np\n",
    "from PIL import Image\n",
    "import matplotlib.pyplot as plt\n",
    "import tensorflow as tf\n",
    "\n",
    "#import tensorflow.contrib.eager as tfe\n",
    "#tfe.enable_eager_execution()\n",
    "sess=tf.Session()"
   ]
  },
  {
   "cell_type": "code",
   "execution_count": 2,
   "metadata": {},
   "outputs": [
    {
     "name": "stdout",
     "output_type": "stream",
     "text": [
      "[fetch_renders_from_disk] fetching renders from ShapeNetRendering ... \n",
      "[construct_path_lists] parsing dir ShapeNetRendering for ['.png'] ...\n",
      "[construct_path_lists] parsing dir ShapeNetVox32 for ['.binvox'] ...\n"
     ]
    }
   ],
   "source": [
    "# load data\n",
    "X=dataset.load_dataset(num_of_examples=1)\n",
    "Y=dataset.load_labels(num_of_examples=1)"
   ]
  },
  {
   "cell_type": "code",
   "execution_count": 3,
   "metadata": {},
   "outputs": [],
   "source": [
    "x=X[0]\n",
    "y=Y[0]"
   ]
  },
  {
   "cell_type": "code",
   "execution_count": 4,
   "metadata": {},
   "outputs": [
    {
     "name": "stdout",
     "output_type": "stream",
     "text": [
      "[load_dataset] loading from ShapeNet\n",
      "[construct_path_lists] parsing dir ShapeNet for ['.obj', '.mtl'] ...\n",
      "[write_renders_to_disk] writing renders to ./ShapeNet_Renders/02691156/6df2cf3685456b4c2e78e1154b9a2647 ... \n",
      "[fetch_renders_from_disk] fetching renders from ./ShapeNet_Renders/02691156/6df2cf3685456b4c2e78e1154b9a2647 ... \n",
      "[construct_path_lists] parsing dir ./ShapeNet_Renders/02691156/6df2cf3685456b4c2e78e1154b9a2647 for ['.png'] ...\n"
     ]
    }
   ],
   "source": [
    "Y=dataset.render_dataset(num_of_examples=1)"
   ]
  },
  {
   "cell_type": "code",
   "execution_count": null,
   "metadata": {},
   "outputs": [],
   "source": [
    "Image."
   ]
  },
  {
   "cell_type": "code",
   "execution_count": null,
   "metadata": {},
   "outputs": [],
   "source": [
    "y.data.shape"
   ]
  },
  {
   "cell_type": "code",
   "execution_count": null,
   "metadata": {},
   "outputs": [],
   "source": [
    "# encoder network\n",
    "cur_tensor=tf.convert_to_tensor(X[0],dtype=tf.float32)\n",
    "print(cur_tensor.shape)\n",
    "k_s = [3,3]\n",
    "conv_filter_count = [96, 128, 256, 256, 256, 256]\n",
    "for i in range(6): \n",
    "    ks=[7,7]if i is 0 else k_s  \n",
    "    with tf.name_scope(\"encoding_block\"):\n",
    "        cur_tensor=tf.layers.conv2d(cur_tensor,filters=conv_filter_count[i],padding='SAME',kernel_size= k_s,activation=None)\n",
    "        cur_tensor=tf.layers.max_pooling2d(cur_tensor,2,2)\n",
    "        cur_tensor=tf.nn.relu(cur_tensor)\n",
    "        print(cur_tensor.shape)\n",
    "\n",
    "# flatten tensor\n",
    "cur_tensor=tf.contrib.layers.flatten(cur_tensor)\n",
    "print(cur_tensor.shape)\n",
    "cur_tensor=tf.contrib.layers.fully_connected(cur_tensor,1024,activation_fn=None)\n",
    "print(cur_tensor.shape)"
   ]
  },
  {
   "cell_type": "code",
   "execution_count": null,
   "metadata": {},
   "outputs": [],
   "source": [
    "# 3D_Convolutional_LSTM \n",
    "\n",
    "with tf.name_scope(\"3D_LSTM\"):\n",
    "    #x=tf.placeholder(tf.float32,[None,1024])\n",
    "    x=cur_tensor\n",
    "    h_t=tf.Variable(tf.zeros([4,4,4,1,256]),name=\"hidden_state\")\n",
    "    s_t=tf.Variable(tf.zeros([4,4,4,1,256]),name=\"cell_state\")\n",
    "\n",
    "    # W,U,b for f,i,s,o\n",
    "    W=[tf.Variable(tf.zeros([1024,256]),name=\"W%d\"%(i)) for i in range(4)]\n",
    "    U=[tf.Variable(tf.zeros([3,3,3,256,256]),name=\"U%d\"%(i)) for i in range(4)]\n",
    "    b=[tf.Variable(tf.zeros([1,256]),name=\"b%d\"%(i)) for i in range(4)]\n",
    "\n",
    "    Wx=[tf.matmul(x, W[i]) for i in range(4)]\n",
    "    Uh=[tf.nn.convolution(h_t,U[i],padding=\"SAME\") for i in range(4)]\n",
    "\n",
    "\n",
    "    f_t=tf.sigmoid(Wx[0] + Uh[0] + b[0])\n",
    "    i_t=tf.sigmoid(Wx[1] + Uh[1] + b[1])\n",
    "    o_t=tf.sigmoid(Wx[2]+ Uh[2] + b[2])\n",
    "    s_t=tf.multiply(f_t,s_t) + tf.multiply(i_t,tf.tanh(Wx[3]+ Uh[3] + b[3]))\n",
    "    h_t=tf.tanh(s_t)\n",
    "\n",
    "    cur_tensor=tf.transpose(h_t,[3,0,1,2,4])\n",
    "    print(cur_tensor.shape)"
   ]
  },
  {
   "cell_type": "code",
   "execution_count": null,
   "metadata": {},
   "outputs": [],
   "source": [
    "# decoding network\n",
    "# batch_size=cur_tensor.shape.as_list()[0]\n",
    "# cur_tensor=tf.reshape(cur_tensor,[batch_size,2,2,2,-1])\n",
    "# print(cur_tensor.shape)\n",
    "k_s = [3,3,3]\n",
    "deconv_filter_count = [128, 128, 128, 64, 32, 2]\n",
    "cur_tensor=utils.unpool(cur_tensor)\n",
    "print(cur_tensor.shape)\n",
    "for i in range(1,4): \n",
    "    with tf.name_scope(\"decoding_block\"):\n",
    "            cur_tensor=tf.layers.conv3d_transpose(cur_tensor,padding='SAME',filters=deconv_filter_count[i],kernel_size= k_s,activation=None)\n",
    "            cur_tensor=utils.unpool(cur_tensor)\n",
    "            cur_tensor=tf.nn.relu(cur_tensor)\n",
    "            print(cur_tensor.shape)\n",
    "            \n",
    "for i in range(4,6): \n",
    "    with tf.name_scope(\"decoding_block_without_unpooling\"):\n",
    "            cur_tensor=tf.layers.conv3d_transpose(cur_tensor,padding='SAME',filters=deconv_filter_count[i],kernel_size= k_s,activation=None)\n",
    "            cur_tensor=tf.nn.relu(cur_tensor)\n",
    "            print(cur_tensor.shape)"
   ]
  },
  {
   "cell_type": "code",
   "execution_count": null,
   "metadata": {},
   "outputs": [],
   "source": [
    "#loss softmax\n",
    "\n",
    "\n"
   ]
  },
  {
   "cell_type": "code",
   "execution_count": null,
   "metadata": {},
   "outputs": [],
   "source": [
    "# serialize graph for tensorboard\n",
    "os.system(\"rm -rf ./logs/*\")\n",
    "writer = tf.summary.FileWriter(\"./logs/\")\n",
    "writer.add_graph(sess.graph)\n",
    "os.system(\"sh tensorboard.sh\")"
   ]
  },
  {
   "cell_type": "code",
   "execution_count": null,
   "metadata": {},
   "outputs": [],
   "source": []
  }
 ],
 "metadata": {
  "kernelspec": {
   "display_name": "Python 3",
   "language": "python",
   "name": "python3"
  },
  "language_info": {
   "codemirror_mode": {
    "name": "ipython",
    "version": 3
   },
   "file_extension": ".py",
   "mimetype": "text/x-python",
   "name": "python",
   "nbconvert_exporter": "python",
   "pygments_lexer": "ipython3",
   "version": "3.6.2"
  }
 },
 "nbformat": 4,
 "nbformat_minor": 2
}
