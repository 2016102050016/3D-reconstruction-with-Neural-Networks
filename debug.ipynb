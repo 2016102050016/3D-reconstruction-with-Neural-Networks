{
 "cells": [
  {
   "cell_type": "code",
   "execution_count": 8,
   "metadata": {},
   "outputs": [
    {
     "name": "stdout",
     "output_type": "stream",
     "text": [
      "debugging\n"
     ]
    }
   ],
   "source": [
    "# output\n",
    "print(\"debugging\")\n",
    "sess=tf.InteractiveSession()\n",
    "tf.global_variables_initializer().run()\n",
    "\n",
    "# setup dataset\n",
    "shapenet=dataset.ShapeNet()\n",
    "\n",
    "#read config\n",
    "with open(\"net.config\") as f:\n",
    "    shapenet.batch_size=int(f.readline())\n",
    "    epoch=int(f.readline())\n",
    "    learning_rate=float(f.readline())\n",
    "\n",
    "\n",
    "data,label=shapenet.next_train_batch()\n",
    "fd={x:data, y: label};\n",
    "\n",
    "# tensorboard\n",
    "writer = tf.summary.FileWriter(\"./logs/\")\n",
    "writer.add_graph(sess.graph)\n",
    "\n",
    "# output dir and setup \n",
    "out_root_dir=\"out/\""
   ]
  },
  {
   "cell_type": "code",
   "execution_count": 1,
   "metadata": {},
   "outputs": [
    {
     "ename": "NameError",
     "evalue": "name 'os' is not defined",
     "output_type": "error",
     "traceback": [
      "\u001b[0;31m---------------------------------------------------------------------------\u001b[0m",
      "\u001b[0;31mNameError\u001b[0m                                 Traceback (most recent call last)",
      "\u001b[0;32m<ipython-input-1-99e7bd1500f1>\u001b[0m in \u001b[0;36m<module>\u001b[0;34m()\u001b[0m\n\u001b[1;32m      3\u001b[0m \u001b[0;31m# debug loop for a single input in a batch\u001b[0m\u001b[0;34m\u001b[0m\u001b[0;34m\u001b[0m\u001b[0m\n\u001b[1;32m      4\u001b[0m \u001b[0;32mfor\u001b[0m \u001b[0mb\u001b[0m \u001b[0;32min\u001b[0m \u001b[0mrange\u001b[0m\u001b[0;34m(\u001b[0m\u001b[0mbatch_size\u001b[0m\u001b[0;34m)\u001b[0m\u001b[0;34m:\u001b[0m\u001b[0;34m\u001b[0m\u001b[0m\n\u001b[0;32m----> 5\u001b[0;31m     \u001b[0mbatch_dir\u001b[0m\u001b[0;34m=\u001b[0m\u001b[0mos\u001b[0m\u001b[0;34m.\u001b[0m\u001b[0mpath\u001b[0m\u001b[0;34m.\u001b[0m\u001b[0mjoin\u001b[0m\u001b[0;34m(\u001b[0m\u001b[0mout_root_dir\u001b[0m\u001b[0;34m,\u001b[0m\u001b[0;34m\"batch_{}\"\u001b[0m\u001b[0;34m.\u001b[0m\u001b[0mformat\u001b[0m\u001b[0;34m(\u001b[0m\u001b[0mb\u001b[0m\u001b[0;34m)\u001b[0m\u001b[0;34m)\u001b[0m\u001b[0;34m\u001b[0m\u001b[0m\n\u001b[0m\u001b[1;32m      6\u001b[0m     \u001b[0mos\u001b[0m\u001b[0;34m.\u001b[0m\u001b[0mmakedirs\u001b[0m\u001b[0;34m(\u001b[0m\u001b[0mbatch_dir\u001b[0m\u001b[0;34m)\u001b[0m \u001b[0;32mif\u001b[0m \u001b[0;32mnot\u001b[0m \u001b[0mos\u001b[0m\u001b[0;34m.\u001b[0m\u001b[0mpath\u001b[0m\u001b[0;34m.\u001b[0m\u001b[0misdir\u001b[0m\u001b[0;34m(\u001b[0m\u001b[0mbatch_dir\u001b[0m\u001b[0;34m)\u001b[0m \u001b[0;32melse\u001b[0m \u001b[0mprint\u001b[0m\u001b[0;34m(\u001b[0m\u001b[0;34m\"{} exists\"\u001b[0m\u001b[0;34m.\u001b[0m\u001b[0mformat\u001b[0m\u001b[0;34m(\u001b[0m\u001b[0mbatch_dir\u001b[0m\u001b[0;34m)\u001b[0m\u001b[0;34m)\u001b[0m\u001b[0;34m\u001b[0m\u001b[0m\n\u001b[1;32m      7\u001b[0m \u001b[0;34m\u001b[0m\u001b[0m\n",
      "\u001b[0;31mNameError\u001b[0m: name 'os' is not defined"
     ]
    }
   ],
   "source": [
    "batch_size,time_steps,n_layers=1,24,8\n",
    "\n",
    "# debug loop for a single input in a batch\n",
    "for b in range(batch_size):\n",
    "    batch_dir=os.path.join(out_root_dir,\"batch_{}\".format(b))\n",
    "    os.makedirs(batch_dir) if not os.path.isdir(batch_dir) else print(\"{} exists\".format(batch_dir))\n",
    "      \n",
    "    # encoding layers\n",
    "    for l in range(n_layers):\n",
    "        out_dir=os.path.join(batch_dir,\"encoding_layer_{}\".format(l))\n",
    "        os.makedirs(out_dir) if not os.path.isdir(out_dir) else print(\"dir exists\")\n",
    "        for t in range(time_steps):\n",
    "            if l<7:\n",
    "                var=encoder_outputs[l][b,t]\n",
    "                utils.imsave_multichannel(var.eval(fd),out_dir+\"/time_{}.png\".format(t))\n",
    "            else:\n",
    "                var=encoder_outputs[l][b,t].eval(fd)\n",
    "                plt.figure()\n",
    "                plt.plot(var)\n",
    "                plt.savefig(out_dir+\"/time_{}.png\".format(t))    \n",
    "        \n",
    "    # recurrent module\n",
    "    out_dir=os.path.join(batch_dir,\"recurrent_module\")\n",
    "    os.makedirs(out_dir) if not os.path.isdir(out_dir) else print(\"dir exists\")\n",
    "    for t in range(1):    \n",
    "        val=hidden_state_list[t].eval(fd)\n",
    "        print(val.shape)\n",
    "        fig = plt.figure()\n",
    "        ax = fig.gca(projection='3d')\n",
    "        val=np.random.randint(0,2,size=[3,3,3])\n",
    "        print(val.shape)\n",
    "        \n",
    "        print(label.shape)\n",
    "        ax.voxels(label[0],edgecolor='k')\n",
    "\n",
    "        plt.show()\n",
    "        plt.close()\n",
    "       "
   ]
  },
  {
   "cell_type": "code",
   "execution_count": 9,
   "metadata": {},
   "outputs": [
    {
     "name": "stdout",
     "output_type": "stream",
     "text": [
      "22764.4 0.663568\n"
     ]
    }
   ],
   "source": [
    "l=mean_loss.eval(fd)\n",
    "a=mean_accuracy.eval(fd)\n",
    "print(l,a)"
   ]
  },
  {
   "cell_type": "code",
   "execution_count": null,
   "metadata": {},
   "outputs": [],
   "source": [
    "print(np.avg(a))\n",
    "\n",
    "voxel=tf.argmax(y_hat,axis=4)\n",
    "voxel=tf.cast(voxel,dtype=tf.float32)\n",
    "out=voxel.eval(fd)\n",
    "print(out.shape)\n",
    "\n",
    "rounded_voxel=tf.round(hidden_state)\n",
    "out=rounded_voxel.eval(fd)\n",
    "\n",
    "plt.plot(hidden_state[0,3,0,0,:].eval(fd))\n",
    "\n",
    "fig=plt.figure()\n",
    "ax = fig.gca(projection='3d')\n",
    "ax.voxels(acc[0],edgecolor='k')\n",
    "ax.view_init(30, 30)\n",
    "plt.show()\n",
    "plt.close()\n",
    "\n",
    "item=30\n",
    "x=data[item]\n",
    "\n",
    "y=label[item]\n",
    "\n",
    "utils.imshow_multichannel(x[0])\n",
    "\n",
    " for i in range(4):\n",
    "            for j in range(4):\n",
    "                for k in range(4):\n",
    "                    cell_hidden_state=grid_hidden_state[i,j,k] \n",
    "                    plt.figure()\n",
    "                    plt.plot(cell_hidden_state)\n",
    "                    plt.savefig(os.path.join(cur_dir,'cell_{}{}{}_at_{}.png'.format(i,j,k,t)))\n",
    "                    plt.close()\n",
    "                    \n",
    "decoder_dir=\"out/decoder\"\n",
    "# debug decoder net\n",
    "voxel=tf.argmax(y_hat,axis=4)\n",
    "voxel=tf.cast(voxel,dtype=tf.float32)\n",
    "\n",
    "out=voxel.eval(fd)\n",
    "outvoxel=binvox_rw.Voxels(out,out.shape,[0,0,0],1,'xzy')\n",
    "with open(\"out/voxels/{}.binvox\".format(),'w') as f:\n",
    "    outvoxel.write(f)\n",
    "    \n",
    "# matplot 3d plot setup\n",
    "import matplotlib.pyplot as plt\n",
    "from mpl_toolkits.mplot3d import Axes3D\n",
    "fig = plt.figure()\n",
    "ax = fig.add_subplot(111, projection='3d')\n",
    "\n",
    "%matplotlib inline\n",
    "feature_vectors=encoder_outputs[7].eval(fd)\n",
    "plt.figure()\n",
    "f, axarr = plt.subplots(5, 5)\n",
    "for i in range(5):\n",
    "    for j in range(5):\n",
    "        t=i*5+j\n",
    "        if(t<24):\n",
    "            p=feature_vectors[0,t]\n",
    "            axarr[i, j].plot(p)\n",
    "\n",
    "s_input=stacked_input.eval(fd)\n",
    "print(s_input.shape)\n",
    "for i in range(4):\n",
    "    for j in range(4):\n",
    "        for k in range(4):\n",
    "            fc=s_input[i,j,k,0,23]\n",
    "            plt.figure()\n",
    "            plt.plot(fc)\n",
    "            plt.savefig(os.path.join(\"out\",'{}{}{}.png'.format(i,j,k)))\n",
    "            plt.close() \n",
    "            sys.exit()"
   ]
  }
 ],
 "metadata": {
  "kernelspec": {
   "display_name": "Python 3",
   "language": "python",
   "name": "python3"
  },
  "language_info": {
   "codemirror_mode": {
    "name": "ipython",
    "version": 3
   },
   "file_extension": ".py",
   "mimetype": "text/x-python",
   "name": "python",
   "nbconvert_exporter": "python",
   "pygments_lexer": "ipython3",
   "version": "3.6.2"
  }
 },
 "nbformat": 4,
 "nbformat_minor": 2
}
