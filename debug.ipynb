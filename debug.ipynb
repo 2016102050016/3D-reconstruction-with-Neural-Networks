{
 "cells": [
  {
   "cell_type": "code",
   "execution_count": 1,
   "metadata": {},
   "outputs": [
    {
     "name": "stdout",
     "output_type": "stream",
     "text": [
      "(?, 24, 137, 137, 3)\n",
      "(?, 24, 68, 68, 96)\n",
      "(?, 24, 34, 34, 128)\n",
      "(?, 24, 17, 17, 256)\n",
      "(?, 24, 8, 8, 256)\n",
      "(?, 24, 4, 4, 256)\n",
      "(?, 24, 2, 2, 256)\n",
      "(?, 24, 1024)\n",
      "(4, 4, 4, ?, 24, 1024)\n",
      "(4, 4, 4, ?, 256)\n",
      "(?, 4, 4, 4, 256)\n",
      "(?, 8, 8, 8, 256)\n",
      "(?, 16, 16, 16, 128)\n",
      "(?, 32, 32, 32, 64)\n",
      "(?, 32, 32, 32, 32)\n",
      "(?, 32, 32, 32, 2)\n"
     ]
    }
   ],
   "source": [
    "import os\n",
    "import sys\n",
    "import math\n",
    "import utils\n",
    "import random\n",
    "import layers\n",
    "import dataset\n",
    "import binvox_rw\n",
    "import numpy as np\n",
    "import pandas as pd\n",
    "from PIL import Image\n",
    "from datetime import datetime\n",
    "import matplotlib.pyplot as plt\n",
    "import tensorflow as tf\n",
    "# tf.contrib.eager.enable_eager_execution() \n",
    "# place holders\n",
    "x=tf.placeholder(tf.float32,[None,24,137,137,3]) \n",
    "y=tf.placeholder(tf.float32,[None,32,32,32])\n",
    "\n",
    "# encoder network\n",
    "cur_tensor=x\n",
    "encoder_outputs=[cur_tensor]\n",
    "print(cur_tensor.shape)\n",
    "k_s = [3,3]\n",
    "conv_filter_count = [96, 128, 256, 256, 256, 256]\n",
    "for i in range(6): \n",
    "    ks=[7,7]if i is 0 else k_s  \n",
    "    with tf.name_scope(\"encoding_block\"): \n",
    "        cur_tensor=tf.map_fn(lambda a:tf.layers.conv2d(a,filters=conv_filter_count[i],padding='SAME',kernel_size= k_s,activation=None),cur_tensor)\n",
    "        cur_tensor=tf.map_fn(lambda a:tf.layers.max_pooling2d(a,2,2),cur_tensor)\n",
    "        cur_tensor=tf.map_fn(tf.nn.relu,cur_tensor)\n",
    "        print(cur_tensor.shape)\n",
    "        encoder_outputs.append(cur_tensor)\n",
    "\n",
    "# flatten tensors\n",
    "cur_tensor=tf.map_fn(tf.contrib.layers.flatten,cur_tensor)\n",
    "cur_tensor=tf.map_fn(lambda a:tf.contrib.layers.fully_connected(a,1024,activation_fn=None),cur_tensor)\n",
    "encoder_outputs.append(cur_tensor)\n",
    "print(cur_tensor.shape)\n",
    "\n",
    "# recurrent module\n",
    "with tf.name_scope(\"recurrent_module\"): \n",
    "    \n",
    "    N,h_n=4,256\n",
    "   \n",
    "    recurrent_module=layers.GRU_R2N2(n_cells=N,n_hidden_state=h_n);\n",
    "\n",
    "    # prepare input\n",
    "    cur_tensor=encoder_outputs[-1]\n",
    "    stacked_input=cur_tensor\n",
    "    for i in range(3):\n",
    "        stacked_input=tf.stack([stacked_input]*N,axis=0)\n",
    "    print(stacked_input.shape)\n",
    "\n",
    "    # initial hidden state\n",
    "    hidden_state_list=[]\n",
    "    hidden_state= tf.zeros_like(stacked_input[:,:,:,:,0,0:h_n])\n",
    "    \n",
    "    # feed batches of seqeuences\n",
    "    for t in range(24):\n",
    "        input_frames = stacked_input[:,:,:,:,t,:]\n",
    "        hidden_state_list.append(hidden_state)\n",
    "        hidden_state = recurrent_module.call(input_frames, hidden_state)\n",
    "    print(hidden_state.shape)\n",
    "\n",
    "# decoding network\n",
    "cur_tensor=tf.transpose(hidden_state,[3,0,1,2,4])\n",
    "print(cur_tensor.shape)\n",
    "\n",
    "decoder_outputs=[cur_tensor]\n",
    "cur_tensor=layers.unpool3D(cur_tensor)\n",
    "print(cur_tensor.shape)\n",
    "decoder_outputs.append(cur_tensor)\n",
    "\n",
    "k_s = [3,3,3]\n",
    "deconv_filter_count = [128, 128, 128, 64, 32, 2]\n",
    "for i in range(2,4): \n",
    "    with tf.name_scope(\"decoding_block\"):\n",
    "        cur_tensor=tf.layers.conv3d(cur_tensor,padding='SAME',filters=deconv_filter_count[i],kernel_size= k_s,activation=None)\n",
    "        cur_tensor=layers.unpool3D(cur_tensor)\n",
    "        cur_tensor=tf.nn.relu(cur_tensor)\n",
    "        print(cur_tensor.shape)\n",
    "        decoder_outputs.append(cur_tensor)\n",
    "            \n",
    "for i in range(4,6): \n",
    "    with tf.name_scope(\"decoding_block_without_unpooling\"):\n",
    "        cur_tensor=tf.layers.conv3d(cur_tensor,padding='SAME',filters=deconv_filter_count[i],kernel_size= k_s,activation=None)\n",
    "        cur_tensor=tf.nn.relu(cur_tensor)\n",
    "        print(cur_tensor.shape)\n",
    "        decoder_outputs.append(cur_tensor)\n",
    "        \n",
    "\n",
    "with tf.name_scope(\"cost\"):\n",
    "    #3d voxel-wise softmax\n",
    "    y_hat=tf.nn.softmax(decoder_outputs[-1])\n",
    "    p=y_hat[:,:,:,:,0]\n",
    "    q=y_hat[:,:,:,:,1]\n",
    "    cross_entropies=tf.reduce_sum(-tf.multiply(tf.log(p),y)-tf.multiply(tf.log(q),1-y),[1,2,3])\n",
    "    loss=tf.reduce_mean(cross_entropies)\n",
    "    optimizer = tf.train.GradientDescentOptimizer(100).minimize(loss)"
   ]
  },
  {
   "cell_type": "code",
   "execution_count": 4,
   "metadata": {},
   "outputs": [
    {
     "name": "stdout",
     "output_type": "stream",
     "text": [
      "debugging\n"
     ]
    }
   ],
   "source": [
    "# output\n",
    "os.system(\"rm -rf out/*\")\n",
    "print(\"debugging\")\n",
    "sess=tf.InteractiveSession()\n",
    "tf.global_variables_initializer().run()\n",
    "\n",
    "# setup dataset\n",
    "shapenet=dataset.ShapeNet()\n",
    "\n",
    "#read config\n",
    "f=open(\"net.config\")\n",
    "shapenet.batch_size=int(f.readline())\n",
    "learning_rate=int(f.readline())\n",
    "epoach=int(f.readline())\n",
    "\n",
    "data,label=shapenet.next_train_batch()\n",
    "fd={x:data, y: label};\n",
    "\n",
    "# tensorboard\n",
    "os.system(\"rm -rf logs/*\")\n",
    "writer = tf.summary.FileWriter(\"./logs/\")\n",
    "writer.add_graph(sess.graph)"
   ]
  },
  {
   "cell_type": "code",
   "execution_count": null,
   "metadata": {},
   "outputs": [],
   "source": [
    "# matplot 3d plot setup\n",
    "import matplotlib.pyplot as plt\n",
    "from mpl_toolkits.mplot3d import Axes3D\n",
    "fig = plt.figure()\n",
    "ax = fig.add_subplot(111, projection='3d')"
   ]
  },
  {
   "cell_type": "code",
   "execution_count": null,
   "metadata": {},
   "outputs": [],
   "source": [
    "s_input=stacked_input.eval(fd)\n",
    "print(s_input.shape)\n",
    "for i in range(4):\n",
    "    for j in range(4):\n",
    "        for k in range(4):\n",
    "            fc=s_input[i,j,k,0,23]\n",
    "            plt.figure()\n",
    "            plt.plot(fc)\n",
    "            plt.savefig(os.path.join(\"out\",'{}{}{}.png'.format(i,j,k)))\n",
    "            plt.close() \n",
    "            sys.exit()"
   ]
  },
  {
   "cell_type": "code",
   "execution_count": null,
   "metadata": {},
   "outputs": [],
   "source": [
    "# enocder debug\n",
    "encoder_dir=\"out/encoder\"\n",
    "\n",
    "batch_size,time_steps,n_layers=shapenet.batch_size,24,7\n",
    "for b in range(batch_size):\n",
    "    out_dir=os.path.join(out_root_dir,str(b))\n",
    "    if not os.path.isdir(out_dir):\n",
    "        os.makedirs(out_dir)\n",
    "    for t in range(time_steps):\n",
    "        for i in range(n_layers):\n",
    "            var=encoder_outputs[i]\n",
    "            var=var[b,t]\n",
    "            utils.imsave_multichannel(var.eval(fd),out_dir+\"/layer_{}.png\".format(str(i)))\n",
    "        \n",
    "        var=encoder_outputs[n_layers]\n",
    "        var=var.eval(fd)\n",
    "        var=var[b,t]\n",
    "        plt.figure()\n",
    "        plt.plot(var)\n",
    "        plt.savefig(out_dir+\"/{}(feature_vector).png\".format(str(n_layers)))"
   ]
  },
  {
   "cell_type": "code",
   "execution_count": null,
   "metadata": {},
   "outputs": [],
   "source": [
    "hidden_dir=\"out/hidden_state\"\n",
    "if not os.path.isdir(hidden_dir):\n",
    "    os.makedirs(hidden_dir)\n",
    "\n",
    "# debug recurrent module\n",
    "for t in range(23):\n",
    "    grid_hidden_state=hidden_state_list[t].eval(fd)\n",
    "    cur_dir=os.path.join(hidden_dir,\"time_step_{}\".format(t))\n",
    "    if not os.path.isdir(cur_dir):\n",
    "        os.makedirs(cur_dir)\n",
    "    for i in range(4):\n",
    "        for j in range(4):\n",
    "            for k in range(4):\n",
    "                cell_hidden_state=grid_hidden_state[i,j,k] \n",
    "                plt.figure()\n",
    "                plt.plot(cell_hidden_state)\n",
    "                plt.savefig(os.path.join(cur_dir,'cell_{}{}{}.png'.format(i,j,k)))\n",
    "                plt.close()"
   ]
  },
  {
   "cell_type": "code",
   "execution_count": null,
   "metadata": {},
   "outputs": [],
   "source": [
    "decoder_dir=\"out/decoder\"\n",
    "# debug decoder net\n",
    "voxel=tf.argmax(y_hat,axis=4)\n",
    "voxel=tf.cast(voxel,dtype=tf.float32)\n",
    "\n",
    "out=voxel.eval(fd)\n",
    "outvoxel=binvox_rw.Voxels(out,out.shape,[0,0,0],1,'xzy')\n",
    "with open(\"out/voxels/{}.binvox\".format(),'w') as f:\n",
    "    outvoxel.write(f)"
   ]
  },
  {
   "cell_type": "code",
   "execution_count": 7,
   "metadata": {},
   "outputs": [
    {
     "data": {
      "text/plain": [
       "<matplotlib.figure.Figure at 0x131605da0>"
      ]
     },
     "metadata": {},
     "output_type": "display_data"
    },
    {
     "data": {
      "image/png": "[encoded data removed]",
      "text/plain": [
       "<matplotlib.figure.Figure at 0x131605dd8>"
      ]
     },
     "metadata": {},
     "output_type": "display_data"
    }
   ],
   "source": [
    "%matplotlib inline\n",
    "feature_vectors=encoder_outputs[7].eval(fd)\n",
    "plt.figure()\n",
    "f, axarr = plt.subplots(5, 5)\n",
    "for i in range(5):\n",
    "    for j in range(5):\n",
    "        t=i*5+j\n",
    "        if(t<24):\n",
    "            p=feature_vectors[0,t]\n",
    "            axarr[i, j].plot(p)"
   ]
  },
  {
   "cell_type": "code",
   "execution_count": null,
   "metadata": {},
   "outputs": [],
   "source": [
    "import seaborn as sns"
   ]
  },
  {
   "cell_type": "code",
   "execution_count": null,
   "metadata": {},
   "outputs": [],
   "source": [
    "sns.heatmap(a[0])"
   ]
  },
  {
   "cell_type": "code",
   "execution_count": null,
   "metadata": {},
   "outputs": [],
   "source": []
  }
 ],
 "metadata": {
  "kernelspec": {
   "display_name": "Python 3",
   "language": "python",
   "name": "python3"
  },
  "language_info": {
   "codemirror_mode": {
    "name": "ipython",
    "version": 3
   },
   "file_extension": ".py",
   "mimetype": "text/x-python",
   "name": "python",
   "nbconvert_exporter": "python",
   "pygments_lexer": "ipython3",
   "version": "3.6.2"
  }
 },
 "nbformat": 4,
 "nbformat_minor": 2
}
