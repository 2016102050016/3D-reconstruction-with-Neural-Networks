{
 "cells": [
  {
   "cell_type": "code",
   "execution_count": 2,
   "metadata": {},
   "outputs": [
    {
     "name": "stderr",
     "output_type": "stream",
     "text": [
      "WARNING:trimesh:graph-tool unavailable, some operations will be much slower\n",
      "WARNING:trimesh:No FCL -- collision checking will not work\n",
      "WARNING:trimesh:shapely.geometry.Polygon not available!\n"
     ]
    }
   ],
   "source": [
    "import os\n",
    "import sys\n",
    "import math\n",
    "import utils\n",
    "import random\n",
    "import layers\n",
    "import dataset\n",
    "import binvox_rw\n",
    "import numpy as np\n",
    "import pandas as pd\n",
    "from PIL import Image\n",
    "from datetime import datetime\n",
    "import matplotlib.pyplot as plt\n",
    "import tensorflow as tf\n",
    "# tf.contrib.eager.enable_eager_execution() "
   ]
  },
  {
   "cell_type": "code",
   "execution_count": 3,
   "metadata": {},
   "outputs": [
    {
     "name": "stdout",
     "output_type": "stream",
     "text": [
      "(?, 24, 137, 137, 3)\n",
      "(?, 24, 68, 68, 96)\n",
      "(?, 24, 34, 34, 128)\n",
      "(?, 24, 17, 17, 256)\n",
      "(?, 24, 8, 8, 256)\n",
      "(?, 24, 4, 4, 256)\n",
      "(?, 24, 2, 2, 256)\n",
      "(?, 24, 1024)\n"
     ]
    }
   ],
   "source": [
    "# place holders\n",
    "x=tf.placeholder(tf.float32,[None,24,137,137,3]) \n",
    "y=tf.placeholder(tf.float32,[None,32,32,32])\n",
    "\n",
    "# encoder network\n",
    "cur_tensor=x\n",
    "encoder_outputs=[cur_tensor]\n",
    "print(cur_tensor.shape)\n",
    "k_s = [3,3]\n",
    "conv_filter_count = [96, 128, 256, 256, 256, 256]\n",
    "for i in range(6): \n",
    "    ks=[7,7]if i is 0 else k_s  \n",
    "    with tf.name_scope(\"encoding_block\"): \n",
    "        cur_tensor=tf.map_fn(lambda a:tf.layers.conv2d(a,filters=conv_filter_count[i],padding='SAME',kernel_size= k_s,activation=None),cur_tensor)\n",
    "        cur_tensor=tf.map_fn(lambda a:tf.layers.max_pooling2d(a,2,2),cur_tensor)\n",
    "        cur_tensor=tf.map_fn(tf.nn.relu,cur_tensor)\n",
    "        print(cur_tensor.shape)\n",
    "        encoder_outputs.append(cur_tensor)\n",
    "\n",
    "# flatten tensors\n",
    "cur_tensor=tf.map_fn(tf.contrib.layers.flatten,cur_tensor)\n",
    "cur_tensor=tf.map_fn(lambda a:tf.contrib.layers.fully_connected(a,1024,activation_fn=None),cur_tensor)\n",
    "encoder_outputs.append(cur_tensor)\n",
    "print(cur_tensor.shape)"
   ]
  },
  {
   "cell_type": "code",
   "execution_count": 4,
   "metadata": {},
   "outputs": [
    {
     "name": "stdout",
     "output_type": "stream",
     "text": [
      "(4, 4, 4, ?, 24, 1024)\n",
      "(4, 4, 4, ?, 256)\n"
     ]
    }
   ],
   "source": [
    "# recurrent module\n",
    "recurrent_module=layers.GRU_R2N2();\n",
    "\n",
    "# prepare input\n",
    "cur_tensor=encoder_outputs[-1]\n",
    "stacked_input=cur_tensor\n",
    "for i in range(3):\n",
    "    stacked_input=tf.stack([stacked_input]*4,axis=0)\n",
    "print(stacked_input.shape)\n",
    "\n",
    "# initial hidden state\n",
    "hidden_state= tf.zeros_like(stacked_input[:,:,:,:,0,0:256])\n",
    "\n",
    "# feed batches of seqeuences\n",
    "for t in range(24):\n",
    "    input_frames = stacked_input[:,:,:,:,t,:]\n",
    "    hidden_state = recurrent_module.call(input_frames, hidden_state)\n",
    "print(hidden_state.shape)"
   ]
  },
  {
   "cell_type": "code",
   "execution_count": 5,
   "metadata": {},
   "outputs": [
    {
     "name": "stdout",
     "output_type": "stream",
     "text": [
      "(?, 4, 4, 4, 256)\n",
      "(?, 8, 8, 8, 256)\n",
      "(?, 16, 16, 16, 128)\n",
      "(?, 32, 32, 32, 64)\n",
      "(?, 32, 32, 32, 32)\n",
      "(?, 32, 32, 32, 2)\n"
     ]
    }
   ],
   "source": [
    "# decoding network\n",
    "cur_tensor=tf.transpose(hidden_state,[3,0,1,2,4])\n",
    "print(cur_tensor.shape)\n",
    "\n",
    "decoder_outputs=[cur_tensor]\n",
    "cur_tensor=layers.unpool3D(cur_tensor)\n",
    "print(cur_tensor.shape)\n",
    "decoder_outputs.append(cur_tensor)\n",
    "\n",
    "k_s = [3,3,3]\n",
    "deconv_filter_count = [128, 128, 128, 64, 32, 2]\n",
    "for i in range(2,4): \n",
    "    with tf.name_scope(\"decoding_block\"):\n",
    "        cur_tensor=tf.layers.conv3d(cur_tensor,padding='SAME',filters=deconv_filter_count[i],kernel_size= k_s,activation=None)\n",
    "        cur_tensor=layers.unpool3D(cur_tensor)\n",
    "        cur_tensor=tf.nn.relu(cur_tensor)\n",
    "        print(cur_tensor.shape)\n",
    "        decoder_outputs.append(cur_tensor)\n",
    "            \n",
    "for i in range(4,6): \n",
    "    with tf.name_scope(\"decoding_block_without_unpooling\"):\n",
    "        cur_tensor=tf.layers.conv3d(cur_tensor,padding='SAME',filters=deconv_filter_count[i],kernel_size= k_s,activation=None)\n",
    "        cur_tensor=tf.nn.relu(cur_tensor)\n",
    "        print(cur_tensor.shape)\n",
    "        decoder_outputs.append(cur_tensor)"
   ]
  },
  {
   "cell_type": "code",
   "execution_count": 6,
   "metadata": {},
   "outputs": [],
   "source": [
    "#3d voxel-wise softmax\n",
    "y_hat=tf.nn.softmax(decoder_outputs[-1])\n",
    "p=y_hat[:,:,:,:,0]\n",
    "q=y_hat[:,:,:,:,1]\n",
    "cross_entropies=tf.reduce_sum(-tf.multiply(tf.log(p),y)-tf.multiply(tf.log(q),1-y),[1,2,3])\n",
    "loss=tf.reduce_mean(cross_entropies)\n",
    "optimizer = tf.train.GradientDescentOptimizer(1).minimize(loss)"
   ]
  },
  {
   "cell_type": "code",
   "execution_count": 9,
   "metadata": {},
   "outputs": [],
   "source": [
    "# setup dataset\n",
    "shapenet=dataset.ShapeNet()\n",
    "f=open(\"net.config\")\n",
    "shapenet.batch_size=int(f.readline())\n",
    "data,label=shapenet.next_train_batch()\n",
    "feed_dict={x:data, y: label};"
   ]
  },
  {
   "cell_type": "code",
   "execution_count": null,
   "metadata": {},
   "outputs": [
    {
     "name": "stdout",
     "output_type": "stream",
     "text": [
      "debugging\n"
     ]
    },
    {
     "name": "stderr",
     "output_type": "stream",
     "text": [
      "/anaconda3/lib/python3.6/site-packages/matplotlib/pyplot.py:524: RuntimeWarning: More than 20 figures have been opened. Figures created through the pyplot interface (`matplotlib.pyplot.figure`) are retained until explicitly closed and may consume too much memory. (To control this warning, see the rcParam `figure.max_open_warning`).\n",
      "  max_open_warning, RuntimeWarning)\n"
     ]
    }
   ],
   "source": [
    "os.system(\"sh clean.sh\")\n",
    "# debug\n",
    "print(\"debugging\")\n",
    "sess=tf.InteractiveSession()\n",
    "tf.global_variables_initializer().run()\n",
    "\n",
    "# tensorboard\n",
    "writer = tf.summary.FileWriter(\"./logs/\")\n",
    "writer.add_graph(sess.graph)\n",
    "\n",
    "# enocder debug\n",
    "out_root_dir=\"out_dir\"\n",
    "batch_size,time_steps,n_layers=shapenet.batch_size,24,7\n",
    "for b in range(batch_size):\n",
    "    for t in range(time_steps):\n",
    "        out_dir=os.path.join(out_root_dir,str(b),str(t))\n",
    "        if not os.path.isdir(out_dir):\n",
    "            os.makedirs(out_dir)\n",
    "        \n",
    "        for i in range(n_layers):\n",
    "            var=encoder_outputs[i]\n",
    "            var=var[b,t]\n",
    "            utils.imsave_multichannel(var.eval(feed_dict),out_dir+\"/{}.png\".format(str(i)))\n",
    "        \n",
    "        var=encoder_outputs[n_layers]\n",
    "        var=var.eval(feed_dict)\n",
    "        var=var[b,t]\n",
    "        plt.figure()\n",
    "        plt.plot(var)\n",
    "        plt.savefig(out_dir+\"/{}(feature_vector).png\".format(str(n_layers)))"
   ]
  },
  {
   "cell_type": "code",
   "execution_count": null,
   "metadata": {},
   "outputs": [],
   "source": [
    "# debug decoder net\n",
    "out=tf.cast(tf.argmax(y_hat,axis=4),dtype=tf.float32)\n",
    "out=sess.run(out,feed_dict=fd)\n",
    "outvoxel=binvox_rw.Voxels(out,out.shape,[0,0,0],1,'xzy')\n",
    "with open(\"out/cur_output.binvox\",'w') as f:\n",
    "    outvoxel.write(f)"
   ]
  }
 ],
 "metadata": {
  "kernelspec": {
   "display_name": "Python 3",
   "language": "python",
   "name": "python3"
  },
  "language_info": {
   "codemirror_mode": {
    "name": "ipython",
    "version": 3
   },
   "file_extension": ".py",
   "mimetype": "text/x-python",
   "name": "python",
   "nbconvert_exporter": "python",
   "pygments_lexer": "ipython3",
   "version": "3.6.2"
  }
 },
 "nbformat": 4,
 "nbformat_minor": 2
}
