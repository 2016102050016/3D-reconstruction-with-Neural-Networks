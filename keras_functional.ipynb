{
 "cells": [
  {
   "cell_type": "code",
   "execution_count": 1,
   "metadata": {},
   "outputs": [
    {
     "name": "stderr",
     "output_type": "stream",
     "text": [
      "Using TensorFlow backend.\n"
     ]
    }
   ],
   "source": [
    "import os\n",
    "import random\n",
    "import numpy as np\n",
    "from PIL import Image\n",
    "import matplotlib.pyplot as plt\n",
    "import tensorflow as tf\n",
    "import utils\n",
    "import dataset\n",
    "import keras.backend as K\n",
    "from keras.models import Model\n",
    "from keras.callbacks import TensorBoard\n",
    "from keras.layers import Input, Reshape\n",
    "from keras.layers import Conv2D, MaxPooling2D, Activation , Flatten, Dense\n",
    "from keras.layers import RNN, LSTM, GRU, ConvLSTM2D\n",
    "from keras.layers import Deconv3D,UpSampling3D, Activation"
   ]
  },
  {
   "cell_type": "code",
   "execution_count": 2,
   "metadata": {},
   "outputs": [],
   "source": [
    "# some magic commands\n",
    "# %load_ext autoreload\n",
    "%matplotlib inline"
   ]
  },
  {
   "cell_type": "code",
   "execution_count": 3,
   "metadata": {},
   "outputs": [
    {
     "name": "stdout",
     "output_type": "stream",
     "text": [
      "[load_dataset] loading from ShapeNet\n",
      "[construct_paths] parsing dir ShapeNet for ['.obj', '.mtl']\n",
      "failed to load ShapeNet/02691156/10155655850468db78d106ce0a280f87/model.obj\n"
     ]
    }
   ],
   "source": [
    "# load data\n",
    "X=dataset.load_dataset(\"ShapeNet\",10)\n",
    "X=tf.convert_to_tensor(X[0],dtype=tf.float32)\n",
    "Y=None;"
   ]
  },
  {
   "cell_type": "code",
   "execution_count": 4,
   "metadata": {},
   "outputs": [
    {
     "data": {
      "text/plain": [
       "<tf.Tensor 'Const:0' shape=(10, 512, 512, 3) dtype=float32>"
      ]
     },
     "execution_count": 4,
     "metadata": {},
     "output_type": "execute_result"
    }
   ],
   "source": [
    "X"
   ]
  },
  {
   "cell_type": "code",
   "execution_count": 5,
   "metadata": {},
   "outputs": [],
   "source": [
    "# net parameters\n",
    "conv_filter_count = [96, 128, 256, 256, 256, 256]\n",
    "deconv_filter_count = [128, 128, 128, 64, 32, 2]"
   ]
  },
  {
   "cell_type": "code",
   "execution_count": 13,
   "metadata": {},
   "outputs": [
    {
     "name": "stdout",
     "output_type": "stream",
     "text": [
      "(10, 512, 512, 3)\n",
      "(10, 255, 255, 96)\n",
      "(10, 126, 126, 128)\n",
      "(10, 62, 62, 256)\n",
      "(10, 30, 30, 256)\n",
      "(10, 14, 14, 256)\n",
      "(10, 6, 6, 256)\n"
     ]
    }
   ],
   "source": [
    "# encoder network\n",
    "print(X.shape)\n",
    "cur_tensor=X\n",
    "k_s = [3,3]\n",
    "\n",
    "for i in range(6): \n",
    "    ks=[7,7]if i is 0 else k_s  \n",
    "    with K.name_scope(\"encoder_layer\"):\n",
    "        cur_tensor=Conv2D(filters=conv_filter_count[i],kernel_size= k_s)(cur_tensor)\n",
    "        cur_tensor=MaxPooling2D()(cur_tensor)\n",
    "        cur_tensor=Activation('relu')(cur_tensor)\n",
    "    print(cur_tensor.shape)"
   ]
  },
  {
   "cell_type": "code",
   "execution_count": 12,
   "metadata": {},
   "outputs": [
    {
     "name": "stdout",
     "output_type": "stream",
     "text": [
      "(?, ?)\n"
     ]
    }
   ],
   "source": [
    "# construct input to 3D-LSTM cells\n",
    "cur_tensor=Flatten()(cur_tensor)\n",
    "print(cur_tensor.shape)\n",
    "\n",
    "# cur_tensor=Dense(1024)(cur_tensor)\n",
    "# print(cur_tensor.shape)\n"
   ]
  },
  {
   "cell_type": "code",
   "execution_count": null,
   "metadata": {},
   "outputs": [],
   "source": [
    "# 3D-LSTM \n",
    "# construct 3D grid of cells\n",
    "cell_grid= utils.grid3D(GRU(1024),N=3)\n",
    "out=[];\n",
    "with K.name_scope(\"3D-LSTM\"):\n",
    "    for cell in np.nditer(cell_grid,flags=['refs_ok']):\n",
    "        out.append((cell.item())(cur_tensor));\n",
    "        \n",
    "out=np.array(out)"
   ]
  },
  {
   "cell_type": "code",
   "execution_count": null,
   "metadata": {},
   "outputs": [],
   "source": [
    "cell_grid.shape"
   ]
  },
  {
   "cell_type": "code",
   "execution_count": null,
   "metadata": {},
   "outputs": [],
   "source": [
    "print(type(out[0]))\n",
    "print(out.shape)\n",
    "out=out.reshape([3,3,3])\n",
    "print(type(out[0,0,0]))\n",
    "print(out.shape)"
   ]
  },
  {
   "cell_type": "code",
   "execution_count": null,
   "metadata": {},
   "outputs": [],
   "source": [
    "# decoder network\n",
    "for i in range(6):\n",
    "    with K.name_scope(\"decoder_layer\"):\n",
    "        cur_tensor=Deconv3D(filters=deconv_filter_count[i],kernel_size=(3,3,3))(cur_tensor)\n",
    "        cur_tensor=UpSampling3D()(cur_tensor)\n",
    "        cur_tensor=Activation('relu')(cur_tensor)\n",
    "        print(cur_tensor.shape)\n",
    "    \n",
    "print(cur_tensor.shape())"
   ]
  },
  {
   "cell_type": "code",
   "execution_count": null,
   "metadata": {},
   "outputs": [],
   "source": [
    "net = Model(input=input_tensor,output=cur_tensor)\n",
    "net.compile(optimizer='sgd',\n",
    "              loss='categorical_crossentropy',\n",
    "              metrics=['accuracy'])"
   ]
  },
  {
   "cell_type": "code",
   "execution_count": null,
   "metadata": {},
   "outputs": [],
   "source": [
    "os.system(\"rm -rf ./logs/*\")\n",
    "tensor_board=TensorBoard(log_dir='./logs', histogram_freq=0, batch_size=32, write_graph=True, write_grads=False, write_images=False, embeddings_freq=0, embeddings_layer_names=None, embeddings_metadata=None)\n",
    "net.fit(X,np.random.rand(len(X),1,1024),epochs=1,callbacks=[tensor_board])"
   ]
  },
  {
   "cell_type": "code",
   "execution_count": null,
   "metadata": {},
   "outputs": [],
   "source": []
  }
 ],
 "metadata": {
  "kernelspec": {
   "display_name": "Python 3",
   "language": "python",
   "name": "python3"
  },
  "language_info": {
   "codemirror_mode": {
    "name": "ipython",
    "version": 3
   },
   "file_extension": ".py",
   "mimetype": "text/x-python",
   "name": "python",
   "nbconvert_exporter": "python",
   "pygments_lexer": "ipython3",
   "version": "3.6.2"
  }
 },
 "nbformat": 4,
 "nbformat_minor": 2
}
