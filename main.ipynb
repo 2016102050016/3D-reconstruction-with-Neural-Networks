{
 "cells": [
  {
   "cell_type": "code",
   "execution_count": 1,
   "metadata": {
    "collapsed": true
   },
   "outputs": [],
   "source": [
    "# setup core dependencies \n",
    "import os\n",
    "import sys\n",
    "import random\n",
    "import numpy as np\n",
    "import pandas as pd\n",
    "import matplotlib.pyplot as plt\n",
    "import tensorflow as tf\n",
    "%matplotlib inline"
   ]
  },
  {
   "cell_type": "code",
   "execution_count": 2,
   "metadata": {},
   "outputs": [
    {
     "name": "stdout",
     "output_type": "stream",
     "text": [
      "[trimesh_main]\n",
      "[get_ShapeNet_paths]\n",
      "[generate_images_from_mesh]\n",
      "(9, 512, 512, 3)\n"
     ]
    },
    {
     "data": {
      "text/plain": [
       "<matplotlib.image.AxesImage at 0x1a288d33c8>"
      ]
     },
     "execution_count": 2,
     "metadata": {},
     "output_type": "execute_result"
    },
    {
     "data": {
      "image/png": "[encoded data removed]",
      "text/plain": [
       "<matplotlib.figure.Figure at 0x1a212cc7b8>"
      ]
     },
     "metadata": {},
     "output_type": "display_data"
    }
   ],
   "source": [
    "#load custom functions\n",
    "%run preprocess.py\n",
    "\n",
    "#import caltech_256\n",
    "X=constuct_input_matrix(\"Renders\");\n",
    "print(X.shape)\n",
    "\n",
    "# get data and shape\n",
    "input_data=X\n",
    "input_shape=np.shape(input_data)\n",
    "\n",
    "# display sample from data\n",
    "plt.imshow(random.choice(input_data))"
   ]
  },
  {
   "cell_type": "code",
   "execution_count": 3,
   "metadata": {
    "collapsed": true
   },
   "outputs": [],
   "source": [
    "# setup graph session\n",
    "sess = tf.Session()\n",
    "\n",
    "# encoder portion of network\n",
    "X=tf.constant(input_data,name='input',dtype=tf.float32)\n",
    "C_0 = tf.layers.conv2d(X, 1, 7)\n",
    "P_0 = tf.layers.max_pooling2d(C_0, 1, 3)\n",
    "\n",
    "C_1 = tf.layers.conv2d(P_0, 1, 3)\n",
    "P_1 = tf.layers.max_pooling2d(C_1, 1, 3)\n",
    "\n",
    "C_2 = tf.layers.conv2d(P_1, 1, 3)\n",
    "P_2 = tf.layers.max_pooling2d(C_2, 1, 3)\n",
    "\n",
    "C_3 = tf.layers.conv2d(P_2, 1, 3)\n",
    "P_3 = tf.layers.max_pooling2d(C_3, 1, 3)\n",
    "\n",
    "C_4 = tf.layers.conv2d(P_3, 1, 3)\n",
    "P_4 = tf.layers.max_pooling2d(C_4, 1, 3)\n",
    "\n",
    "FC=tf.contrib.layers.fully_connected(P_4, 1024)"
   ]
  },
  {
   "cell_type": "code",
   "execution_count": null,
   "metadata": {
    "collapsed": true
   },
   "outputs": [],
   "source": [
    "# decoder\n",
    "#C_0 = tf.layers.conv3d()"
   ]
  },
  {
   "cell_type": "code",
   "execution_count": null,
   "metadata": {
    "collapsed": true
   },
   "outputs": [],
   "source": [
    "# serialize graph for tensorboard\n",
    "writer = tf.summary.FileWriter(\"./log/\")\n",
    "writer.add_graph(sess.graph)\n",
    "\n",
    "# \n",
    "tf.summary.image(\"./images\",C_0)"
   ]
  },
  {
   "cell_type": "code",
   "execution_count": null,
   "metadata": {
    "collapsed": true
   },
   "outputs": [],
   "source": []
  },
  {
   "cell_type": "code",
   "execution_count": null,
   "metadata": {
    "collapsed": true
   },
   "outputs": [],
   "source": []
  }
 ],
 "metadata": {
  "kernelspec": {
   "display_name": "Python 3",
   "language": "python",
   "name": "python3"
  },
  "language_info": {
   "codemirror_mode": {
    "name": "ipython",
    "version": 3
   },
   "file_extension": ".py",
   "mimetype": "text/x-python",
   "name": "python",
   "nbconvert_exporter": "python",
   "pygments_lexer": "ipython3",
   "version": "3.6.2"
  }
 },
 "nbformat": 4,
 "nbformat_minor": 2
}
