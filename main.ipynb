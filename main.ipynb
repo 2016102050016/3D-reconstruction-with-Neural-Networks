{
 "cells": [
  {
   "cell_type": "code",
   "execution_count": null,
   "metadata": {
    "collapsed": true
   },
   "outputs": [],
   "source": [
    "# setup core dependencies \n",
    "import os\n",
    "import sys\n",
    "import random\n",
    "import numpy as np\n",
    "import pandas as pd\n",
    "import matplotlib.pyplot as plt\n",
    "import tensorflow as tf\n",
    "%matplotlib inline"
   ]
  },
  {
   "cell_type": "code",
   "execution_count": null,
   "metadata": {},
   "outputs": [],
   "source": [
    "#load custom functions\n",
    "%run preprocess.py"
   ]
  },
  {
   "cell_type": "code",
   "execution_count": null,
   "metadata": {},
   "outputs": [],
   "source": [
    "# setup graph session\n",
    "sess = tf.Session()"
   ]
  },
  {
   "cell_type": "code",
   "execution_count": null,
   "metadata": {},
   "outputs": [],
   "source": [
    "#import caltech_256\n",
    "X=constuct_input_matrix(\"Renders\");\n",
    "X.shape"
   ]
  },
  {
   "cell_type": "code",
   "execution_count": null,
   "metadata": {},
   "outputs": [],
   "source": [
    "# get data and shape\n",
    "input_data=X\n",
    "input_shape=np.shape(input_data)"
   ]
  },
  {
   "cell_type": "code",
   "execution_count": null,
   "metadata": {},
   "outputs": [],
   "source": [
    "# display sample from data\n",
    "plt.imshow(random.choice(input_data))"
   ]
  },
  {
   "cell_type": "code",
   "execution_count": null,
   "metadata": {},
   "outputs": [],
   "source": [
    "# encoder portion of network\n",
    "X=tf.constant(input_data,name='input',dtype=tf.float32)\n",
    "C_1 = tf.layers.conv2d(X, 1, 7)\n",
    "P_1 = tf.layers.max_pooling2d(C_1, 1, 3)\n",
    "C_2 = tf.layers.conv2d(P_1, 1, 3)\n",
    "P_2 = tf.layers.max_pooling2d(C_2, 1, 3)\n",
    "C_3 = tf.layers.conv2d(P_2, 1, 3)\n",
    "P_3 = tf.layers.max_pooling2d(C_3, 1, 3)\n",
    "C_4 = tf.layers.conv2d(P_3, 1, 3)\n",
    "P_4 = tf.layers.max_pooling2d(C_4, 1, 3)\n",
    "C_5 = tf.layers.conv2d(P_4, 1, 3)\n",
    "P_6 = tf.layers.max_pooling2d(C_5, 1, 3)\n",
    "tf.contrib.layers.fully_connected(P_6, 1024)"
   ]
  },
  {
   "cell_type": "code",
   "execution_count": null,
   "metadata": {
    "collapsed": true
   },
   "outputs": [],
   "source": [
    "# serialize graph for tensorboard\n",
    "writer = tf.summary.FileWriter(\"./log/\")\n",
    "writer.add_graph(sess.graph)"
   ]
  },
  {
   "cell_type": "code",
   "execution_count": null,
   "metadata": {
    "collapsed": true
   },
   "outputs": [],
   "source": []
  }
 ],
 "metadata": {
  "kernelspec": {
   "display_name": "Python 3",
   "language": "python",
   "name": "python3"
  },
  "language_info": {
   "codemirror_mode": {
    "name": "ipython",
    "version": 3
   },
   "file_extension": ".py",
   "mimetype": "text/x-python",
   "name": "python",
   "nbconvert_exporter": "python",
   "pygments_lexer": "ipython3",
   "version": "3.6.2"
  }
 },
 "nbformat": 4,
 "nbformat_minor": 2
}
