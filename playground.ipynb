{
 "cells": [
  {
   "cell_type": "code",
   "execution_count": 2,
   "metadata": {},
   "outputs": [
    {
     "name": "stdout",
     "output_type": "stream",
     "text": [
      "The autoreload extension is already loaded. To reload it, use:\n",
      "  %reload_ext autoreload\n"
     ]
    },
    {
     "ename": "SyntaxError",
     "evalue": "invalid syntax (decoder.py, line 28)",
     "output_type": "error",
     "traceback": [
      "Traceback \u001b[0;36m(most recent call last)\u001b[0m:\n",
      "  File \u001b[1;32m\"/anaconda3/lib/python3.6/site-packages/IPython/core/interactiveshell.py\"\u001b[0m, line \u001b[1;32m2910\u001b[0m, in \u001b[1;35mrun_code\u001b[0m\n    exec(code_obj, self.user_global_ns, self.user_ns)\n",
      "  File \u001b[1;32m\"<ipython-input-2-cf86ac618155>\"\u001b[0m, line \u001b[1;32m14\u001b[0m, in \u001b[1;35m<module>\u001b[0m\n    import lib.dataset as dataset\n",
      "  File \u001b[1;32m\"/Users/micmelesse/Documents/3D-reconstruction-with-neural-networks/lib/dataset.py\"\u001b[0m, line \u001b[1;32m16\u001b[0m, in \u001b[1;35m<module>\u001b[0m\n    from lib import utils, dataset\n",
      "  File \u001b[1;32m\"/Users/micmelesse/Documents/3D-reconstruction-with-neural-networks/lib/utils.py\"\u001b[0m, line \u001b[1;32m18\u001b[0m, in \u001b[1;35m<module>\u001b[0m\n    from lib import dataset, network, encoder, recurrent_module, decoder, loss, vis, utils\n",
      "\u001b[0;36m  File \u001b[0;32m\"/Users/micmelesse/Documents/3D-reconstruction-with-neural-networks/lib/network.py\"\u001b[0;36m, line \u001b[0;32m11\u001b[0;36m, in \u001b[0;35m<module>\u001b[0;36m\u001b[0m\n\u001b[0;31m    from lib import dataset, preprocessor, encoder, recurrent_module, decoder, loss, vis, utils\u001b[0m\n",
      "\u001b[0;36m  File \u001b[0;32m\"/Users/micmelesse/Documents/3D-reconstruction-with-neural-networks/lib/decoder.py\"\u001b[0;36m, line \u001b[0;32m28\u001b[0m\n\u001b[0;31m    tf.nn.bias_add(tf.nn.conv3d(vox, kernel, S, padding=P), bias), sequence, name = \"conv_3d\"))\u001b[0m\n\u001b[0m                                                                                             ^\u001b[0m\n\u001b[0;31mSyntaxError\u001b[0m\u001b[0;31m:\u001b[0m invalid syntax\n"
     ]
    }
   ],
   "source": [
    "%load_ext autoreload\n",
    "%autoreload 2\n",
    "%matplotlib inline\n",
    "\n",
    "import glob\n",
    "import os\n",
    "import sys\n",
    "import json\n",
    "import numpy as np\n",
    "import pandas as pd\n",
    "import tensorflow as tf\n",
    "import matplotlib\n",
    "import matplotlib.pyplot as plt\n",
    "import lib.dataset as dataset\n",
    "import lib.network as network\n",
    "import lib.utils as utils\n",
    "import lib.vis as vis\n",
    "from PIL import Image\n",
    "from collections import deque\n",
    "from tensorflow.python.tools import inspect_checkpoint\n",
    "from moviepy.editor import *"
   ]
  },
  {
   "cell_type": "code",
   "execution_count": null,
   "metadata": {},
   "outputs": [],
   "source": [
    "epoch_dir=\"models_remote/model_2018-04-02_20:10:12_L:0.1_E:40_B:16/epoch_0\"\n",
    "model_dir=os.path.dirname(epoch_dir)\n",
    "X_test,y_test=dataset.load_testset(epoch_dir)\n",
    "model_info = utils.get_model_info(model_dir)"
   ]
  },
  {
   "cell_type": "code",
   "execution_count": null,
   "metadata": {},
   "outputs": [],
   "source": [
    "x,y=dataset.load_random_sample()\n",
    "ax3d=vis.voxel_ndarray(y)"
   ]
  },
  {
   "cell_type": "code",
   "execution_count": null,
   "metadata": {},
   "outputs": [],
   "source": [
    "ax=ax3d\n",
    "print(ax)"
   ]
  },
  {
   "cell_type": "code",
   "execution_count": null,
   "metadata": {},
   "outputs": [],
   "source": [
    "ret=ax.get_renderer_cache()\n",
    "print(ret)"
   ]
  },
  {
   "cell_type": "code",
   "execution_count": null,
   "metadata": {
    "scrolled": true
   },
   "outputs": [],
   "source": [
    "fig=ax3d.get_figure()\n",
    "ret=fig.canvas.draw()\n",
    "print(ret)"
   ]
  },
  {
   "cell_type": "code",
   "execution_count": null,
   "metadata": {},
   "outputs": [],
   "source": [
    "type(vis.sample(x,y,y))\n",
    "ax=plt.imshow(np.random.rand(100,100))"
   ]
  },
  {
   "cell_type": "code",
   "execution_count": null,
   "metadata": {},
   "outputs": [],
   "source": [
    "plt.imshow(ax.get_array())"
   ]
  },
  {
   "cell_type": "code",
   "execution_count": null,
   "metadata": {},
   "outputs": [],
   "source": [
    "ax.write_png(\"test.png\")"
   ]
  },
  {
   "cell_type": "code",
   "execution_count": null,
   "metadata": {},
   "outputs": [],
   "source": [
    "vis.get_pylab_image(ax)"
   ]
  },
  {
   "cell_type": "code",
   "execution_count": null,
   "metadata": {},
   "outputs": [],
   "source": [
    "\n",
    "\n",
    "movies=[]\n",
    "for i in range(model_info[\"EPOCH_COUNT\"]):\n",
    "    net=network.Network_restored(\"{}/epoch_{}\".format(model_dir,i))\n",
    "    frame_list=[]\n",
    "    for x in X_test:\n",
    "        obj_id=utils.grep_obj_id(x)\n",
    "        x,_=dataset.load_obj_id(obj_id)\n",
    "        yp=net.predict(x)\n",
    "        frame_list.append(vis.voxel_ndarray(yp[0]))\n",
    "    movies.append(frame_list)\n"
   ]
  },
  {
   "cell_type": "code",
   "execution_count": null,
   "metadata": {
    "scrolled": true
   },
   "outputs": [],
   "source": [
    "vis.voxel_binary(yp[0],\"frame_{}\".format(i))\n",
    "image_list=utils.filter_files(\"frame*.png\")\n",
    "print(image_list)\n",
    "clip=ImageSequenceClip(image_list,fps=6)\n",
    "clip.write_videofile(\"movie.mp4\")\n"
   ]
  },
  {
   "cell_type": "code",
   "execution_count": null,
   "metadata": {
    "scrolled": true
   },
   "outputs": [],
   "source": [
    "loss_paths = dataset.construct_file_path_list_from_dir(\"aws\", \"loss.npy\")\n",
    "for path in loss_paths:\n",
    "    print(path)\n",
    "    print(utils.grep_learning_rate(path))\n",
    "    loss_arr = np.load(path)\n",
    "    print(loss_arr.shape)\n",
    "    plt.plot(loss_arr.flat)\n",
    "    plt.show()"
   ]
  },
  {
   "cell_type": "code",
   "execution_count": null,
   "metadata": {},
   "outputs": [],
   "source": [
    "p=np.load(\"voxel_prediction.npy\")\n",
    "p=np.transpose(p,[0,1,3,4,2])"
   ]
  },
  {
   "cell_type": "code",
   "execution_count": null,
   "metadata": {},
   "outputs": [],
   "source": [
    "vp=np.load(\"voxel_prediction.npy\")[23]\n",
    "vp=np.transpose(vp,[0,2,3,1])\n",
    "vis.voxel_b(vp)"
   ]
  },
  {
   "cell_type": "code",
   "execution_count": null,
   "metadata": {},
   "outputs": [],
   "source": [
    "vis.voxel_binary(yp[0])\n",
    "plt.figure()\n",
    "plt.imshow(vis.voxel_ndarray(yp[0]))"
   ]
  },
  {
   "cell_type": "code",
   "execution_count": null,
   "metadata": {},
   "outputs": [],
   "source": []
  },
  {
   "cell_type": "code",
   "execution_count": null,
   "metadata": {},
   "outputs": [],
   "source": [
    "weights=np.load(\"/Users/micmelesse/Documents/3D-reconstruction-with-neural-networks/data/ResidualGRUNet.npy\")"
   ]
  },
  {
   "cell_type": "code",
   "execution_count": null,
   "metadata": {},
   "outputs": [],
   "source": [
    "l=utils.list_folders(\"aws\")[-1]\n",
    "png_ls=dataset.construct_file_path_list_from_dir(\"aws/model_2018-04-02_20:10:12_L:0.1_E:40_B:16\", \"_p.png\")"
   ]
  },
  {
   "cell_type": "code",
   "execution_count": null,
   "metadata": {},
   "outputs": [],
   "source": [
    "png_ls"
   ]
  },
  {
   "cell_type": "code",
   "execution_count": null,
   "metadata": {},
   "outputs": [],
   "source": [
    "for f in png_ls:\n",
    "    obj_id=utils.grep_obj_id(f)\n",
    "    n=utils.grep_stepcount(f)\n",
    "    new_name=os.path.dirname(f)+\"/\"+n+'_'+obj_id+'_yp.png'\n",
    "#     print(f,new_name)\n",
    "    os.rename(f,new_name)\n",
    "    "
   ]
  },
  {
   "cell_type": "code",
   "execution_count": null,
   "metadata": {},
   "outputs": [],
   "source": [
    "png_ls"
   ]
  },
  {
   "cell_type": "code",
   "execution_count": null,
   "metadata": {},
   "outputs": [],
   "source": [
    "Image.open(png_ls[2])"
   ]
  },
  {
   "cell_type": "code",
   "execution_count": null,
   "metadata": {},
   "outputs": [],
   "source": []
  },
  {
   "cell_type": "code",
   "execution_count": null,
   "metadata": {},
   "outputs": [],
   "source": [
    "utils.grep_obj_id(\"uiudasniuansfuas_asnfasnfkasfunkasufn_x.png\")"
   ]
  },
  {
   "cell_type": "code",
   "execution_count": null,
   "metadata": {},
   "outputs": [],
   "source": []
  },
  {
   "cell_type": "code",
   "execution_count": null,
   "metadata": {},
   "outputs": [],
   "source": []
  }
 ],
 "metadata": {
  "kernelspec": {
   "display_name": "Python 3",
   "language": "python",
   "name": "python3"
  }
 },
 "nbformat": 4,
 "nbformat_minor": 2
}
