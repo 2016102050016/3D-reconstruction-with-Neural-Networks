{
 "cells": [
  {
   "cell_type": "code",
   "execution_count": 1,
   "metadata": {},
   "outputs": [
    {
     "name": "stderr",
     "output_type": "stream",
     "text": [
      "Using TensorFlow backend.\n"
     ]
    }
   ],
   "source": [
    "import os\n",
    "import utils\n",
    "import random\n",
    "import dataset\n",
    "import numpy as np\n",
    "from PIL import Image\n",
    "import matplotlib.pyplot as plt\n",
    "import tensorflow as tf\n",
    "import tensorflow.contrib.eager as tfe\n",
    "import tensorflow.contrib.keras as tf_keras\n",
    "from keras.models import Model\n",
    "from keras.layers import Input, Dense"
   ]
  },
  {
   "cell_type": "code",
   "execution_count": 2,
   "metadata": {},
   "outputs": [
    {
     "name": "stdout",
     "output_type": "stream",
     "text": [
      "[load_dataset] loading from ./ShapeNet\n",
      "[construct_paths] parsing dir ./ShapeNet for ['.obj', '.mtl'] ...\n",
      "... done\n",
      "[write_renders_to_disk] writing renders to ./ShapeNet_Renders/02691156/c1d8614b0e5e3f3bf5a498db2fc1d347 ... \n",
      "... done\n",
      "[fetch_renders_from_disk] fetching renders from ./ShapeNet_Renders/02691156/c1d8614b0e5e3f3bf5a498db2fc1d347 ... \n",
      "... done\n",
      "[write_renders_to_disk] writing renders to ./ShapeNet_Renders/02691156/f5a667f5796b9a0b9a6e43b878d5b335 ... \n",
      "... done\n",
      "[fetch_renders_from_disk] fetching renders from ./ShapeNet_Renders/02691156/f5a667f5796b9a0b9a6e43b878d5b335 ... \n",
      "... done\n"
     ]
    }
   ],
   "source": [
    "# configst\n",
    "#tfe.enable_eager_execution()\n",
    "sess=tf.Session()\n",
    "%matplotlib inline\n",
    "\n",
    "# load data\n",
    "X=dataset.load_dataset(\"./ShapeNet\",num_of_examples=2)\n",
    "Y=None;\n",
    "\n",
    "# net parameters\n",
    "conv_filter_count = [96, 128, 256, 256, 256, 256]\n",
    "deconv_filter_count = [128, 128, 128, 64, 32, 2]"
   ]
  },
  {
   "cell_type": "code",
   "execution_count": 3,
   "metadata": {},
   "outputs": [
    {
     "name": "stdout",
     "output_type": "stream",
     "text": [
      "(10, 512, 512, 3)\n",
      "(10, 255, 255, 96)\n",
      "(10, 126, 126, 128)\n",
      "(10, 62, 62, 256)\n",
      "(10, 30, 30, 256)\n",
      "(10, 14, 14, 256)\n",
      "(10, 6, 6, 256)\n",
      "(10, 1, 9216)\n",
      "(10, 1, 1024)\n"
     ]
    }
   ],
   "source": [
    "# encoder network\n",
    "cur_tensor=tf.convert_to_tensor(X[0],dtype=tf.float32)\n",
    "print(cur_tensor.shape)\n",
    "k_s = [3,3]\n",
    "for i in range(6): \n",
    "    ks=[7,7]if i is 0 else k_s  \n",
    "    #with tf.name_scope(\"encoder_layer\"):\n",
    "    cur_tensor=tf_keras.layers.Conv2D(filters=conv_filter_count[i],kernel_size= k_s)(cur_tensor)\n",
    "    cur_tensor=tf_keras.layers.MaxPooling2D()(cur_tensor)\n",
    "    cur_tensor=tf_keras.layers.Activation('relu')(cur_tensor)\n",
    "    print(cur_tensor.shape)\n",
    "    \n",
    "# flatten tensor before 3D-LSTM cells\n",
    "render_count=cur_tensor.get_shape().as_list()[0]\n",
    "cur_tensor=tf.reshape(cur_tensor,[render_count,1,-1])\n",
    "print(cur_tensor.shape)\n",
    "cur_tensor=tf_keras.layers.Dense(1024)(cur_tensor)\n",
    "print(cur_tensor.shape)\n",
    "feature_vector=cur_tensor"
   ]
  },
  {
   "cell_type": "code",
   "execution_count": 4,
   "metadata": {},
   "outputs": [
    {
     "name": "stdout",
     "output_type": "stream",
     "text": [
      "WARNING:tensorflow:From /anaconda3/lib/python3.6/site-packages/tensorflow/python/keras/_impl/keras/backend.py:1456: calling reduce_sum (from tensorflow.python.ops.math_ops) with keep_dims is deprecated and will be removed in a future version.\n",
      "Instructions for updating:\n",
      "keep_dims is deprecated, use keepdims instead\n",
      "(10, 1024)\n"
     ]
    }
   ],
   "source": [
    "# RNN\n",
    "cur_tensor=tf_keras.layers.GRU(1024)(cur_tensor)\n",
    "print(cur_tensor.shape)"
   ]
  },
  {
   "cell_type": "markdown",
   "metadata": {},
   "source": [
    "# decoder network\n",
    "for i in range(6):\n",
    "    with tf.name_scope(\"decoder_layer\"):\n",
    "        cur_tensor=tf_keras.layers.Convolution3DTranspose(filters=deconv_filter_count[i],kernel_size=(3,3,3))(cur_tensor)\n",
    "        cur_tensor=tf_keras.layers.UpSampling3D()(cur_tensor)\n",
    "        cur_tensor=tf_keras.layers.Activation('relu')(cur_tensor)\n",
    "        print(cur_tensor.shape)\n",
    "    \n",
    "print(cur_tensor.shape())"
   ]
  },
  {
   "cell_type": "code",
   "execution_count": 5,
   "metadata": {},
   "outputs": [],
   "source": [
    "# serialize graph for tensorboard\n",
    "writer = tf.summary.FileWriter(\"./logs/\")\n",
    "writer.add_graph(sess.graph)"
   ]
  },
  {
   "cell_type": "code",
   "execution_count": 6,
   "metadata": {},
   "outputs": [],
   "source": []
  }
 ],
 "metadata": {
  "kernelspec": {
   "display_name": "Python 3",
   "language": "python",
   "name": "python3"
  },
  "language_info": {
   "codemirror_mode": {
    "name": "ipython",
    "version": 3
   },
   "file_extension": ".py",
   "mimetype": "text/x-python",
   "name": "python",
   "nbconvert_exporter": "python",
   "pygments_lexer": "ipython3",
   "version": "3.6.2"
  }
 },
 "nbformat": 4,
 "nbformat_minor": 2
}
