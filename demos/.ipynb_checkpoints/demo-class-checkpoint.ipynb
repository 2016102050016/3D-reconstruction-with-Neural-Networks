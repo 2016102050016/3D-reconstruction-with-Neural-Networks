{
 "cells": [
  {
   "cell_type": "code",
   "execution_count": 2,
   "metadata": {},
   "outputs": [],
   "source": [
    "import os\n",
    "import sys\n",
    "import utils\n",
    "import random\n",
    "import dataset\n",
    "import binvox_rw\n",
    "import numpy as np\n",
    "import pandas as pd\n",
    "from PIL import Image\n",
    "from datetime import datetime\n",
    "import matplotlib.pyplot as plt\n",
    "import tensorflow as tf\n",
    "# import tensorflow.contrib.eager as tfe\n",
    "# tfe.enable_eager_execution()"
   ]
  },
  {
   "cell_type": "code",
   "execution_count": 3,
   "metadata": {},
   "outputs": [
    {
     "name": "stderr",
     "output_type": "stream",
     "text": [
      "/anaconda3/lib/python3.6/site-packages/numpy/lib/arraysetops.py:463: FutureWarning: elementwise comparison failed; returning scalar instead, but in the future will perform elementwise comparison\n",
      "  mask |= (ar1 == a)\n"
     ]
    }
   ],
   "source": [
    "# load data\n",
    "shapenet=dataset.ShapeNet()\n",
    "# shapenet.batch_size=3\n",
    "\n",
    "# with tf.name_scope('input'):\n",
    "x=tf.placeholder(tf.float32,[shapenet.batch_size,137,137,3])\n",
    "y=tf.placeholder(tf.float32,[shapenet.batch_size,32,32,32])"
   ]
  },
  {
   "cell_type": "code",
   "execution_count": 4,
   "metadata": {},
   "outputs": [
    {
     "name": "stdout",
     "output_type": "stream",
     "text": [
      "(24, 137, 137, 3)\n",
      "(24, 68, 68, 96)\n",
      "(24, 34, 34, 128)\n",
      "(24, 17, 17, 256)\n",
      "(24, 8, 8, 256)\n",
      "(24, 4, 4, 256)\n",
      "(24, 2, 2, 256)\n",
      "(24, 1024)\n"
     ]
    }
   ],
   "source": [
    "# encoder network\n",
    "cur_tensor=x\n",
    "encoder_outputs=[x]\n",
    "print(cur_tensor.shape)\n",
    "\n",
    "k_s = [3,3]\n",
    "conv_filter_count = [96, 128, 256, 256, 256, 256]\n",
    "for i in range(6): \n",
    "    ks=[7,7]if i is 0 else k_s  \n",
    "    # with tf.name_scope(\"encoding_block\"):\n",
    "    cur_tensor=tf.layers.conv2d(cur_tensor,filters=conv_filter_count[i],padding='SAME',kernel_size= k_s,activation=None)\n",
    "    cur_tensor=tf.layers.max_pooling2d(cur_tensor,2,2)\n",
    "    cur_tensor=tf.nn.relu(cur_tensor)\n",
    "    print(cur_tensor.shape)\n",
    "    encoder_outputs.append(cur_tensor)\n",
    "\n",
    "# flatten tensor\n",
    "cur_tensor=tf.contrib.layers.flatten(cur_tensor)\n",
    "cur_tensor=tf.contrib.layers.fully_connected(cur_tensor,1024,activation_fn=None)\n",
    "encoder_outputs.append(cur_tensor)\n",
    "cur_tensor=encoder_outputs[-1]\n",
    "print(cur_tensor.shape)"
   ]
  },
  {
   "cell_type": "code",
   "execution_count": 6,
   "metadata": {},
   "outputs": [],
   "source": [
    "N=4\n",
    "n_h=256\n",
    "# create 3D_Convolutional_LSTM \n",
    "class LSTM3D:\n",
    "    def __init__(self,N=4,n_h=256):  \n",
    "        # may be constant\n",
    "        self.f_t=tf.Variable(tf.zeros([N,N,N,n_h]),name=\"forget_gates\")\n",
    "        self.i_t=tf.Variable(tf.zeros([N,N,N,n_h]),name=\"input_gates\")\n",
    "        self.o_t=tf.Variable(tf.zeros([N,N,N,n_h]),name=\"output_gates\")\n",
    "        self.s_t=tf.Variable(tf.zeros([N,N,N,n_h]),name=\"memory_cell\")\n",
    "        self.h_t=tf.Variable(tf.zeros([N,N,N,n_h]),name=\"hidden_state\")\n",
    "\n",
    "recurrence_module=LSTM3D()"
   ]
  },
  {
   "cell_type": "code",
   "execution_count": null,
   "metadata": {},
   "outputs": [],
   "source": [
    "h_prev=tf.zeros([N,N,N,256])\n",
    "s_prev=tf.zeros([4,4,4,256])\n",
    "\n",
    "\n",
    "W=[tf.Variable(tf.ones([1024,h_N]),name=\"W%d\"%(i)) for i in range(N**3)]\n",
    "b=[tf.Variable(tf.ones([1,h_N]),name=\"b%d\"%(i)) for i in range(N**3)]\n",
    "U=[tf.Variable(tf.ones([3,3,3]),name=\"U%d\"%(i)) for i in range(N**3)]\n",
    "\n",
    "Wx=[tf.matmul(x,W[i]) for i in range(N)]\n",
    "Uh=[tf.nn.convolution(h_prev,U[i],padding=\"SAME\") for i in range(N)]"
   ]
  },
  {
   "cell_type": "code",
   "execution_count": null,
   "metadata": {},
   "outputs": [],
   "source": [
    "# update unit\n",
    "recurrence_module.f_t=tf.sigmoid(Wx[0] + Uh[0] + b[0])\n",
    "recurrence_module.i_t=tf.sigmoid(Wx[1] + Uh[1] + b[1])\n",
    "recurrence_module.o_t=tf.sigmoid(Wx[2]+ Uh[2] + b[2])\n",
    "recurrence_module.s_t=tf.multiply(f_t,s_t) + tf.multiply(i_t,tf.tanh(Wx[3]+ Uh[3] + b[3]))\n",
    "recurrence_module.h_t=tf.tanh(s_t)\n",
    "\n",
    "    cur_tensor=tf.transpose(h_t,[3,0,1,2,4])\n",
    "    print(cur_tensor.shape)"
   ]
  },
  {
   "cell_type": "code",
   "execution_count": null,
   "metadata": {},
   "outputs": [],
   "source": [
    "# decoding network\n",
    "# batch_size=cur_tensor.shape.as_list()[0]\n",
    "# cur_tensor=tf.reshape(cur_tensor,[batch_size,2,2,2,-1])\n",
    "# print(cur_tensor.shape)\n",
    "\n",
    "decoder_outputs=[]\n",
    "cur_tensor=utils.unpool(cur_tensor)\n",
    "print(cur_tensor.shape)\n",
    "decoder_outputs.append(cur_tensor)\n",
    "\n",
    "k_s = [3,3,3]\n",
    "deconv_filter_count = [128, 128, 128, 64, 32, 2]\n",
    "for i in range(2,4): \n",
    "    # with tf.name_scope(\"decoding_block\"):\n",
    "    cur_tensor=tf.layers.conv3d_transpose(cur_tensor,padding='SAME',filters=deconv_filter_count[i],kernel_size= k_s,activation=None)\n",
    "    cur_tensor=utils.unpool(cur_tensor)\n",
    "    cur_tensor=tf.nn.relu(cur_tensor)\n",
    "    print(cur_tensor.shape)\n",
    "    decoder_outputs.append(cur_tensor)\n",
    "            \n",
    "for i in range(4,6): \n",
    "    # with tf.name_scope(\"decoding_block_without_unpooling\"):\n",
    "    cur_tensor=tf.layers.conv3d_transpose(cur_tensor,padding='SAME',filters=deconv_filter_count[i],kernel_size= k_s,activation=None)\n",
    "    cur_tensor=tf.nn.relu(cur_tensor)\n",
    "    print(cur_tensor.shape)\n",
    "    decoder_outputs.append(cur_tensor)"
   ]
  },
  {
   "cell_type": "code",
   "execution_count": null,
   "metadata": {},
   "outputs": [],
   "source": [
    "#3d voxel-wise softmax\n",
    "y_hat=tf.nn.softmax(decoder_outputs[-1])\n",
    "p=y_hat[:,:,:,:,0]\n",
    "q=y_hat[:,:,:,:,1]\n",
    "cross_entropies=tf.reduce_sum(-tf.multiply(tf.log(p),y)-tf.multiply(tf.log(q),1-y),[1,2,3])\n",
    "loss_voxel=tf.reduce_mean(cross_entropies)\n",
    "optimizer = tf.train.GradientDescentOptimizer(0.5).minimize(loss_voxel)\n",
    "\n",
    "sess=tf.Session()"
   ]
  },
  {
   "cell_type": "code",
   "execution_count": null,
   "metadata": {},
   "outputs": [],
   "source": [
    "# setup training\n",
    "root_train_dir = \"train_dir\"\n",
    "cur_time = str(datetime.now()).translate({ord(\" \"): \"_\"})\n",
    "train_dir=os.path.join(root_train_dir,cur_time)\n",
    "saver = tf.train.Saver()\n",
    "init=tf.global_variables_initializer()\n",
    "sess.run(init)"
   ]
  },
  {
   "cell_type": "code",
   "execution_count": null,
   "metadata": {},
   "outputs": [],
   "source": [
    "train=shapenet.next_train_batch()\n",
    "train_X=dataset.load_dataset(train[:,0])\n",
    "train_Y=dataset.load_labels(train[:,1])\n",
    "fd={x:train_X, y: train_Y};"
   ]
  },
  {
   "cell_type": "code",
   "execution_count": null,
   "metadata": {},
   "outputs": [],
   "source": [
    "%matplotlib inline\n",
    "%load_ext autoreload\n",
    "%autoreload \n",
    "\n",
    "im_3d=encoder_outputs[1].eval(session=sess,feed_dict=fd)[0]\n",
    "im_2d=utils.imshow_multichannel(im_3d)\n",
    "plt.imsave(\"test.png\",im_2d)"
   ]
  },
  {
   "cell_type": "code",
   "execution_count": null,
   "metadata": {},
   "outputs": [],
   "source": [
    "# train network\n",
    "loss=[]\n",
    "epoch=5\n",
    "for e in range(epoch):     \n",
    "    batch_number=0\n",
    "    train=shapenet.next_train_batch()\n",
    "    while(train is not None):\n",
    "        iter_dir=\"{}/epoch_{:03d}/batch_{:03d}\".format(train_dir,e,batch_number)    \n",
    "        os.makedirs(iter_dir)\n",
    "        \n",
    "        train_X=dataset.load_dataset(train[:,0])\n",
    "        train_Y=dataset.load_labels(train[:,1])\n",
    "        fd={x:train_X, y: train_Y};\n",
    "        l=sess.run([loss_voxel],feed_dict=fd)\n",
    "        loss.append(l[0]) \n",
    "        print(\"{}: loss={}\".format(iter_dir,loss[-1]))\n",
    "        \n",
    "        # record parameters and generate plots\n",
    "        fig = plt.figure()\n",
    "        plt.plot(loss)\n",
    "        plt.savefig(\"{}/loss.png\".format(iter_dir),bbox_inches='tight')\n",
    "        saver.save(sess,\"{}/model.ckpt\".format(iter_dir))\n",
    "        plt.close()\n",
    "        # update\n",
    "        train=shapenet.next_train_batch()\n",
    "        batch_number+=1"
   ]
  },
  {
   "cell_type": "code",
   "execution_count": null,
   "metadata": {},
   "outputs": [],
   "source": [
    "# tensorboard\n",
    "writer = tf.summary.FileWriter(\"./logs/\")\n",
    "writer.add_graph(sess.graph)"
   ]
  },
  {
   "cell_type": "code",
   "execution_count": null,
   "metadata": {},
   "outputs": [],
   "source": [
    "# model output as a voxelized image\n",
    "out=tf.cast(tf.argmax(y_hat,axis=4),dtype=tf.float32)\n",
    "out=sess.run(out,feed_dict=feed_dict)\n",
    "outvoxel=binvox_rw.Voxels(out,out.shape,[0,0,0],1,'xzy')\n",
    "with open(\"out/{i}.binvox\",'w') as f:\n",
    "    outvoxel.write(f)"
   ]
  }
 ],
 "metadata": {
  "kernelspec": {
   "display_name": "Python 3",
   "language": "python",
   "name": "python3"
  },
  "language_info": {
   "codemirror_mode": {
    "name": "ipython",
    "version": 3
   },
   "file_extension": ".py",
   "mimetype": "text/x-python",
   "name": "python",
   "nbconvert_exporter": "python",
   "pygments_lexer": "ipython3",
   "version": "3.6.2"
  }
 },
 "nbformat": 4,
 "nbformat_minor": 2
}
