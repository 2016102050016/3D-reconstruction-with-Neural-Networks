{
 "cells": [
  {
   "cell_type": "code",
   "execution_count": 1,
   "metadata": {},
   "outputs": [
    {
     "name": "stderr",
     "output_type": "stream",
     "text": [
      "WARNING:trimesh:graph-tool unavailable, some operations will be much slower\n",
      "WARNING:trimesh:No FCL -- collision checking will not work\n",
      "WARNING:trimesh:shapely.geometry.Polygon not available!\n"
     ]
    }
   ],
   "source": [
    "import os\n",
    "import sys\n",
    "import math\n",
    "import utils\n",
    "import random\n",
    "import layers\n",
    "import dataset\n",
    "import network\n",
    "import binvox_rw\n",
    "import numpy as np\n",
    "import pandas as pd\n",
    "from PIL import Image\n",
    "from datetime import datetime\n",
    "import matplotlib.pyplot as plt\n",
    "import tensorflow as tf\n",
    "# tf.contrib.eager.enable_eager_execution() "
   ]
  },
  {
   "cell_type": "code",
   "execution_count": 2,
   "metadata": {},
   "outputs": [
    {
     "name": "stdout",
     "output_type": "stream",
     "text": [
      "(?, 24, 137, 137, 3)\n",
      "(?, 24, 68, 68, 96)\n",
      "(?, 24, 34, 34, 128)\n",
      "(?, 24, 17, 17, 256)\n",
      "(?, 24, 8, 8, 256)\n",
      "(?, 24, 4, 4, 256)\n",
      "(?, 24, 2, 2, 256)\n",
      "(?, 24, 1024)\n",
      "(4, 4, 4, ?, 24, 1024)\n",
      "(4, 4, 4, ?, 256)\n",
      "(?, 4, 4, 4, 256)\n",
      "(?, 8, 8, 8, 256)\n",
      "(?, 16, 16, 16, 128)\n",
      "(?, 32, 32, 32, 64)\n",
      "(?, 32, 32, 32, 32)\n",
      "(?, 32, 32, 32, 2)\n"
     ]
    }
   ],
   "source": [
    "network.setup_net()"
   ]
  },
  {
   "cell_type": "code",
   "execution_count": null,
   "metadata": {},
   "outputs": [],
   "source": [
    "# setup dataset\n",
    "shapenet=dataset.ShapeNet()\n",
    "f=open(\"net.config\")\n",
    "shapenet.batch_size=int(f.readline())"
   ]
  },
  {
   "cell_type": "code",
   "execution_count": null,
   "metadata": {},
   "outputs": [],
   "source": [
    "# setup training\n",
    "sess=tf.Session()\n",
    "root_train_dir = \"train_dir\"\n",
    "cur_time = str(datetime.now().strftime('%I:%M:%S%p %Y/%m/%d'))\n",
    "train_dir=os.path.join(root_train_dir,'session_{}'.format(cur_time))\n",
    "saver = tf.train.Saver()\n",
    "init=tf.global_variables_initializer()\n",
    "sess.run(init)\n",
    "\n",
    "# train network\n",
    "print(\"starting training at {}\".format(cur_time))\n",
    "loss_session=[]\n",
    "loss_all=[]\n",
    "epoch=5\n",
    "for e in range(epoch):\n",
    "    loss_epoch=[]\n",
    "    # print(\"starting epoch_{:03d}\".format(e))\n",
    "    epoch_dir=\"{}/epoch_{:03d}\".format(train_dir,e)\n",
    "    os.makedirs(epoch_dir)\n",
    "    batch_number=0\n",
    "    shapenet.reset()\n",
    "    data,label=shapenet.next_train_batch()\n",
    "    while(data is not None): \n",
    "        feed_dict={x:data, y: label};\n",
    "        batch_info=sess.run([tf.trainable_variables(),loss],feed_dict=feed_dict)\n",
    "        loss_batch=batch_info[-1]\n",
    "        loss_epoch.append(loss_batch) \n",
    "        train=shapenet.next_train_batch() # update\n",
    "        batch_number+=1\n",
    "        # show info about current batch\n",
    "        if batch_number%100==0:\n",
    "            print(\"epoch_{:03d}-batch_{:03d}: loss={}\".format(e,batch_number,loss_batch))\n",
    "\n",
    "    loss_session.append(loss_epoch)\n",
    "    loss_all+=loss_epoch\n",
    "    # record parameters and generate plots \n",
    "    fig = plt.figure()\n",
    "    plt.plot(loss_session)\n",
    "    plt.savefig(\"{}/loss.png\".format(epoch_dir),bbox_inches='tight')\n",
    "    saver.save(sess,\"{}/model.ckpt\".format(epoch_dir))\n",
    "    plt.close()\n",
    "    # save epoch losses"
   ]
  }
 ],
 "metadata": {
  "kernelspec": {
   "display_name": "Python 3",
   "language": "python",
   "name": "python3"
  },
  "language_info": {
   "codemirror_mode": {
    "name": "ipython",
    "version": 3
   },
   "file_extension": ".py",
   "mimetype": "text/x-python",
   "name": "python",
   "nbconvert_exporter": "python",
   "pygments_lexer": "ipython3",
   "version": "3.6.2"
  }
 },
 "nbformat": 4,
 "nbformat_minor": 2
}
