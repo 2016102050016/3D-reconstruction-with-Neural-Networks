{
 "cells": [
  {
   "cell_type": "code",
   "execution_count": 1,
   "metadata": {},
   "outputs": [],
   "source": [
    "import os\n",
    "import utils\n",
    "import random\n",
    "import dataset\n",
    "import numpy as np\n",
    "from PIL import Image\n",
    "import matplotlib.pyplot as plt\n",
    "import tensorflow as tf\n",
    "import tensorflow.contrib.eager as tfe\n",
    "\n",
    "%matplotlib inline\n",
    "tfe.enable_eager_execution()\n",
    "#sess=tf.Session()"
   ]
  },
  {
   "cell_type": "code",
   "execution_count": 2,
   "metadata": {},
   "outputs": [
    {
     "name": "stdout",
     "output_type": "stream",
     "text": [
      "[load_dataset] loading from ./ShapeNet\n",
      "[construct_paths] parsing dir ./ShapeNet for ['.obj', '.mtl'] ...\n",
      "... done\n",
      "[write_renders_to_disk] writing renders to ./ShapeNet_Renders/02691156/b5589ad89ceab860123d1d349cb8cfb9 ... \n",
      "... done\n",
      "[fetch_renders_from_disk] fetching renders from ./ShapeNet_Renders/02691156/b5589ad89ceab860123d1d349cb8cfb9 ... \n",
      "... done\n"
     ]
    }
   ],
   "source": [
    "# load data\n",
    "os.system(\"sh clean.sh\")\n",
    "X=dataset.load_dataset(\"./ShapeNet\",render_count=1,num_of_examples=1)\n",
    "Y=None;"
   ]
  },
  {
   "cell_type": "code",
   "execution_count": 3,
   "metadata": {},
   "outputs": [
    {
     "name": "stdout",
     "output_type": "stream",
     "text": [
      "(10, 512, 512, 3)\n",
      "(10, 255, 255, 96)\n",
      "(10, 126, 126, 128)\n",
      "(10, 62, 62, 256)\n",
      "(10, 30, 30, 256)\n",
      "(10, 14, 14, 256)\n",
      "(10, 6, 6, 256)\n",
      "(10, 9216)\n",
      "(10, 1024)\n"
     ]
    }
   ],
   "source": [
    "# encoder network\n",
    "with tf.name_scope(\"encoding_network\"):\n",
    "    cur_tensor=tf.convert_to_tensor(X[0],dtype=tf.float32)\n",
    "    print(cur_tensor.shape)\n",
    "    k_s = [3,3]\n",
    "    conv_filter_count = [96, 128, 256, 256, 256, 256]\n",
    "    for i in range(6): \n",
    "        ks=[7,7]if i is 0 else k_s  \n",
    "        with tf.name_scope(\"encoding_block\"):\n",
    "            cur_tensor=tf.layers.conv2d(cur_tensor,filters=conv_filter_count[i],kernel_size= k_s,activation=None)\n",
    "            cur_tensor=tf.layers.max_pooling2d(cur_tensor,2,2)\n",
    "            cur_tensor=tf.nn.relu(cur_tensor)\n",
    "            print(cur_tensor.shape)\n",
    "\n",
    "    # flatten tensor\n",
    "    cur_tensor=tf.contrib.layers.flatten(cur_tensor)\n",
    "    print(cur_tensor.shape)\n",
    "    cur_tensor=tf.contrib.layers.fully_connected(cur_tensor,1024)\n",
    "    print(cur_tensor.shape)"
   ]
  },
  {
   "cell_type": "code",
   "execution_count": null,
   "metadata": {},
   "outputs": [],
   "source": [
    "# 3D_Convolutional_LSTM \n",
    "print(cur_tensor.shape)\n",
    "# create 4X4X4 grid of cells\n",
    "cell_grid=utils.grid3D(tf.nn.rnn_cell.GRUCell(27*1024),N=4)\n",
    "\n",
    "\n",
    "for index, cell in np.ndenumerate(cell_grid):\n",
    "    cell_neighbors=utils.get_neighbors(cell_grid,loc=index)\n",
    "\n",
    "    (cur_tensor,cur_tensor)=cell(cur_tensor,cur_tensor)\n",
    "    \n",
    "    \n",
    "    \n",
    "    "
   ]
  },
  {
   "cell_type": "code",
   "execution_count": null,
   "metadata": {},
   "outputs": [],
   "source": [
    "# decoding network\n",
    "# batch_size=cur_tensor.shape.as_list()[0]\n",
    "# cur_tensor=tf.reshape(cur_tensor,[batch_size,2,2,2,-1])\n",
    "# print(cur_tensor.shape)\n",
    "with tf.name_scope(\"decoding_network\"):\n",
    "    k_s = [3,3,3]\n",
    "    deconv_filter_count = [128, 128, 128, 64, 32, 2]\n",
    "    for i in range(6): \n",
    "        with tf.name_scope(\"decoding_block\"):\n",
    "                cur_tensor=tf.layers.conv3d_transpose(cur_tensor,padding='VALID',filters=deconv_filter_count[i],kernel_size= k_s,activation=None)\n",
    "                cur_tensor=utils.unpool(cur_tensor)\n",
    "                cur_tensor=tf.nn.relu(cur_tensor)\n",
    "                print(cur_tensor.shape)"
   ]
  },
  {
   "cell_type": "code",
   "execution_count": null,
   "metadata": {},
   "outputs": [],
   "source": [
    "# serialize graph for tensorboard\n",
    "os.system(\"rm -rf ./logs/*\")\n",
    "writer = tf.summary.FileWriter(\"./logs/\")\n",
    "writer.add_graph(sess.graph)"
   ]
  },
  {
   "cell_type": "code",
   "execution_count": null,
   "metadata": {},
   "outputs": [],
   "source": []
  }
 ],
 "metadata": {
  "kernelspec": {
   "display_name": "Python 3",
   "language": "python",
   "name": "python3"
  },
  "language_info": {
   "codemirror_mode": {
    "name": "ipython",
    "version": 3
   },
   "file_extension": ".py",
   "mimetype": "text/x-python",
   "name": "python",
   "nbconvert_exporter": "python",
   "pygments_lexer": "ipython3",
   "version": "3.6.2"
  }
 },
 "nbformat": 4,
 "nbformat_minor": 2
}
