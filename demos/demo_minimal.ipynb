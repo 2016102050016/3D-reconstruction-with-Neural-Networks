{
 "cells": [
  {
   "cell_type": "code",
   "execution_count": 1,
   "metadata": {},
   "outputs": [],
   "source": [
    "import os\n",
    "import sys\n",
    "import utils\n",
    "import random\n",
    "import dataset\n",
    "import train\n",
    "import network\n",
    "import binvox_rw\n",
    "import numpy as np\n",
    "import pandas as pd\n",
    "from PIL import Image\n",
    "import tensorflow as tf"
   ]
  },
  {
   "cell_type": "code",
   "execution_count": 2,
   "metadata": {},
   "outputs": [
    {
     "name": "stderr",
     "output_type": "stream",
     "text": [
      "/anaconda3/lib/python3.6/site-packages/numpy/lib/arraysetops.py:463: FutureWarning: elementwise comparison failed; returning scalar instead, but in the future will perform elementwise comparison\n",
      "  mask |= (ar1 == a)\n"
     ]
    }
   ],
   "source": [
    "# load data\n",
    "shapenet=dataset.ShapeNet()\n",
    "# shapenet.batch_size=3"
   ]
  },
  {
   "cell_type": "code",
   "execution_count": 3,
   "metadata": {},
   "outputs": [],
   "source": [
    "x=tf.placeholder(tf.float32,[shapenet.batch_size,137,137,3])\n",
    "feature_vector=network.encoder(x)\n",
    "hidden_state=network.recurrent_module(feature_vector)\n",
    "prediction=network.decoder(hidden_state)\n",
    "y=tf.placeholder(tf.float32,[shapenet.batch_size,32,32,32])\n",
    "optimizer = train.evaluate(prediction,y)"
   ]
  },
  {
   "cell_type": "code",
   "execution_count": null,
   "metadata": {},
   "outputs": [],
   "source": [
    "saver = tf.train.Saver()"
   ]
  },
  {
   "cell_type": "code",
   "execution_count": null,
   "metadata": {},
   "outputs": [],
   "source": [
    "# start new or continue exisiting training session\n",
    "trainer=train.Trainer()\n",
    "trainer.\n",
    "\n",
    "# train network\n",
    "epoch=5\n",
    "sess=tf.Session()\n",
    "init = tf.global_variables_initializer()\n",
    "sess.run(init)\n",
    "loss=[]       \n",
    "for e in range(1,epoch+1): \n",
    "    common_dir=\"./{}/epoch_{:03d}/batch_{:03d}\".format(train_dir,e,0)\n",
    "    if not os.path.isdir(common_dir):\n",
    "        os.makedirs(common_dir)\n",
    "        save_path = saver.save(sess,\"{}/model.ckpt\".format(common_dir))\n",
    "        print(\"{}: inital config for epoch saved at epoch_{:03d}/batch_{:03d}\".format(train_dir,e,0))\n",
    "    else:\n",
    "        print(\"possibliy corrupt intial param config manaully create inital condition\")\n",
    "    batch_number=1\n",
    "    train=shapenet.next_train_batch()\n",
    "    while(train is not None):\n",
    "        common_dir=\"./{}/epoch_{:03d}/batch_{:03d}\".format(train_dir,e,batch_number)\n",
    "        if not os.path.isdir(common_dir):\n",
    "            train_X=dataset.load_dataset(train[:,0])\n",
    "            train_Y=dataset.load_labels(train[:,1])\n",
    "            fd={x:train_X , y: train_Y};\n",
    "            l=sess.run([loss_voxel],feed_dict=fd)\n",
    "            loss.append(l) \n",
    "            os.makedirs(common_dir)\n",
    "            # record parameters and generate plots\n",
    "            \n",
    "            print(\"{}: epoch {:03d} batch {:03d} \".format(train_dir,e,batch_number))\n",
    "        else:\n",
    "            prev_dir=\"./{}/epoch_{:03d}/batch_{:03d}\".format(train_dir,e,batch_number-1)\n",
    "            saver.restore(sess,\"{}/model.ckpt\".format(prev_dir))\n",
    "            continue\n",
    "        \n",
    "        # update\n",
    "        train=shapenet.next_train_batch()\n",
    "        batch_number+=1"
   ]
  },
  {
   "cell_type": "code",
   "execution_count": null,
   "metadata": {},
   "outputs": [],
   "source": [
    "self.writer = tf.summary.FileWriter(\"./logs/\")\n",
    "self.writer.add_graph(sess.graph)  "
   ]
  },
  {
   "cell_type": "code",
   "execution_count": null,
   "metadata": {},
   "outputs": [],
   "source": [
    "# model output as a voxelized image\n",
    "out=tf.cast(tf.argmax(y_hat,axis=4),dtype=tf.float32)\n",
    "out=sess.run(out,feed_dict=feed_dict)\n",
    "outvoxel=binvox_rw.Voxels(out,out.shape,[0,0,0],1,'xzy')\n",
    "with open(\"out/{i}.binvox\",'w') as f:\n",
    "    outvoxel.write(f)"
   ]
  },
  {
   "cell_type": "code",
   "execution_count": null,
   "metadata": {},
   "outputs": [],
   "source": []
  }
 ],
 "metadata": {
  "kernelspec": {
   "display_name": "Python 3",
   "language": "python",
   "name": "python3"
  },
  "language_info": {
   "codemirror_mode": {
    "name": "ipython",
    "version": 3
   },
   "file_extension": ".py",
   "mimetype": "text/x-python",
   "name": "python",
   "nbconvert_exporter": "python",
   "pygments_lexer": "ipython3",
   "version": "3.6.2"
  }
 },
 "nbformat": 4,
 "nbformat_minor": 2
}
