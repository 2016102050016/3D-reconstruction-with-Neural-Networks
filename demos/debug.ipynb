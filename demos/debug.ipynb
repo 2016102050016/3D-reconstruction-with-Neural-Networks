{
 "cells": [
  {
   "cell_type": "code",
   "execution_count": 1,
   "metadata": {},
   "outputs": [],
   "source": [
    "import os\n",
    "import sys\n",
    "import math\n",
    "import utils\n",
    "import random\n",
    "import layers\n",
    "import dataset\n",
    "import binvox_rw\n",
    "import numpy as np\n",
    "import pandas as pd\n",
    "import tensorflow as tf\n",
    "import matplotlib.pyplot as plt\n",
    "\n",
    "from PIL import Image\n",
    "from datetime import datetime\n",
    "from mpl_toolkits.mplot3d import Axes3D"
   ]
  },
  {
   "cell_type": "code",
   "execution_count": 2,
   "metadata": {},
   "outputs": [
    {
     "name": "stdout",
     "output_type": "stream",
     "text": [
      "(?, 24, 137, 137, 3)\n",
      "(?, 24, 68, 68, 96)\n",
      "(?, 24, 34, 34, 128)\n",
      "(?, 24, 17, 17, 256)\n",
      "(?, 24, 8, 8, 256)\n",
      "(?, 24, 4, 4, 256)\n",
      "(?, 24, 2, 2, 256)\n",
      "(?, 24, 1024)\n"
     ]
    }
   ],
   "source": [
    "# place holders\n",
    "x=tf.placeholder(tf.float32,[None,24,137,137,3]) \n",
    "y=tf.placeholder(tf.float32,[None,32,32,32])\n",
    "\n",
    "# encoder network\n",
    "cur_tensor=x\n",
    "encoder_outputs=[cur_tensor]\n",
    "print(cur_tensor.shape)\n",
    "k_s = [3,3]\n",
    "conv_filter_count = [96, 128, 256, 256, 256, 256]\n",
    "for i in range(6): \n",
    "    ks=[7,7]if i is 0 else k_s  \n",
    "    with tf.name_scope(\"encoding_block\"): \n",
    "        cur_tensor=tf.map_fn(lambda a:tf.layers.conv2d(a,filters=conv_filter_count[i],padding='SAME',kernel_size= k_s,activation=None),cur_tensor)\n",
    "        cur_tensor=tf.map_fn(lambda a:tf.layers.max_pooling2d(a,2,2),cur_tensor)\n",
    "        cur_tensor=tf.map_fn(tf.nn.relu,cur_tensor)\n",
    "        print(cur_tensor.shape)\n",
    "        encoder_outputs.append(cur_tensor)\n",
    "\n",
    "# flatten tensors\n",
    "cur_tensor=tf.map_fn(tf.contrib.layers.flatten,cur_tensor)\n",
    "cur_tensor=tf.map_fn(lambda a:tf.contrib.layers.fully_connected(a,1024,activation_fn=None),cur_tensor)\n",
    "encoder_outputs.append(cur_tensor)\n",
    "print(cur_tensor.shape)"
   ]
  },
  {
   "cell_type": "code",
   "execution_count": 3,
   "metadata": {},
   "outputs": [
    {
     "name": "stdout",
     "output_type": "stream",
     "text": [
      "(15, 4, 4, 4, 256)\n"
     ]
    }
   ],
   "source": [
    "# recurrent module\n",
    "with tf.name_scope(\"recurrent_module\"): \n",
    "    \n",
    "    N,n_x,n_h=4,1024,256\n",
    "   \n",
    "    recurrent_module=layers.GRU_R2N2(n_cells=N,n_input=n_x,n_hidden_state=n_h);\n",
    "\n",
    "    # initial hidden state\n",
    "    hidden_state_list=[]\n",
    "    with open(\"net.config\") as f:\n",
    "        batch_size=int(f.readline())\n",
    "        hidden_state= tf.zeros([batch_size,4,4,4,256])\n",
    "    \n",
    "    # feed batches of seqeuences\n",
    "    for t in range(24):\n",
    "        fc_batch_t = cur_tensor[:,t,:]\n",
    "        hidden_state_list.append(hidden_state)\n",
    "        hidden_state = recurrent_module.call(fc_batch_t, hidden_state)\n",
    "    print(hidden_state.shape)\n",
    "cur_tensor=hidden_state"
   ]
  },
  {
   "cell_type": "code",
   "execution_count": 4,
   "metadata": {},
   "outputs": [
    {
     "name": "stdout",
     "output_type": "stream",
     "text": [
      "(15, 8, 8, 8, 256)\n",
      "(15, 16, 16, 16, 128)\n",
      "(15, 32, 32, 32, 64)\n",
      "(15, 32, 32, 32, 32)\n",
      "(15, 32, 32, 32, 2)\n"
     ]
    }
   ],
   "source": [
    "# decoding network\n",
    "decoder_outputs=[cur_tensor]\n",
    "cur_tensor=layers.unpool3D(cur_tensor)\n",
    "print(cur_tensor.shape)\n",
    "decoder_outputs.append(cur_tensor)\n",
    "\n",
    "k_s = [3,3,3]\n",
    "deconv_filter_count = [128, 128, 128, 64, 32, 2]\n",
    "for i in range(2,4): \n",
    "    with tf.name_scope(\"decoding_block\"):\n",
    "        cur_tensor=tf.layers.conv3d(cur_tensor,padding='SAME',filters=deconv_filter_count[i],kernel_size= k_s,activation=None)\n",
    "        cur_tensor=layers.unpool3D(cur_tensor)\n",
    "        cur_tensor=tf.nn.relu(cur_tensor)\n",
    "        print(cur_tensor.shape)\n",
    "        decoder_outputs.append(cur_tensor)\n",
    "            \n",
    "for i in range(4,6): \n",
    "    with tf.name_scope(\"decoding_block_without_unpooling\"):\n",
    "        cur_tensor=tf.layers.conv3d(cur_tensor,padding='SAME',filters=deconv_filter_count[i],kernel_size= k_s,activation=None)\n",
    "        cur_tensor=tf.nn.relu(cur_tensor)\n",
    "        print(cur_tensor.shape)\n",
    "        decoder_outputs.append(cur_tensor)"
   ]
  },
  {
   "cell_type": "code",
   "execution_count": 7,
   "metadata": {},
   "outputs": [],
   "source": [
    "with tf.name_scope(\"cost\"):\n",
    "    #3d voxel-wise softmax\n",
    "    y_hat=tf.nn.softmax(decoder_outputs[-1])\n",
    "    prediction=tf.to_float(tf.argmax(y_hat,axis=4))\n",
    "    p,q=y_hat[:,:,:,:,0],y_hat[:,:,:,:,1]\n",
    "    cross_entropies=tf.reduce_sum(-tf.multiply(tf.log(p),y)-tf.multiply(tf.log(q),1-y),[1,2,3])\n",
    "    accuracies=tf.reduce_sum(tf.to_float(tf.equal(y,prediction)),axis=[1,2,3])/tf.constant(32*32*32,dtype=tf.float32)\n",
    "    mean_loss=tf.reduce_mean(cross_entropies)\n",
    "    mean_accuracy=tf.reduce_mean(accuracies)\n",
    "    optimizer = tf.train.GradientDescentOptimizer(1).minimize(cross_entropies)"
   ]
  },
  {
   "cell_type": "code",
   "execution_count": 8,
   "metadata": {},
   "outputs": [
    {
     "name": "stdout",
     "output_type": "stream",
     "text": [
      "debugging\n"
     ]
    }
   ],
   "source": [
    "# output\n",
    "print(\"debugging\")\n",
    "sess=tf.InteractiveSession()\n",
    "tf.global_variables_initializer().run()\n",
    "\n",
    "# setup dataset\n",
    "shapenet=dataset.ShapeNet()\n",
    "\n",
    "#read config\n",
    "with open(\"net.config\") as f:\n",
    "    shapenet.batch_size=int(f.readline())\n",
    "    epoch=int(f.readline())\n",
    "    learning_rate=float(f.readline())\n",
    "\n",
    "\n",
    "data,label=shapenet.next_train_batch()\n",
    "fd={x:data, y: label};\n",
    "\n",
    "# tensorboard\n",
    "writer = tf.summary.FileWriter(\"./logs/\")\n",
    "writer.add_graph(sess.graph)\n",
    "\n",
    "# output dir and setup \n",
    "out_root_dir=\"out/\""
   ]
  },
  {
   "cell_type": "code",
   "execution_count": null,
   "metadata": {},
   "outputs": [],
   "source": [
    "batch_size,time_steps,n_layers=1,24,8\n",
    "\n",
    "# debug loop for a single input in a batch\n",
    "for b in range(batch_size):\n",
    "    batch_dir=os.path.join(out_root_dir,\"batch_{}\".format(b))\n",
    "    os.makedirs(batch_dir) if not os.path.isdir(batch_dir) else print(\"{} exists\".format(batch_dir))\n",
    "      \n",
    "    # encoding layers\n",
    "    for l in range(n_layers):\n",
    "        out_dir=os.path.join(batch_dir,\"encoding_layer_{}\".format(l))\n",
    "        os.makedirs(out_dir) if not os.path.isdir(out_dir) else print(\"dir exists\")\n",
    "        for t in range(time_steps):\n",
    "            if l<7:\n",
    "                var=encoder_outputs[l][b,t]\n",
    "                utils.imsave_multichannel(var.eval(fd),out_dir+\"/time_{}.png\".format(t))\n",
    "            else:\n",
    "                var=encoder_outputs[l][b,t].eval(fd)\n",
    "                plt.figure()\n",
    "                plt.plot(var)\n",
    "                plt.savefig(out_dir+\"/time_{}.png\".format(t))    \n",
    "        \n",
    "    # recurrent module\n",
    "    out_dir=os.path.join(batch_dir,\"recurrent_module\")\n",
    "    os.makedirs(out_dir) if not os.path.isdir(out_dir) else print(\"dir exists\")\n",
    "    for t in range(1):    \n",
    "        val=hidden_state_list[t].eval(fd)\n",
    "        print(val.shape)\n",
    "        fig = plt.figure()\n",
    "        ax = fig.gca(projection='3d')\n",
    "        val=np.random.randint(0,2,size=[3,3,3])\n",
    "        print(val.shape)\n",
    "        \n",
    "        print(label.shape)\n",
    "        ax.voxels(label[0],edgecolor='k')\n",
    "\n",
    "        plt.show()\n",
    "        plt.close()\n",
    "       "
   ]
  },
  {
   "cell_type": "code",
   "execution_count": 9,
   "metadata": {},
   "outputs": [
    {
     "name": "stdout",
     "output_type": "stream",
     "text": [
      "22764.4 0.663568\n"
     ]
    }
   ],
   "source": [
    "l=mean_loss.eval(fd)\n",
    "a=mean_accuracy.eval(fd)\n",
    "print(l,a)"
   ]
  },
  {
   "cell_type": "code",
   "execution_count": null,
   "metadata": {},
   "outputs": [],
   "source": [
    "print(np.avg(a))\n",
    "\n",
    "voxel=tf.argmax(y_hat,axis=4)\n",
    "voxel=tf.cast(voxel,dtype=tf.float32)\n",
    "out=voxel.eval(fd)\n",
    "print(out.shape)\n",
    "\n",
    "rounded_voxel=tf.round(hidden_state)\n",
    "out=rounded_voxel.eval(fd)\n",
    "\n",
    "plt.plot(hidden_state[0,3,0,0,:].eval(fd))\n",
    "\n",
    "fig=plt.figure()\n",
    "ax = fig.gca(projection='3d')\n",
    "ax.voxels(acc[0],edgecolor='k')\n",
    "ax.view_init(30, 30)\n",
    "plt.show()\n",
    "plt.close()\n",
    "\n",
    "item=30\n",
    "x=data[item]\n",
    "\n",
    "y=label[item]\n",
    "\n",
    "utils.imshow_multichannel(x[0])\n",
    "\n",
    " for i in range(4):\n",
    "            for j in range(4):\n",
    "                for k in range(4):\n",
    "                    cell_hidden_state=grid_hidden_state[i,j,k] \n",
    "                    plt.figure()\n",
    "                    plt.plot(cell_hidden_state)\n",
    "                    plt.savefig(os.path.join(cur_dir,'cell_{}{}{}_at_{}.png'.format(i,j,k,t)))\n",
    "                    plt.close()\n",
    "                    \n",
    "decoder_dir=\"out/decoder\"\n",
    "# debug decoder net\n",
    "voxel=tf.argmax(y_hat,axis=4)\n",
    "voxel=tf.cast(voxel,dtype=tf.float32)\n",
    "\n",
    "out=voxel.eval(fd)\n",
    "outvoxel=binvox_rw.Voxels(out,out.shape,[0,0,0],1,'xzy')\n",
    "with open(\"out/voxels/{}.binvox\".format(),'w') as f:\n",
    "    outvoxel.write(f)\n",
    "    \n",
    "# matplot 3d plot setup\n",
    "import matplotlib.pyplot as plt\n",
    "from mpl_toolkits.mplot3d import Axes3D\n",
    "fig = plt.figure()\n",
    "ax = fig.add_subplot(111, projection='3d')\n",
    "\n",
    "%matplotlib inline\n",
    "feature_vectors=encoder_outputs[7].eval(fd)\n",
    "plt.figure()\n",
    "f, axarr = plt.subplots(5, 5)\n",
    "for i in range(5):\n",
    "    for j in range(5):\n",
    "        t=i*5+j\n",
    "        if(t<24):\n",
    "            p=feature_vectors[0,t]\n",
    "            axarr[i, j].plot(p)\n",
    "\n",
    "s_input=stacked_input.eval(fd)\n",
    "print(s_input.shape)\n",
    "for i in range(4):\n",
    "    for j in range(4):\n",
    "        for k in range(4):\n",
    "            fc=s_input[i,j,k,0,23]\n",
    "            plt.figure()\n",
    "            plt.plot(fc)\n",
    "            plt.savefig(os.path.join(\"out\",'{}{}{}.png'.format(i,j,k)))\n",
    "            plt.close() \n",
    "            sys.exit()"
   ]
  }
 ],
 "metadata": {
  "kernelspec": {
   "display_name": "Python 3",
   "language": "python",
   "name": "python3"
  },
  "language_info": {
   "codemirror_mode": {
    "name": "ipython",
    "version": 3
   },
   "file_extension": ".py",
   "mimetype": "text/x-python",
   "name": "python",
   "nbconvert_exporter": "python",
   "pygments_lexer": "ipython3",
   "version": "3.6.2"
  }
 },
 "nbformat": 4,
 "nbformat_minor": 2
}
