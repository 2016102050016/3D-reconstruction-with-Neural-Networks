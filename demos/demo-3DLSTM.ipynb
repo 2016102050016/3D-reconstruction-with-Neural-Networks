{
 "cells": [
  {
   "cell_type": "code",
   "execution_count": null,
   "metadata": {},
   "outputs": [],
   "source": [
    "%matplotlib inline\n",
    "\n",
    "import os\n",
    "import sys\n",
    "import utils\n",
    "import random\n",
    "import dataset\n",
    "import binvox_rw\n",
    "import numpy as np\n",
    "import pandas as pd\n",
    "from PIL import Image\n",
    "import matplotlib.pyplot as plt\n",
    "import tensorflow as tf\n",
    "\n",
    "#import tensorflow.contrib.eager as tfe\n",
    "#tfe.enable_eager_execution()\n",
    "sess=tf.InteractiveSession()\n",
    "# load data\n",
    "shapenet=dataset.ShapeNet()"
   ]
  },
  {
   "cell_type": "code",
   "execution_count": null,
   "metadata": {},
   "outputs": [],
   "source": [
    "with tf.name_scope('input'):\n",
    "    x=tf.placeholder(tf.float32,[shapenet.batch_size,137,137,3])\n",
    "    y=tf.placeholder(tf.float32,[shapenet.batch_size,32,32,32])"
   ]
  },
  {
   "cell_type": "code",
   "execution_count": null,
   "metadata": {},
   "outputs": [],
   "source": [
    "# encoder network\n",
    "cur_tensor=x\n",
    "print(cur_tensor.shape)\n",
    "k_s = [3,3]\n",
    "conv_filter_count = [96, 128, 256, 256, 256, 256]\n",
    "for i in range(6): \n",
    "    ks=[7,7]if i is 0 else k_s  \n",
    "    with tf.name_scope(\"encoding_block\"):\n",
    "        cur_tensor=tf.layers.conv2d(cur_tensor,filters=conv_filter_count[i],padding='SAME',kernel_size= k_s,activation=None)\n",
    "        cur_tensor=tf.layers.max_pooling2d(cur_tensor,2,2)\n",
    "        cur_tensor=tf.nn.relu(cur_tensor)\n",
    "        print(cur_tensor.shape)\n",
    "\n",
    "# flatten tensor\n",
    "cur_tensor=tf.contrib.layers.flatten(cur_tensor)\n",
    "cur_tensor=tf.contrib.layers.fully_connected(cur_tensor,1024,activation_fn=None)\n",
    "print(cur_tensor.shape)"
   ]
  },
  {
   "cell_type": "code",
   "execution_count": null,
   "metadata": {},
   "outputs": [],
   "source": [
    "# 3D_Convolutional_LSTM \n",
    "\n",
    "with tf.name_scope(\"3D_LSTM\"):\n",
    "    #x=tf.placeholder(tf.float32,[None,1024])\n",
    "    h_t=tf.Variable(tf.zeros([4,4,4,1,256]),name=\"hidden_state\")\n",
    "    s_t=tf.Variable(tf.zeros([4,4,4,1,256]),name=\"cell_state\")\n",
    "\n",
    "    # W,U,b for f,i,s,o\n",
    "    W=[tf.Variable(tf.zeros([1024,256]),name=\"W%d\"%(i)) for i in range(4)]\n",
    "    U=[tf.Variable(tf.zeros([3,3,3,256,256]),name=\"U%d\"%(i)) for i in range(4)]\n",
    "    b=[tf.Variable(tf.zeros([1,256]),name=\"b%d\"%(i)) for i in range(4)]\n",
    "\n",
    "    Wx=[tf.matmul(cur_tensor, W[i]) for i in range(4)]\n",
    "    Uh=[tf.nn.convolution(h_t,U[i],padding=\"SAME\") for i in range(4)]\n",
    "\n",
    "\n",
    "    f_t=tf.sigmoid(Wx[0] + Uh[0] + b[0])\n",
    "    i_t=tf.sigmoid(Wx[1] + Uh[1] + b[1])\n",
    "    o_t=tf.sigmoid(Wx[2]+ Uh[2] + b[2])\n",
    "    s_t=tf.multiply(f_t,s_t) + tf.multiply(i_t,tf.tanh(Wx[3]+ Uh[3] + b[3]))\n",
    "    h_t=tf.tanh(s_t)\n",
    "\n",
    "    cur_tensor=tf.transpose(h_t,[3,0,1,2,4])\n",
    "    print(cur_tensor.shape)"
   ]
  },
  {
   "cell_type": "code",
   "execution_count": null,
   "metadata": {},
   "outputs": [],
   "source": [
    "# decoding network\n",
    "# batch_size=cur_tensor.shape.as_list()[0]\n",
    "# cur_tensor=tf.reshape(cur_tensor,[batch_size,2,2,2,-1])\n",
    "# print(cur_tensor.shape)\n",
    "k_s = [3,3,3]\n",
    "deconv_filter_count = [128, 128, 128, 64, 32, 2]\n",
    "cur_tensor=utils.unpool(cur_tensor)\n",
    "print(cur_tensor.shape)\n",
    "for i in range(2,4): \n",
    "    with tf.name_scope(\"decoding_block\"):\n",
    "            cur_tensor=tf.layers.conv3d_transpose(cur_tensor,padding='SAME',filters=deconv_filter_count[i],kernel_size= k_s,activation=None)\n",
    "            cur_tensor=utils.unpool(cur_tensor)\n",
    "            cur_tensor=tf.nn.relu(cur_tensor)\n",
    "            print(cur_tensor.shape)\n",
    "            \n",
    "for i in range(4,6): \n",
    "    with tf.name_scope(\"decoding_block_without_unpooling\"):\n",
    "            cur_tensor=tf.layers.conv3d_transpose(cur_tensor,padding='SAME',filters=deconv_filter_count[i],kernel_size= k_s,activation=None)\n",
    "            cur_tensor=tf.nn.relu(cur_tensor)\n",
    "            print(cur_tensor.shape)\n",
    "\n",
    "y_hat=cur_tensor"
   ]
  },
  {
   "cell_type": "code",
   "execution_count": null,
   "metadata": {},
   "outputs": [],
   "source": [
    "epoch=1\n",
    "tf.global_variables_initializer().run()\n",
    "\n",
    "#3d voxel-wise softmax\n",
    "y_hat=tf.nn.softmax(y_hat)\n",
    "p=y_hat[:,:,:,:,0]\n",
    "q=y_hat[:,:,:,:,1]\n",
    "loss_voxel=tf.reduce_mean(tf.reduce_sum(tf.multiply(tf.log(p),y)+tf.multiply(tf.log(q),1-y),[1,2,3]))\n",
    "optimizer = tf.train.GradientDescentOptimizer(0.1).minimize(loss_voxel)\n",
    "\n",
    "loss_per_epoch=[]\n",
    "for e in range(epoch):\n",
    "    loss_per_batch=[]\n",
    "    train=shapenet.next_train_batch()\n",
    "    while(train is not None):\n",
    "        train_X=dataset.load_dataset(train[:,0])\n",
    "        train_Y=dataset.load_labels(train[:,1])\n",
    "        fd={x:train_X , y: train_Y};\n",
    "        loss=sess.run([loss_voxel],feed_dict=fd)\n",
    "        print(loss)\n",
    "        loss_per_batch.append(loss)\n",
    "        train=shapenet.next_train_batch()\n",
    "    loss_per_epoch.append(loss_voxel)\n",
    "        \n",
    "    "
   ]
  },
  {
   "cell_type": "code",
   "execution_count": null,
   "metadata": {},
   "outputs": [],
   "source": [
    "loss_voxel.eval(feed_dict)"
   ]
  },
  {
   "cell_type": "code",
   "execution_count": null,
   "metadata": {},
   "outputs": [],
   "source": [
    "optimizer.run()"
   ]
  },
  {
   "cell_type": "code",
   "execution_count": null,
   "metadata": {},
   "outputs": [],
   "source": [
    "out=tf.cast(tf.argmax(y_hat,axis=4),dtype=tf.float32)\n",
    "out=sess.run(out,feed_dict=feed_dict)\n",
    "outvoxel=binvox_rw.Voxels(out,out.shape,[0,0,0],1,'xzy')\n",
    "with open(\"out/{i}.binvox\",'w') as f:\n",
    "    outvoxel.write(f)"
   ]
  },
  {
   "cell_type": "code",
   "execution_count": null,
   "metadata": {},
   "outputs": [],
   "source": [
    "#evaluate model\n",
    "sess.run(p.eval(),feed_dict=feed_dict)"
   ]
  },
  {
   "cell_type": "code",
   "execution_count": null,
   "metadata": {},
   "outputs": [],
   "source": [
    "# serialize graph for tensorboard\n",
    "writer = tf.summary.FileWriter(\"./logs/\")\n",
    "writer.add_graph(sess.graph)"
   ]
  },
  {
   "cell_type": "code",
   "execution_count": null,
   "metadata": {},
   "outputs": [],
   "source": [
    "writer."
   ]
  }
 ],
 "metadata": {
  "kernelspec": {
   "display_name": "Python 3",
   "language": "python",
   "name": "python3"
  },
  "language_info": {
   "codemirror_mode": {
    "name": "ipython",
    "version": 3
   },
   "file_extension": ".py",
   "mimetype": "text/x-python",
   "name": "python",
   "nbconvert_exporter": "python",
   "pygments_lexer": "ipython3",
   "version": "3.6.2"
  }
 },
 "nbformat": 4,
 "nbformat_minor": 2
}
