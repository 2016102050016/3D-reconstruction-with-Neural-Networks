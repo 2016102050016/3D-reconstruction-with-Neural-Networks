{
 "cells": [
  {
   "cell_type": "code",
   "execution_count": 1,
   "metadata": {},
   "outputs": [],
   "source": [
    "%load_ext autoreload\n",
    "%autoreload 2\n",
    "%matplotlib inline\n",
    "\n",
    "import os\n",
    "import sys\n",
    "import numpy as np\n",
    "import pandas as pd\n",
    "import tensorflow as tf\n",
    "import matplotlib.pyplot as plt\n",
    "import lib.dataset as dataset\n",
    "import lib.network as network\n",
    "import lib.path as path\n",
    "import lib.utils as utils\n",
    "from tensorflow.python.tools import inspect_checkpoint"
   ]
  },
  {
   "cell_type": "code",
   "execution_count": 2,
   "metadata": {},
   "outputs": [
    {
     "name": "stdout",
     "output_type": "stream",
     "text": [
      "learn_rate 0.1, epoch_count 1, batch_size 1\n",
      "creating network...\n",
      "encoder_network\n",
      "recurrent_module\n",
      "decoder_network\n",
      "loss_function\n",
      "WARNING:tensorflow:From /anaconda3/lib/python3.6/site-packages/tensorflow/python/ops/nn_grad.py:249: calling reduce_sum (from tensorflow.python.ops.math_ops) with keep_dims is deprecated and will be removed in a future version.\n",
      "Instructions for updating:\n",
      "keep_dims is deprecated, use keepdims instead\n",
      "...network created\n"
     ]
    }
   ],
   "source": [
    "data_all=np.array(sorted(path.construct_path_lists(\"out\",\"data_\")))\n",
    "label_all=np.array(sorted(path.construct_path_lists(\"out\",\"labels_\")))\n",
    "net=network.R2N2()"
   ]
  },
  {
   "cell_type": "code",
   "execution_count": 3,
   "metadata": {},
   "outputs": [
    {
     "name": "stdout",
     "output_type": "stream",
     "text": [
      "tensor_name:  conv2d/bias\n",
      "tensor_name:  conv2d/kernel\n",
      "tensor_name:  conv2d_1/bias\n",
      "tensor_name:  conv2d_1/kernel\n",
      "tensor_name:  conv2d_2/bias\n",
      "tensor_name:  conv2d_2/kernel\n",
      "tensor_name:  conv2d_3/bias\n",
      "tensor_name:  conv2d_3/kernel\n",
      "tensor_name:  conv2d_4/bias\n",
      "tensor_name:  conv2d_4/kernel\n",
      "tensor_name:  conv2d_5/bias\n",
      "tensor_name:  conv2d_5/kernel\n",
      "tensor_name:  conv3d/bias\n",
      "tensor_name:  conv3d/kernel\n",
      "tensor_name:  conv3d_1/bias\n",
      "tensor_name:  conv3d_1/kernel\n",
      "tensor_name:  conv3d_2/bias\n",
      "tensor_name:  conv3d_2/kernel\n",
      "tensor_name:  conv3d_3/bias\n",
      "tensor_name:  conv3d_3/kernel\n",
      "tensor_name:  conv3d_4/bias\n",
      "tensor_name:  conv3d_4/kernel\n",
      "tensor_name:  fully_connected/biases\n",
      "tensor_name:  fully_connected/weights\n",
      "tensor_name:  recurrent_module/U\n",
      "tensor_name:  recurrent_module/WEIGHT_MATRIX_GRID/W_000\n",
      "tensor_name:  recurrent_module/WEIGHT_MATRIX_GRID/W_001\n",
      "tensor_name:  recurrent_module/WEIGHT_MATRIX_GRID/W_002\n",
      "tensor_name:  recurrent_module/WEIGHT_MATRIX_GRID/W_003\n",
      "tensor_name:  recurrent_module/WEIGHT_MATRIX_GRID/W_010\n",
      "tensor_name:  recurrent_module/WEIGHT_MATRIX_GRID/W_011\n",
      "tensor_name:  recurrent_module/WEIGHT_MATRIX_GRID/W_012\n",
      "tensor_name:  recurrent_module/WEIGHT_MATRIX_GRID/W_013\n",
      "tensor_name:  recurrent_module/WEIGHT_MATRIX_GRID/W_020\n",
      "tensor_name:  recurrent_module/WEIGHT_MATRIX_GRID/W_021\n",
      "tensor_name:  recurrent_module/WEIGHT_MATRIX_GRID/W_022\n",
      "tensor_name:  recurrent_module/WEIGHT_MATRIX_GRID/W_023\n",
      "tensor_name:  recurrent_module/WEIGHT_MATRIX_GRID/W_030\n",
      "tensor_name:  recurrent_module/WEIGHT_MATRIX_GRID/W_031\n",
      "tensor_name:  recurrent_module/WEIGHT_MATRIX_GRID/W_032\n",
      "tensor_name:  recurrent_module/WEIGHT_MATRIX_GRID/W_033\n",
      "tensor_name:  recurrent_module/WEIGHT_MATRIX_GRID/W_100\n",
      "tensor_name:  recurrent_module/WEIGHT_MATRIX_GRID/W_101\n",
      "tensor_name:  recurrent_module/WEIGHT_MATRIX_GRID/W_102\n",
      "tensor_name:  recurrent_module/WEIGHT_MATRIX_GRID/W_103\n",
      "tensor_name:  recurrent_module/WEIGHT_MATRIX_GRID/W_110\n",
      "tensor_name:  recurrent_module/WEIGHT_MATRIX_GRID/W_111\n",
      "tensor_name:  recurrent_module/WEIGHT_MATRIX_GRID/W_112\n",
      "tensor_name:  recurrent_module/WEIGHT_MATRIX_GRID/W_113\n",
      "tensor_name:  recurrent_module/WEIGHT_MATRIX_GRID/W_120\n",
      "tensor_name:  recurrent_module/WEIGHT_MATRIX_GRID/W_121\n",
      "tensor_name:  recurrent_module/WEIGHT_MATRIX_GRID/W_122\n",
      "tensor_name:  recurrent_module/WEIGHT_MATRIX_GRID/W_123\n",
      "tensor_name:  recurrent_module/WEIGHT_MATRIX_GRID/W_130\n",
      "tensor_name:  recurrent_module/WEIGHT_MATRIX_GRID/W_131\n",
      "tensor_name:  recurrent_module/WEIGHT_MATRIX_GRID/W_132\n",
      "tensor_name:  recurrent_module/WEIGHT_MATRIX_GRID/W_133\n",
      "tensor_name:  recurrent_module/WEIGHT_MATRIX_GRID/W_200\n",
      "tensor_name:  recurrent_module/WEIGHT_MATRIX_GRID/W_201\n",
      "tensor_name:  recurrent_module/WEIGHT_MATRIX_GRID/W_202\n",
      "tensor_name:  recurrent_module/WEIGHT_MATRIX_GRID/W_203\n",
      "tensor_name:  recurrent_module/WEIGHT_MATRIX_GRID/W_210\n",
      "tensor_name:  recurrent_module/WEIGHT_MATRIX_GRID/W_211\n",
      "tensor_name:  recurrent_module/WEIGHT_MATRIX_GRID/W_212\n",
      "tensor_name:  recurrent_module/WEIGHT_MATRIX_GRID/W_213\n",
      "tensor_name:  recurrent_module/WEIGHT_MATRIX_GRID/W_220\n",
      "tensor_name:  recurrent_module/WEIGHT_MATRIX_GRID/W_221\n",
      "tensor_name:  recurrent_module/WEIGHT_MATRIX_GRID/W_222\n",
      "tensor_name:  recurrent_module/WEIGHT_MATRIX_GRID/W_223\n",
      "tensor_name:  recurrent_module/WEIGHT_MATRIX_GRID/W_230\n",
      "tensor_name:  recurrent_module/WEIGHT_MATRIX_GRID/W_231\n",
      "tensor_name:  recurrent_module/WEIGHT_MATRIX_GRID/W_232\n",
      "tensor_name:  recurrent_module/WEIGHT_MATRIX_GRID/W_233\n",
      "tensor_name:  recurrent_module/WEIGHT_MATRIX_GRID/W_300\n",
      "tensor_name:  recurrent_module/WEIGHT_MATRIX_GRID/W_301\n",
      "tensor_name:  recurrent_module/WEIGHT_MATRIX_GRID/W_302\n",
      "tensor_name:  recurrent_module/WEIGHT_MATRIX_GRID/W_303\n",
      "tensor_name:  recurrent_module/WEIGHT_MATRIX_GRID/W_310\n",
      "tensor_name:  recurrent_module/WEIGHT_MATRIX_GRID/W_311\n",
      "tensor_name:  recurrent_module/WEIGHT_MATRIX_GRID/W_312\n",
      "tensor_name:  recurrent_module/WEIGHT_MATRIX_GRID/W_313\n",
      "tensor_name:  recurrent_module/WEIGHT_MATRIX_GRID/W_320\n",
      "tensor_name:  recurrent_module/WEIGHT_MATRIX_GRID/W_321\n",
      "tensor_name:  recurrent_module/WEIGHT_MATRIX_GRID/W_322\n",
      "tensor_name:  recurrent_module/WEIGHT_MATRIX_GRID/W_323\n",
      "tensor_name:  recurrent_module/WEIGHT_MATRIX_GRID/W_330\n",
      "tensor_name:  recurrent_module/WEIGHT_MATRIX_GRID/W_331\n",
      "tensor_name:  recurrent_module/WEIGHT_MATRIX_GRID/W_332\n",
      "tensor_name:  recurrent_module/WEIGHT_MATRIX_GRID/W_333\n",
      "tensor_name:  recurrent_module/b\n",
      "tensor_name:  update/Variable\n",
      "INFO:tensorflow:Restoring parameters from /Users/micmelesse/Documents/3D-reconstruction-with-neural-networks/aws/model_2018-02-27_01:12:29_L:0.01_E:5_B:16/epoch_0004/model.ckpt\n"
     ]
    }
   ],
   "source": [
    "checkpoint_path=\"/Users/micmelesse/Documents/3D-reconstruction-with-neural-networks/aws/model_2018-02-27_01:12:29_L:0.01_E:5_B:16/epoch_0004\"\n",
    "inspect_checkpoint.print_tensors_in_checkpoint_file(checkpoint_path+\"/model.ckpt\", '', False,True)\n",
    "net.restore(checkpoint_path)"
   ]
  },
  {
   "cell_type": "code",
   "execution_count": 7,
   "metadata": {},
   "outputs": [],
   "source": [
    "i=1\n",
    "x=utils.to_npy(data_all[i])\n",
    "y=utils.to_npy(label_all[i])\n",
    "y_hat=net.predict(x)\n",
    "plt.imsave(\"input.png\",x[0][1])\n",
    "utils.imsave_multichannel(x[0][1])\n",
    "utils.imsave_voxel(y[0])\n",
    "utils.imsave_voxel(y_hat[0],f_name=\"prediction\")"
   ]
  },
  {
   "cell_type": "code",
   "execution_count": null,
   "metadata": {},
   "outputs": [],
   "source": []
  }
 ],
 "metadata": {
  "kernelspec": {
   "display_name": "Python 3",
   "language": "python",
   "name": "python3"
  },
  "language_info": {
   "codemirror_mode": {
    "name": "ipython",
    "version": 3
   },
   "file_extension": ".py",
   "mimetype": "text/x-python",
   "name": "python",
   "nbconvert_exporter": "python",
   "pygments_lexer": "ipython3",
   "version": "3.6.2"
  }
 },
 "nbformat": 4,
 "nbformat_minor": 2
}
