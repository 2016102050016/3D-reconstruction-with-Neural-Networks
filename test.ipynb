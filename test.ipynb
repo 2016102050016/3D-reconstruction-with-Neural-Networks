{
 "cells": [
  {
   "cell_type": "code",
   "execution_count": 41,
   "metadata": {},
   "outputs": [
    {
     "name": "stdout",
     "output_type": "stream",
     "text": [
      "The autoreload extension is already loaded. To reload it, use:\n",
      "  %reload_ext autoreload\n"
     ]
    }
   ],
   "source": [
    "%load_ext autoreload\n",
    "%autoreload 2\n",
    "%matplotlib inline\n",
    "\n",
    "import os\n",
    "import sys\n",
    "import numpy as np\n",
    "import pandas as pd\n",
    "import tensorflow as tf\n",
    "import matplotlib.pyplot as plt\n",
    "import lib.dataset as dataset\n",
    "import lib.network as network\n",
    "import lib.path as path\n",
    "import lib.utils as utils\n",
    "from tensorflow.python.tools import inspect_checkpoint"
   ]
  },
  {
   "cell_type": "code",
   "execution_count": 3,
   "metadata": {},
   "outputs": [
    {
     "name": "stdout",
     "output_type": "stream",
     "text": [
      "learn_rate 0.1, epoch_count 1, batch_size 1\n",
      "encoder\n",
      "recurrent_module\n",
      "decoder\n",
      "loss\n",
      "optimizer\n",
      "WARNING:tensorflow:From /anaconda3/lib/python3.6/site-packages/tensorflow/python/ops/nn_grad.py:249: calling reduce_sum (from tensorflow.python.ops.math_ops) with keep_dims is deprecated and will be removed in a future version.\n",
      "Instructions for updating:\n",
      "keep_dims is deprecated, use keepdims instead\n"
     ]
    },
    {
     "name": "stderr",
     "output_type": "stream",
     "text": [
      "WARNING:tensorflow:From /anaconda3/lib/python3.6/site-packages/tensorflow/python/ops/nn_grad.py:249: calling reduce_sum (from tensorflow.python.ops.math_ops) with keep_dims is deprecated and will be removed in a future version.\n",
      "Instructions for updating:\n",
      "keep_dims is deprecated, use keepdims instead\n"
     ]
    },
    {
     "name": "stdout",
     "output_type": "stream",
     "text": [
      "init session\n"
     ]
    }
   ],
   "source": [
    "net=network.Network()"
   ]
  },
  {
   "cell_type": "code",
   "execution_count": 18,
   "metadata": {},
   "outputs": [],
   "source": [
    "net=network.R2N2()"
   ]
  },
  {
   "cell_type": "code",
   "execution_count": 43,
   "metadata": {},
   "outputs": [],
   "source": [
    "import inspect"
   ]
  },
  {
   "cell_type": "code",
   "execution_count": 44,
   "metadata": {},
   "outputs": [
    {
     "data": {
      "text/plain": [
       "[('T',\n",
       "  array(['out/data_000000.npy', 'out/data_000001.npy', 'out/data_000002.npy',\n",
       "         'out/data_000003.npy', 'out/data_000004.npy', 'out/data_000005.npy',\n",
       "         'out/data_000006.npy', 'out/data_000007.npy', 'out/data_000008.npy',\n",
       "         'out/data_000009.npy'],\n",
       "        dtype='<U19')),\n",
       " ('__abs__',\n",
       "  <method-wrapper '__abs__' of numpy.ndarray object at 0x129ca9850>),\n",
       " ('__add__',\n",
       "  <method-wrapper '__add__' of numpy.ndarray object at 0x129ca9850>),\n",
       " ('__and__',\n",
       "  <method-wrapper '__and__' of numpy.ndarray object at 0x129ca9850>),\n",
       " ('__array__', <function ndarray.__array__>),\n",
       " ('__array_finalize__', None),\n",
       " ('__array_interface__',\n",
       "  {'data': (140681221366624, False),\n",
       "   'descr': [('', '<U19')],\n",
       "   'shape': (10,),\n",
       "   'strides': None,\n",
       "   'typestr': '<U19',\n",
       "   'version': 3}),\n",
       " ('__array_prepare__', <function ndarray.__array_prepare__>),\n",
       " ('__array_priority__', 0.0),\n",
       " ('__array_struct__', <capsule object NULL at 0x1456562d0>),\n",
       " ('__array_ufunc__', <function ndarray.__array_ufunc__>),\n",
       " ('__array_wrap__', <function ndarray.__array_wrap__>),\n",
       " ('__bool__',\n",
       "  <method-wrapper '__bool__' of numpy.ndarray object at 0x129ca9850>),\n",
       " ('__class__', numpy.ndarray),\n",
       " ('__complex__', <function ndarray.__complex__>),\n",
       " ('__contains__',\n",
       "  <method-wrapper '__contains__' of numpy.ndarray object at 0x129ca9850>),\n",
       " ('__copy__', <function ndarray.__copy__>),\n",
       " ('__deepcopy__', <function ndarray.__deepcopy__>),\n",
       " ('__delattr__',\n",
       "  <method-wrapper '__delattr__' of numpy.ndarray object at 0x129ca9850>),\n",
       " ('__delitem__',\n",
       "  <method-wrapper '__delitem__' of numpy.ndarray object at 0x129ca9850>),\n",
       " ('__dir__', <function ndarray.__dir__>),\n",
       " ('__divmod__',\n",
       "  <method-wrapper '__divmod__' of numpy.ndarray object at 0x129ca9850>),\n",
       " ('__doc__', None),\n",
       " ('__eq__', <method-wrapper '__eq__' of numpy.ndarray object at 0x129ca9850>),\n",
       " ('__float__',\n",
       "  <method-wrapper '__float__' of numpy.ndarray object at 0x129ca9850>),\n",
       " ('__floordiv__',\n",
       "  <method-wrapper '__floordiv__' of numpy.ndarray object at 0x129ca9850>),\n",
       " ('__format__', <function ndarray.__format__>),\n",
       " ('__ge__', <method-wrapper '__ge__' of numpy.ndarray object at 0x129ca9850>),\n",
       " ('__getattribute__',\n",
       "  <method-wrapper '__getattribute__' of numpy.ndarray object at 0x129ca9850>),\n",
       " ('__getitem__',\n",
       "  <method-wrapper '__getitem__' of numpy.ndarray object at 0x129ca9850>),\n",
       " ('__gt__', <method-wrapper '__gt__' of numpy.ndarray object at 0x129ca9850>),\n",
       " ('__hash__', None),\n",
       " ('__iadd__',\n",
       "  <method-wrapper '__iadd__' of numpy.ndarray object at 0x129ca9850>),\n",
       " ('__iand__',\n",
       "  <method-wrapper '__iand__' of numpy.ndarray object at 0x129ca9850>),\n",
       " ('__ifloordiv__',\n",
       "  <method-wrapper '__ifloordiv__' of numpy.ndarray object at 0x129ca9850>),\n",
       " ('__ilshift__',\n",
       "  <method-wrapper '__ilshift__' of numpy.ndarray object at 0x129ca9850>),\n",
       " ('__imatmul__',\n",
       "  <method-wrapper '__imatmul__' of numpy.ndarray object at 0x129ca9850>),\n",
       " ('__imod__',\n",
       "  <method-wrapper '__imod__' of numpy.ndarray object at 0x129ca9850>),\n",
       " ('__imul__',\n",
       "  <method-wrapper '__imul__' of numpy.ndarray object at 0x129ca9850>),\n",
       " ('__index__',\n",
       "  <method-wrapper '__index__' of numpy.ndarray object at 0x129ca9850>),\n",
       " ('__init__',\n",
       "  <method-wrapper '__init__' of numpy.ndarray object at 0x129ca9850>),\n",
       " ('__init_subclass__', <function ndarray.__init_subclass__>),\n",
       " ('__int__',\n",
       "  <method-wrapper '__int__' of numpy.ndarray object at 0x129ca9850>),\n",
       " ('__invert__',\n",
       "  <method-wrapper '__invert__' of numpy.ndarray object at 0x129ca9850>),\n",
       " ('__ior__',\n",
       "  <method-wrapper '__ior__' of numpy.ndarray object at 0x129ca9850>),\n",
       " ('__ipow__',\n",
       "  <method-wrapper '__ipow__' of numpy.ndarray object at 0x129ca9850>),\n",
       " ('__irshift__',\n",
       "  <method-wrapper '__irshift__' of numpy.ndarray object at 0x129ca9850>),\n",
       " ('__isub__',\n",
       "  <method-wrapper '__isub__' of numpy.ndarray object at 0x129ca9850>),\n",
       " ('__iter__',\n",
       "  <method-wrapper '__iter__' of numpy.ndarray object at 0x129ca9850>),\n",
       " ('__itruediv__',\n",
       "  <method-wrapper '__itruediv__' of numpy.ndarray object at 0x129ca9850>),\n",
       " ('__ixor__',\n",
       "  <method-wrapper '__ixor__' of numpy.ndarray object at 0x129ca9850>),\n",
       " ('__le__', <method-wrapper '__le__' of numpy.ndarray object at 0x129ca9850>),\n",
       " ('__len__',\n",
       "  <method-wrapper '__len__' of numpy.ndarray object at 0x129ca9850>),\n",
       " ('__lshift__',\n",
       "  <method-wrapper '__lshift__' of numpy.ndarray object at 0x129ca9850>),\n",
       " ('__lt__', <method-wrapper '__lt__' of numpy.ndarray object at 0x129ca9850>),\n",
       " ('__matmul__',\n",
       "  <method-wrapper '__matmul__' of numpy.ndarray object at 0x129ca9850>),\n",
       " ('__mod__',\n",
       "  <method-wrapper '__mod__' of numpy.ndarray object at 0x129ca9850>),\n",
       " ('__mul__',\n",
       "  <method-wrapper '__mul__' of numpy.ndarray object at 0x129ca9850>),\n",
       " ('__ne__', <method-wrapper '__ne__' of numpy.ndarray object at 0x129ca9850>),\n",
       " ('__neg__',\n",
       "  <method-wrapper '__neg__' of numpy.ndarray object at 0x129ca9850>),\n",
       " ('__new__', <function ndarray.__new__>),\n",
       " ('__or__', <method-wrapper '__or__' of numpy.ndarray object at 0x129ca9850>),\n",
       " ('__pos__',\n",
       "  <method-wrapper '__pos__' of numpy.ndarray object at 0x129ca9850>),\n",
       " ('__pow__',\n",
       "  <method-wrapper '__pow__' of numpy.ndarray object at 0x129ca9850>),\n",
       " ('__radd__',\n",
       "  <method-wrapper '__radd__' of numpy.ndarray object at 0x129ca9850>),\n",
       " ('__rand__',\n",
       "  <method-wrapper '__rand__' of numpy.ndarray object at 0x129ca9850>),\n",
       " ('__rdivmod__',\n",
       "  <method-wrapper '__rdivmod__' of numpy.ndarray object at 0x129ca9850>),\n",
       " ('__reduce__', <function ndarray.__reduce__>),\n",
       " ('__reduce_ex__', <function ndarray.__reduce_ex__>),\n",
       " ('__repr__',\n",
       "  <method-wrapper '__repr__' of numpy.ndarray object at 0x129ca9850>),\n",
       " ('__rfloordiv__',\n",
       "  <method-wrapper '__rfloordiv__' of numpy.ndarray object at 0x129ca9850>),\n",
       " ('__rlshift__',\n",
       "  <method-wrapper '__rlshift__' of numpy.ndarray object at 0x129ca9850>),\n",
       " ('__rmatmul__',\n",
       "  <method-wrapper '__rmatmul__' of numpy.ndarray object at 0x129ca9850>),\n",
       " ('__rmod__',\n",
       "  <method-wrapper '__rmod__' of numpy.ndarray object at 0x129ca9850>),\n",
       " ('__rmul__',\n",
       "  <method-wrapper '__rmul__' of numpy.ndarray object at 0x129ca9850>),\n",
       " ('__ror__',\n",
       "  <method-wrapper '__ror__' of numpy.ndarray object at 0x129ca9850>),\n",
       " ('__rpow__',\n",
       "  <method-wrapper '__rpow__' of numpy.ndarray object at 0x129ca9850>),\n",
       " ('__rrshift__',\n",
       "  <method-wrapper '__rrshift__' of numpy.ndarray object at 0x129ca9850>),\n",
       " ('__rshift__',\n",
       "  <method-wrapper '__rshift__' of numpy.ndarray object at 0x129ca9850>),\n",
       " ('__rsub__',\n",
       "  <method-wrapper '__rsub__' of numpy.ndarray object at 0x129ca9850>),\n",
       " ('__rtruediv__',\n",
       "  <method-wrapper '__rtruediv__' of numpy.ndarray object at 0x129ca9850>),\n",
       " ('__rxor__',\n",
       "  <method-wrapper '__rxor__' of numpy.ndarray object at 0x129ca9850>),\n",
       " ('__setattr__',\n",
       "  <method-wrapper '__setattr__' of numpy.ndarray object at 0x129ca9850>),\n",
       " ('__setitem__',\n",
       "  <method-wrapper '__setitem__' of numpy.ndarray object at 0x129ca9850>),\n",
       " ('__setstate__', <function ndarray.__setstate__>),\n",
       " ('__sizeof__', <function ndarray.__sizeof__>),\n",
       " ('__str__',\n",
       "  <method-wrapper '__str__' of numpy.ndarray object at 0x129ca9850>),\n",
       " ('__sub__',\n",
       "  <method-wrapper '__sub__' of numpy.ndarray object at 0x129ca9850>),\n",
       " ('__subclasshook__', <function ndarray.__subclasshook__>),\n",
       " ('__truediv__',\n",
       "  <method-wrapper '__truediv__' of numpy.ndarray object at 0x129ca9850>),\n",
       " ('__xor__',\n",
       "  <method-wrapper '__xor__' of numpy.ndarray object at 0x129ca9850>),\n",
       " ('all', <function ndarray.all>),\n",
       " ('any', <function ndarray.any>),\n",
       " ('argmax', <function ndarray.argmax>),\n",
       " ('argmin', <function ndarray.argmin>),\n",
       " ('argpartition', <function ndarray.argpartition>),\n",
       " ('argsort', <function ndarray.argsort>),\n",
       " ('astype', <function ndarray.astype>),\n",
       " ('base', None),\n",
       " ('byteswap', <function ndarray.byteswap>),\n",
       " ('choose', <function ndarray.choose>),\n",
       " ('clip', <function ndarray.clip>),\n",
       " ('compress', <function ndarray.compress>),\n",
       " ('conj', <function ndarray.conj>),\n",
       " ('conjugate', <function ndarray.conjugate>),\n",
       " ('copy', <function ndarray.copy>),\n",
       " ('ctypes', <numpy.core._internal._ctypes at 0x1487e5208>),\n",
       " ('cumprod', <function ndarray.cumprod>),\n",
       " ('cumsum', <function ndarray.cumsum>),\n",
       " ('data', <memory at 0x147c0f7c8>),\n",
       " ('diagonal', <function ndarray.diagonal>),\n",
       " ('dot', <function ndarray.dot>),\n",
       " ('dtype', dtype('<U19')),\n",
       " ('dump', <function ndarray.dump>),\n",
       " ('dumps', <function ndarray.dumps>),\n",
       " ('fill', <function ndarray.fill>),\n",
       " ('flags',   C_CONTIGUOUS : True\n",
       "    F_CONTIGUOUS : True\n",
       "    OWNDATA : True\n",
       "    WRITEABLE : True\n",
       "    ALIGNED : True\n",
       "    UPDATEIFCOPY : False),\n",
       " ('flat', <numpy.flatiter at 0x7ff2e4019400>),\n",
       " ('flatten', <function ndarray.flatten>),\n",
       " ('getfield', <function ndarray.getfield>),\n",
       " ('imag', array(['', '', '', '', '', '', '', '', '', ''],\n",
       "        dtype='<U19')),\n",
       " ('item', <function ndarray.item>),\n",
       " ('itemset', <function ndarray.itemset>),\n",
       " ('itemsize', 76),\n",
       " ('max', <function ndarray.max>),\n",
       " ('mean', <function ndarray.mean>),\n",
       " ('min', <function ndarray.min>),\n",
       " ('nbytes', 760),\n",
       " ('ndim', 1),\n",
       " ('newbyteorder', <function ndarray.newbyteorder>),\n",
       " ('nonzero', <function ndarray.nonzero>),\n",
       " ('partition', <function ndarray.partition>),\n",
       " ('prod', <function ndarray.prod>),\n",
       " ('ptp', <function ndarray.ptp>),\n",
       " ('put', <function ndarray.put>),\n",
       " ('ravel', <function ndarray.ravel>),\n",
       " ('real',\n",
       "  array(['out/data_000000.npy', 'out/data_000001.npy', 'out/data_000002.npy',\n",
       "         'out/data_000003.npy', 'out/data_000004.npy', 'out/data_000005.npy',\n",
       "         'out/data_000006.npy', 'out/data_000007.npy', 'out/data_000008.npy',\n",
       "         'out/data_000009.npy'],\n",
       "        dtype='<U19')),\n",
       " ('repeat', <function ndarray.repeat>),\n",
       " ('reshape', <function ndarray.reshape>),\n",
       " ('resize', <function ndarray.resize>),\n",
       " ('round', <function ndarray.round>),\n",
       " ('searchsorted', <function ndarray.searchsorted>),\n",
       " ('setfield', <function ndarray.setfield>),\n",
       " ('setflags', <function ndarray.setflags>),\n",
       " ('shape', (10,)),\n",
       " ('size', 10),\n",
       " ('sort', <function ndarray.sort>),\n",
       " ('squeeze', <function ndarray.squeeze>),\n",
       " ('std', <function ndarray.std>),\n",
       " ('strides', (76,)),\n",
       " ('sum', <function ndarray.sum>),\n",
       " ('swapaxes', <function ndarray.swapaxes>),\n",
       " ('take', <function ndarray.take>),\n",
       " ('tobytes', <function ndarray.tobytes>),\n",
       " ('tofile', <function ndarray.tofile>),\n",
       " ('tolist', <function ndarray.tolist>),\n",
       " ('tostring', <function ndarray.tostring>),\n",
       " ('trace', <function ndarray.trace>),\n",
       " ('transpose', <function ndarray.transpose>),\n",
       " ('var', <function ndarray.var>),\n",
       " ('view', <function ndarray.view>)]"
      ]
     },
     "execution_count": 44,
     "metadata": {},
     "output_type": "execute_result"
    }
   ],
   "source": [
    "(data_all)"
   ]
  },
  {
   "cell_type": "code",
   "execution_count": 29,
   "metadata": {},
   "outputs": [],
   "source": [
    "X_train, X_test, y_train, y_test = sklearn.model_selection.train_test_split(\n",
    "        data_all, label_all, test_size=0.2)"
   ]
  },
  {
   "cell_type": "code",
   "execution_count": 32,
   "metadata": {},
   "outputs": [
    {
     "data": {
      "text/plain": [
       "array(['out/data_000006.npy', 'out/data_000004.npy'],\n",
       "      dtype='<U19')"
      ]
     },
     "execution_count": 32,
     "metadata": {},
     "output_type": "execute_result"
    }
   ],
   "source": [
    "X_test"
   ]
  },
  {
   "cell_type": "code",
   "execution_count": null,
   "metadata": {},
   "outputs": [],
   "source": [
    "checkpoint_path=\"/Users/micmelesse/Documents/3D-reconstruction-with-neural-networks/out/model_2018-03-03_16:38:55_L:0.1_E:1_B:1/epoch_0\"\n",
    "net.restore(checkpoint_path)"
   ]
  },
  {
   "cell_type": "code",
   "execution_count": 7,
   "metadata": {
    "scrolled": false
   },
   "outputs": [
    {
     "name": "stdout",
     "output_type": "stream",
     "text": [
      "(1, 24, 137, 137, 4) (1, 32, 32, 32) (1, 32, 32, 32)\n"
     ]
    }
   ],
   "source": [
    "i=0\n",
    "x=utils.to_npy(data_all[i])\n",
    "y=utils.to_npy(label_all[i])\n",
    "y_hat=net.predict(x)\n",
    "utils.vis_multichannel(x[0][1])\n",
    "utils.vis_voxel(y[0])\n",
    "utils.vis_voxel(y_hat[0])"
   ]
  },
  {
   "cell_type": "code",
   "execution_count": null,
   "metadata": {
    "scrolled": true
   },
   "outputs": [],
   "source": []
  }
 ],
 "metadata": {
  "kernelspec": {
   "display_name": "Python 3",
   "language": "python",
   "name": "python3"
  },
  "language_info": {
   "codemirror_mode": {
    "name": "ipython",
    "version": 3
   },
   "file_extension": ".py",
   "mimetype": "text/x-python",
   "name": "python",
   "nbconvert_exporter": "python",
   "pygments_lexer": "ipython3",
   "version": "3.6.2"
  }
 },
 "nbformat": 4,
 "nbformat_minor": 2
}
