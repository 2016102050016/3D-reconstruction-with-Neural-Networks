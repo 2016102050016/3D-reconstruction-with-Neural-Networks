{
 "cells": [
  {
   "cell_type": "code",
   "execution_count": 1,
   "metadata": {},
   "outputs": [],
   "source": [
    "import os\n",
    "import sys\n",
    "import math\n",
    "import utils\n",
    "import random\n",
    "import layers\n",
    "import dataset\n",
    "import numpy as np\n",
    "import pandas as pd\n",
    "import tensorflow as tf\n",
    "import matplotlib.pyplot as plt\n",
    "from datetime import datetime\n",
    "from network import network"
   ]
  },
  {
   "cell_type": "code",
   "execution_count": 2,
   "metadata": {},
   "outputs": [
    {
     "name": "stdout",
     "output_type": "stream",
     "text": [
      "training with a learning rate of 0.1 for 1 epochs with batchs of size 10\n"
     ]
    }
   ],
   "source": [
    "#read params\n",
    "with open(\"train.params\") as f:\n",
    "    batch_size=int(f.readline())\n",
    "    epoch=int(f.readline())\n",
    "    learning_rate=float(f.readline())\n",
    "    print(\"training with a learning rate of {} for {} epochs with batchs of size {}\".format(learning_rate,epoch,batch_size))"
   ]
  },
  {
   "cell_type": "code",
   "execution_count": 3,
   "metadata": {},
   "outputs": [
    {
     "name": "stdout",
     "output_type": "stream",
     "text": [
      "encoder_network\n",
      "(?, 24, 137, 137, 4)\n",
      "(?, 24, 68, 68, 96)\n",
      "(?, 24, 34, 34, 128)\n",
      "(?, 24, 17, 17, 256)\n",
      "(?, 24, 8, 8, 256)\n",
      "(?, 24, 4, 4, 256)\n",
      "(?, 24, 2, 2, 256)\n",
      "(?, 24, 1024)\n",
      "recurrent_module\n",
      "(?, 4, 4, 4, 256)\n",
      "decoder_network\n",
      "(?, 8, 8, 8, 256)\n",
      "(?, 16, 16, 16, 128)\n",
      "(?, 32, 32, 32, 64)\n",
      "(?, 32, 32, 32, 32)\n",
      "(?, 32, 32, 32, 2)\n",
      "softmax_output\n",
      "(?, 32, 32, 32, 2)\n",
      "prediction\n",
      "(?, 32, 32, 32)\n",
      "losses\n",
      "(?,)\n",
      "metrics\n",
      "(?,)\n"
     ]
    }
   ],
   "source": [
    "net=network(learning_rate)"
   ]
  },
  {
   "cell_type": "code",
   "execution_count": 4,
   "metadata": {},
   "outputs": [],
   "source": [
    "# output\n",
    "sess=tf.InteractiveSession()\n",
    "tf.global_variables_initializer().run()\n",
    "\n",
    "# tensorboard/ vis tools\n",
    "writer = tf.summary.FileWriter(\"./logs/\")\n",
    "writer.add_graph(sess.graph)"
   ]
  },
  {
   "cell_type": "code",
   "execution_count": 5,
   "metadata": {},
   "outputs": [
    {
     "name": "stdout",
     "output_type": "stream",
     "text": [
      "(100, 24, 137, 137, 4)\n",
      "(100, 32, 32, 32)\n"
     ]
    }
   ],
   "source": [
    "data_all=np.load(\"all_data.npy\")  \n",
    "label_all=np.load(\"all_labels.npy\")\n",
    "N=len(data_all)\n",
    "n=2\n",
    "print(data_all.shape)\n",
    "print(label_all.shape)"
   ]
  },
  {
   "cell_type": "code",
   "execution_count": null,
   "metadata": {},
   "outputs": [],
   "source": [
    "# setup training\n",
    "root_train_dir = \"train_dir\"\n",
    "cur_time = str(datetime.now().strftime('%Y|%m|%d %I:%M:%S %p'))\n",
    "train_dir=os.path.join(root_train_dir,cur_time)\n",
    "saver = tf.train.Saver()\n",
    "\n",
    "# train network\n",
    "print(\"starting training at {}\".format(cur_time))\n",
    "loss_session=[]\n",
    "acc_session=[]\n",
    "for e in range(epoch):\n",
    "    perm=np.random.permutation(N)\n",
    "    data_all=data_all[perm]\n",
    "    label_all=label_all[perm]\n",
    "    split_size=math.ceil(N/batch_size)\n",
    "    data_batchs=np.array_split(data_all,split_size)\n",
    "    label_batchs=np.array_split(label_all,split_size)\n",
    "    loss_epoch=[]\n",
    "    acc_epoch=[]\n",
    "    # print(\"starting epoch_{:03d}\".format(e))\n",
    "    epoch_dir=\"{}/epoch_{:03d}\".format(train_dir,e)\n",
    "    os.makedirs(epoch_dir)\n",
    "    \n",
    "    batch_number=0\n",
    "    for data,label in zip(data_batchs,label_batchs):\n",
    "        batch_info=sess.run([net.mean_loss,net.mean_accuracy,net.optimizing_op],feed_dict={net.X:data, net.Y: label})\n",
    "        loss_batch=batch_info[0]\n",
    "        acc_batch=batch_info[1]\n",
    "        loss_epoch.append(loss_batch)\n",
    "        acc_epoch.append(acc_batch)\n",
    "        batch_number+=1\n",
    "        if batch_number%10==0:\n",
    "            print(\"epoch_{:03d}-batch_{:03d}: loss={}, acc={}\".format(e,batch_number,loss_batch,acc_batch))\n",
    "    \n",
    "    print(\"saving checkpoint for epoch {}\".format(e))\n",
    "    saver.save(sess,\"{}/model.ckpt\".format(epoch_dir))   \n",
    "    loss_session.append(loss_epoch)\n",
    "    acc_session.append(acc_epoch)\n",
    "    np.save(\"{}/losses\".format(epoch_dir),np.array(loss_session))\n",
    "    np.save(\"{}/accs\".format(epoch_dir),np.array(acc_session))\n",
    "    fig = plt.figure()\n",
    "    plt.plot((np.array(loss_session)).flatten())\n",
    "    plt.savefig(\"{}/epoch_loss.png\".format(epoch_dir),bbox_inches='tight')\n",
    "    plt.close()\n",
    "    fig = plt.figure()\n",
    "    plt.plot((np.array(acc_session)).flatten())\n",
    "    plt.ylim(0,1)\n",
    "    plt.savefig(\"{}/epoch_acc.png\".format(epoch_dir),bbox_inches='tight')\n",
    "    plt.close()"
   ]
  },
  {
   "cell_type": "code",
   "execution_count": null,
   "metadata": {},
   "outputs": [],
   "source": []
  }
 ],
 "metadata": {
  "kernelspec": {
   "display_name": "Python 3",
   "language": "python",
   "name": "python3"
  },
  "language_info": {
   "codemirror_mode": {
    "name": "ipython",
    "version": 3
   },
   "file_extension": ".py",
   "mimetype": "text/x-python",
   "name": "python",
   "nbconvert_exporter": "python",
   "pygments_lexer": "ipython3",
   "version": "3.6.2"
  }
 },
 "nbformat": 4,
 "nbformat_minor": 2
}
