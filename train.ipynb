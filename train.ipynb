{
 "cells": [
  {
   "cell_type": "code",
   "execution_count": 2,
   "metadata": {},
   "outputs": [],
   "source": [
    "import os\n",
    "import sys\n",
    "import math\n",
    "import utils\n",
    "import random\n",
    "import layers\n",
    "import dataset\n",
    "import binvox_rw\n",
    "import numpy as np\n",
    "import pandas as pd\n",
    "import tensorflow as tf\n",
    "import matplotlib.pyplot as plt\n",
    "from datetime import datetime"
   ]
  },
  {
   "cell_type": "code",
   "execution_count": null,
   "metadata": {},
   "outputs": [],
   "source": [
    "#read params\n",
    "with open(\"net.params\") as f:\n",
    "    batch_size=int(f.readline())\n",
    "    epoch=int(f.readline())\n",
    "    learning_rate=float(f.readline())"
   ]
  },
  {
   "cell_type": "code",
   "execution_count": 2,
   "metadata": {},
   "outputs": [
    {
     "name": "stdout",
     "output_type": "stream",
     "text": [
      "(?, 24, 137, 137, 4)\n",
      "(?, 24, 68, 68, 96)\n",
      "(?, 24, 34, 34, 128)\n",
      "(?, 24, 17, 17, 256)\n",
      "(?, 24, 8, 8, 256)\n",
      "(?, 24, 4, 4, 256)\n",
      "(?, 24, 2, 2, 256)\n",
      "(?, 24, 1024)\n"
     ]
    }
   ],
   "source": [
    "# place holders\n",
    "x=tf.placeholder(tf.float32,[None,24,137,137,4]) \n",
    "y=tf.placeholder(tf.float32,[None,32,32,32])\n",
    "\n",
    "# encoder network\n",
    "cur_tensor=x\n",
    "encoder_outputs=[cur_tensor]\n",
    "print(cur_tensor.shape)\n",
    "k_s = [3,3]\n",
    "conv_filter_count = [96, 128, 256, 256, 256, 256]\n",
    "for i in range(6): \n",
    "    ks=[7,7]if i is 0 else k_s  \n",
    "    with tf.name_scope(\"encoding_block\"): \n",
    "        cur_tensor=tf.map_fn(lambda a:tf.layers.conv2d(a,filters=conv_filter_count[i],padding='SAME',kernel_size= k_s,activation=None),cur_tensor)\n",
    "        cur_tensor=tf.map_fn(lambda a:tf.layers.max_pooling2d(a,2,2),cur_tensor)\n",
    "        cur_tensor=tf.map_fn(tf.nn.relu,cur_tensor)\n",
    "        print(cur_tensor.shape)\n",
    "        encoder_outputs.append(cur_tensor)\n",
    "\n",
    "# flatten tensors\n",
    "cur_tensor=tf.map_fn(tf.contrib.layers.flatten,cur_tensor)\n",
    "cur_tensor=tf.map_fn(lambda a:tf.contrib.layers.fully_connected(a,1024,activation_fn=None),cur_tensor)\n",
    "encoder_outputs.append(cur_tensor)\n",
    "print(cur_tensor.shape)"
   ]
  },
  {
   "cell_type": "code",
   "execution_count": 3,
   "metadata": {},
   "outputs": [
    {
     "name": "stdout",
     "output_type": "stream",
     "text": [
      "(?, 4, 4, 4, 256)\n"
     ]
    }
   ],
   "source": [
    "# recurrent module\n",
    "with tf.name_scope(\"recurrent_module\"): \n",
    "    \n",
    "    N,n_x,n_h=4,1024,256\n",
    "   \n",
    "    recurrent_module=layers.GRU_R2N2(n_cells=N,n_input=n_x,n_hidden_state=n_h);\n",
    "\n",
    "    # initial hidden state\n",
    "    hidden_state_list=[]\n",
    "    with open(\"net.params\") as f:\n",
    "        batch_size=int(f.readline())\n",
    "        hidden_state= tf.zeros([1,4,4,4,256])\n",
    "    \n",
    "    # feed batches of seqeuences\n",
    "    for t in range(24):\n",
    "        fc_batch_t = cur_tensor[:,t,:]\n",
    "        hidden_state_list.append(hidden_state)\n",
    "        hidden_state = recurrent_module.call(fc_batch_t, hidden_state)\n",
    "    print(hidden_state.shape)\n",
    "cur_tensor=hidden_state"
   ]
  },
  {
   "cell_type": "code",
   "execution_count": 4,
   "metadata": {},
   "outputs": [
    {
     "name": "stdout",
     "output_type": "stream",
     "text": [
      "(?, 8, 8, 8, 256)\n",
      "(?, 16, 16, 16, 128)\n",
      "(?, 32, 32, 32, 64)\n",
      "(?, 32, 32, 32, 32)\n",
      "(?, 32, 32, 32, 2)\n"
     ]
    }
   ],
   "source": [
    "# decoding network\n",
    "decoder_outputs=[cur_tensor]\n",
    "cur_tensor=layers.unpool3D(cur_tensor)\n",
    "print(cur_tensor.shape)\n",
    "decoder_outputs.append(cur_tensor)\n",
    "\n",
    "k_s = [3,3,3]\n",
    "deconv_filter_count = [128, 128, 128, 64, 32, 2]\n",
    "for i in range(2,4): \n",
    "    with tf.name_scope(\"decoding_block\"):\n",
    "        cur_tensor=tf.layers.conv3d(cur_tensor,padding='SAME',filters=deconv_filter_count[i],kernel_size= k_s,activation=None)\n",
    "        cur_tensor=layers.unpool3D(cur_tensor)\n",
    "        cur_tensor=tf.nn.relu(cur_tensor)\n",
    "        print(cur_tensor.shape)\n",
    "        decoder_outputs.append(cur_tensor)\n",
    "            \n",
    "for i in range(4,6): \n",
    "    with tf.name_scope(\"decoding_block_without_unpooling\"):\n",
    "        cur_tensor=tf.layers.conv3d(cur_tensor,padding='SAME',filters=deconv_filter_count[i],kernel_size= k_s,activation=None)\n",
    "        cur_tensor=tf.nn.relu(cur_tensor)\n",
    "        print(cur_tensor.shape)\n",
    "        decoder_outputs.append(cur_tensor)"
   ]
  },
  {
   "cell_type": "code",
   "execution_count": 5,
   "metadata": {},
   "outputs": [],
   "source": [
    "with tf.name_scope(\"cost\"):\n",
    "    #3d voxel-wise softmax\n",
    "    y_hat=tf.nn.softmax(decoder_outputs[-1])\n",
    "    prediction=tf.to_float(tf.argmax(y_hat,axis=4))\n",
    "    p,q=y_hat[:,:,:,:,0],y_hat[:,:,:,:,1]\n",
    "    cross_entropies=tf.reduce_sum(-tf.multiply(tf.log(p),y)-tf.multiply(tf.log(q),1-y),[1,2,3])\n",
    "    accuracies=tf.reduce_sum(tf.to_float(tf.equal(y,prediction)),axis=[1,2,3])/tf.constant(32*32*32,dtype=tf.float32)\n",
    "    mean_loss=tf.reduce_mean(cross_entropies)\n",
    "    mean_accuracy=tf.reduce_mean(accuracies)\n",
    "    optimizer = tf.train.GradientDescentOptimizer(learning_rate=learning_rate).minimize(cross_entropies)"
   ]
  },
  {
   "cell_type": "code",
   "execution_count": 6,
   "metadata": {},
   "outputs": [],
   "source": [
    "# output\n",
    "sess=tf.InteractiveSession()\n",
    "tf.global_variables_initializer().run()\n",
    "\n",
    "# tensorboard/ vis tools\n",
    "writer = tf.summary.FileWriter(\"./logs/\")\n",
    "writer.add_graph(sess.graph)"
   ]
  },
  {
   "cell_type": "code",
   "execution_count": 11,
   "metadata": {},
   "outputs": [
    {
     "name": "stdout",
     "output_type": "stream",
     "text": [
      "(100, 24, 137, 137, 4)\n",
      "(100, 32, 32, 32)\n"
     ]
    }
   ],
   "source": [
    "data_all=np.load(\"all_data.npy\")  \n",
    "label_all=np.load(\"all_labels.npy\")\n",
    "N=len(data_all)\n",
    "print(data_all.shape)\n",
    "print(label_all.shape)"
   ]
  },
  {
   "cell_type": "code",
   "execution_count": 17,
   "metadata": {},
   "outputs": [
    {
     "name": "stdout",
     "output_type": "stream",
     "text": [
      "starting training at 2018|01|10 11:46:00 AM\n",
      "epoch_000-batch_000: loss=22509.5234375, acc=0.3348236083984375\n"
     ]
    },
    {
     "ename": "KeyboardInterrupt",
     "evalue": "",
     "output_type": "error",
     "traceback": [
      "\u001b[0;31m---------------------------------------------------------------------------\u001b[0m",
      "\u001b[0;31mKeyboardInterrupt\u001b[0m                         Traceback (most recent call last)",
      "\u001b[0;32m<ipython-input-17-66e4e28046fd>\u001b[0m in \u001b[0;36m<module>\u001b[0;34m()\u001b[0m\n\u001b[1;32m     25\u001b[0m     \u001b[0;32mfor\u001b[0m \u001b[0mdata\u001b[0m\u001b[0;34m,\u001b[0m\u001b[0mlabel\u001b[0m \u001b[0;32min\u001b[0m \u001b[0mzip\u001b[0m\u001b[0;34m(\u001b[0m\u001b[0mdata_batchs\u001b[0m\u001b[0;34m,\u001b[0m\u001b[0mlabel_batchs\u001b[0m\u001b[0;34m)\u001b[0m\u001b[0;34m:\u001b[0m\u001b[0;34m\u001b[0m\u001b[0m\n\u001b[1;32m     26\u001b[0m         \u001b[0mfd\u001b[0m\u001b[0;34m=\u001b[0m\u001b[0;34m{\u001b[0m\u001b[0mx\u001b[0m\u001b[0;34m:\u001b[0m\u001b[0mdata\u001b[0m\u001b[0;34m,\u001b[0m \u001b[0my\u001b[0m\u001b[0;34m:\u001b[0m \u001b[0mlabel\u001b[0m\u001b[0;34m}\u001b[0m\u001b[0;34m;\u001b[0m\u001b[0;34m\u001b[0m\u001b[0m\n\u001b[0;32m---> 27\u001b[0;31m         \u001b[0mbatch_info\u001b[0m\u001b[0;34m=\u001b[0m\u001b[0msess\u001b[0m\u001b[0;34m.\u001b[0m\u001b[0mrun\u001b[0m\u001b[0;34m(\u001b[0m\u001b[0;34m[\u001b[0m\u001b[0mmean_loss\u001b[0m\u001b[0;34m,\u001b[0m\u001b[0mmean_accuracy\u001b[0m\u001b[0;34m]\u001b[0m\u001b[0;34m,\u001b[0m\u001b[0mfeed_dict\u001b[0m\u001b[0;34m=\u001b[0m\u001b[0mfd\u001b[0m\u001b[0;34m)\u001b[0m\u001b[0;34m\u001b[0m\u001b[0m\n\u001b[0m\u001b[1;32m     28\u001b[0m         \u001b[0mloss_batch\u001b[0m\u001b[0;34m=\u001b[0m\u001b[0mbatch_info\u001b[0m\u001b[0;34m[\u001b[0m\u001b[0;36m0\u001b[0m\u001b[0;34m]\u001b[0m\u001b[0;34m\u001b[0m\u001b[0m\n\u001b[1;32m     29\u001b[0m         \u001b[0macc_batch\u001b[0m\u001b[0;34m=\u001b[0m\u001b[0mbatch_info\u001b[0m\u001b[0;34m[\u001b[0m\u001b[0;36m1\u001b[0m\u001b[0;34m]\u001b[0m\u001b[0;34m\u001b[0m\u001b[0m\n",
      "\u001b[0;32m/anaconda3/lib/python3.6/site-packages/tensorflow/python/client/session.py\u001b[0m in \u001b[0;36mrun\u001b[0;34m(self, fetches, feed_dict, options, run_metadata)\u001b[0m\n\u001b[1;32m    887\u001b[0m     \u001b[0;32mtry\u001b[0m\u001b[0;34m:\u001b[0m\u001b[0;34m\u001b[0m\u001b[0m\n\u001b[1;32m    888\u001b[0m       result = self._run(None, fetches, feed_dict, options_ptr,\n\u001b[0;32m--> 889\u001b[0;31m                          run_metadata_ptr)\n\u001b[0m\u001b[1;32m    890\u001b[0m       \u001b[0;32mif\u001b[0m \u001b[0mrun_metadata\u001b[0m\u001b[0;34m:\u001b[0m\u001b[0;34m\u001b[0m\u001b[0m\n\u001b[1;32m    891\u001b[0m         \u001b[0mproto_data\u001b[0m \u001b[0;34m=\u001b[0m \u001b[0mtf_session\u001b[0m\u001b[0;34m.\u001b[0m\u001b[0mTF_GetBuffer\u001b[0m\u001b[0;34m(\u001b[0m\u001b[0mrun_metadata_ptr\u001b[0m\u001b[0;34m)\u001b[0m\u001b[0;34m\u001b[0m\u001b[0m\n",
      "\u001b[0;32m/anaconda3/lib/python3.6/site-packages/tensorflow/python/client/session.py\u001b[0m in \u001b[0;36m_run\u001b[0;34m(self, handle, fetches, feed_dict, options, run_metadata)\u001b[0m\n\u001b[1;32m   1118\u001b[0m     \u001b[0;32mif\u001b[0m \u001b[0mfinal_fetches\u001b[0m \u001b[0;32mor\u001b[0m \u001b[0mfinal_targets\u001b[0m \u001b[0;32mor\u001b[0m \u001b[0;34m(\u001b[0m\u001b[0mhandle\u001b[0m \u001b[0;32mand\u001b[0m \u001b[0mfeed_dict_tensor\u001b[0m\u001b[0;34m)\u001b[0m\u001b[0;34m:\u001b[0m\u001b[0;34m\u001b[0m\u001b[0m\n\u001b[1;32m   1119\u001b[0m       results = self._do_run(handle, final_targets, final_fetches,\n\u001b[0;32m-> 1120\u001b[0;31m                              feed_dict_tensor, options, run_metadata)\n\u001b[0m\u001b[1;32m   1121\u001b[0m     \u001b[0;32melse\u001b[0m\u001b[0;34m:\u001b[0m\u001b[0;34m\u001b[0m\u001b[0m\n\u001b[1;32m   1122\u001b[0m       \u001b[0mresults\u001b[0m \u001b[0;34m=\u001b[0m \u001b[0;34m[\u001b[0m\u001b[0;34m]\u001b[0m\u001b[0;34m\u001b[0m\u001b[0m\n",
      "\u001b[0;32m/anaconda3/lib/python3.6/site-packages/tensorflow/python/client/session.py\u001b[0m in \u001b[0;36m_do_run\u001b[0;34m(self, handle, target_list, fetch_list, feed_dict, options, run_metadata)\u001b[0m\n\u001b[1;32m   1315\u001b[0m     \u001b[0;32mif\u001b[0m \u001b[0mhandle\u001b[0m \u001b[0;32mis\u001b[0m \u001b[0;32mNone\u001b[0m\u001b[0;34m:\u001b[0m\u001b[0;34m\u001b[0m\u001b[0m\n\u001b[1;32m   1316\u001b[0m       return self._do_call(_run_fn, self._session, feeds, fetches, targets,\n\u001b[0;32m-> 1317\u001b[0;31m                            options, run_metadata)\n\u001b[0m\u001b[1;32m   1318\u001b[0m     \u001b[0;32melse\u001b[0m\u001b[0;34m:\u001b[0m\u001b[0;34m\u001b[0m\u001b[0m\n\u001b[1;32m   1319\u001b[0m       \u001b[0;32mreturn\u001b[0m \u001b[0mself\u001b[0m\u001b[0;34m.\u001b[0m\u001b[0m_do_call\u001b[0m\u001b[0;34m(\u001b[0m\u001b[0m_prun_fn\u001b[0m\u001b[0;34m,\u001b[0m \u001b[0mself\u001b[0m\u001b[0;34m.\u001b[0m\u001b[0m_session\u001b[0m\u001b[0;34m,\u001b[0m \u001b[0mhandle\u001b[0m\u001b[0;34m,\u001b[0m \u001b[0mfeeds\u001b[0m\u001b[0;34m,\u001b[0m \u001b[0mfetches\u001b[0m\u001b[0;34m)\u001b[0m\u001b[0;34m\u001b[0m\u001b[0m\n",
      "\u001b[0;32m/anaconda3/lib/python3.6/site-packages/tensorflow/python/client/session.py\u001b[0m in \u001b[0;36m_do_call\u001b[0;34m(self, fn, *args)\u001b[0m\n\u001b[1;32m   1321\u001b[0m   \u001b[0;32mdef\u001b[0m \u001b[0m_do_call\u001b[0m\u001b[0;34m(\u001b[0m\u001b[0mself\u001b[0m\u001b[0;34m,\u001b[0m \u001b[0mfn\u001b[0m\u001b[0;34m,\u001b[0m \u001b[0;34m*\u001b[0m\u001b[0margs\u001b[0m\u001b[0;34m)\u001b[0m\u001b[0;34m:\u001b[0m\u001b[0;34m\u001b[0m\u001b[0m\n\u001b[1;32m   1322\u001b[0m     \u001b[0;32mtry\u001b[0m\u001b[0;34m:\u001b[0m\u001b[0;34m\u001b[0m\u001b[0m\n\u001b[0;32m-> 1323\u001b[0;31m       \u001b[0;32mreturn\u001b[0m \u001b[0mfn\u001b[0m\u001b[0;34m(\u001b[0m\u001b[0;34m*\u001b[0m\u001b[0margs\u001b[0m\u001b[0;34m)\u001b[0m\u001b[0;34m\u001b[0m\u001b[0m\n\u001b[0m\u001b[1;32m   1324\u001b[0m     \u001b[0;32mexcept\u001b[0m \u001b[0merrors\u001b[0m\u001b[0;34m.\u001b[0m\u001b[0mOpError\u001b[0m \u001b[0;32mas\u001b[0m \u001b[0me\u001b[0m\u001b[0;34m:\u001b[0m\u001b[0;34m\u001b[0m\u001b[0m\n\u001b[1;32m   1325\u001b[0m       \u001b[0mmessage\u001b[0m \u001b[0;34m=\u001b[0m \u001b[0mcompat\u001b[0m\u001b[0;34m.\u001b[0m\u001b[0mas_text\u001b[0m\u001b[0;34m(\u001b[0m\u001b[0me\u001b[0m\u001b[0;34m.\u001b[0m\u001b[0mmessage\u001b[0m\u001b[0;34m)\u001b[0m\u001b[0;34m\u001b[0m\u001b[0m\n",
      "\u001b[0;32m/anaconda3/lib/python3.6/site-packages/tensorflow/python/client/session.py\u001b[0m in \u001b[0;36m_run_fn\u001b[0;34m(session, feed_dict, fetch_list, target_list, options, run_metadata)\u001b[0m\n\u001b[1;32m   1300\u001b[0m           return tf_session.TF_Run(session, options,\n\u001b[1;32m   1301\u001b[0m                                    \u001b[0mfeed_dict\u001b[0m\u001b[0;34m,\u001b[0m \u001b[0mfetch_list\u001b[0m\u001b[0;34m,\u001b[0m \u001b[0mtarget_list\u001b[0m\u001b[0;34m,\u001b[0m\u001b[0;34m\u001b[0m\u001b[0m\n\u001b[0;32m-> 1302\u001b[0;31m                                    status, run_metadata)\n\u001b[0m\u001b[1;32m   1303\u001b[0m \u001b[0;34m\u001b[0m\u001b[0m\n\u001b[1;32m   1304\u001b[0m     \u001b[0;32mdef\u001b[0m \u001b[0m_prun_fn\u001b[0m\u001b[0;34m(\u001b[0m\u001b[0msession\u001b[0m\u001b[0;34m,\u001b[0m \u001b[0mhandle\u001b[0m\u001b[0;34m,\u001b[0m \u001b[0mfeed_dict\u001b[0m\u001b[0;34m,\u001b[0m \u001b[0mfetch_list\u001b[0m\u001b[0;34m)\u001b[0m\u001b[0;34m:\u001b[0m\u001b[0;34m\u001b[0m\u001b[0m\n",
      "\u001b[0;31mKeyboardInterrupt\u001b[0m: "
     ]
    }
   ],
   "source": [
    "# setup training\n",
    "root_train_dir = \"train_dir\"\n",
    "cur_time = str(datetime.now().strftime('%Y|%m|%d %I:%M:%S %p'))\n",
    "train_dir=os.path.join(root_train_dir,cur_time)\n",
    "saver = tf.train.Saver()\n",
    "\n",
    "# train network\n",
    "print(\"starting training at {}\".format(cur_time))\n",
    "loss_session=[]\n",
    "acc_session=[]\n",
    "for e in range(epoch):\n",
    "    perm=np.random.permutation(N)\n",
    "    data_all=data_all[perm]\n",
    "    label_all=label_all[perm]\n",
    "    split_size=N/batch_size\n",
    "    data_batchs=np.array_split(data_all,split_size)\n",
    "    label_batchs=np.array_split(label_all,split_size)\n",
    "    loss_epoch=[]\n",
    "    acc_epoch=[]\n",
    "    # print(\"starting epoch_{:03d}\".format(e))\n",
    "    epoch_dir=\"{}/epoch_{:03d}\".format(train_dir,e)\n",
    "    os.makedirs(epoch_dir)\n",
    "    \n",
    "    batch_number=0\n",
    "    for data,label in zip(data_batchs,label_batchs):\n",
    "        fd={x:data, y: label};\n",
    "        batch_info=sess.run([mean_loss,mean_accuracy],feed_dict=fd)\n",
    "        loss_batch=batch_info[0]\n",
    "        acc_batch=batch_info[1]\n",
    "        loss_epoch.append(loss_batch)\n",
    "        acc_epoch.append(acc_batch)\n",
    "        \n",
    "        batch_number+=1\n",
    "        if batch_number%50==0:\n",
    "            print(\"epoch_{:03d}-batch_{:03d}: loss={}, acc={}\".format(e,batch_number,batch_info[0],batch_info[1]))\n",
    "            # record parameters and generate plots \n",
    "            fig = plt.figure()\n",
    "            plt.plot(loss_epoch)\n",
    "            plt.savefig(\"{}/{}_loss.png\".format(epoch_dir,batch_number),bbox_inches='tight')\n",
    "            plt.close()\n",
    "            fig = plt.figure()\n",
    "            plt.plot(acc_epoch)\n",
    "            plt.savefig(\"{}/{}_acc.png\".format(epoch_dir,batch_number),bbox_inches='tight')\n",
    "            plt.close()\n",
    "    print(\"saving checkpoint for epoch {}\".format(e))\n",
    "    saver.save(sess,\"{}/model.ckpt\".format(epoch_dir))   \n",
    "    loss_session.append(loss_epoch)\n",
    "    acc_session.append(acc_epoch)\n",
    "    np.save(\"{}/losses\".format(epoch_dir),np.array(loss_session))\n",
    "    np.save(\"{}/accs\".format(epoch_dir),np.array(acc_session))"
   ]
  },
  {
   "cell_type": "code",
   "execution_count": null,
   "metadata": {},
   "outputs": [],
   "source": [
    "# %matplotlib inline\n",
    "# bat=3\n",
    "# ind=5\n",
    "# utils.imshow_multichannel(data_batchs[bat][ind,0])\n",
    "# utils.imshow_voxel(label_batchs[bat][ind])"
   ]
  },
  {
   "cell_type": "code",
   "execution_count": 13,
   "metadata": {},
   "outputs": [],
   "source": [
    "l=np.load(\"accs.npy\")"
   ]
  },
  {
   "cell_type": "code",
   "execution_count": 14,
   "metadata": {},
   "outputs": [
    {
     "data": {
      "text/plain": [
       "[<matplotlib.lines.Line2D at 0x11abbdb38>]"
      ]
     },
     "execution_count": 14,
     "metadata": {},
     "output_type": "execute_result"
    },
    {
     "data": {
      "image/png": "[encoded data removed]",
      "text/plain": [
       "<matplotlib.figure.Figure at 0x11a91be48>"
      ]
     },
     "metadata": {},
     "output_type": "display_data"
    }
   ],
   "source": [
    "%matplotlib inline\n",
    "plt.figure()\n",
    "#flattened in row major form\n",
    "plt.plot(l.flatten())"
   ]
  },
  {
   "cell_type": "code",
   "execution_count": null,
   "metadata": {},
   "outputs": [],
   "source": []
  }
 ],
 "metadata": {
  "kernelspec": {
   "display_name": "Python 3",
   "language": "python",
   "name": "python3"
  },
  "language_info": {
   "codemirror_mode": {
    "name": "ipython",
    "version": 3
   },
   "file_extension": ".py",
   "mimetype": "text/x-python",
   "name": "python",
   "nbconvert_exporter": "python",
   "pygments_lexer": "ipython3",
   "version": "3.6.2"
  }
 },
 "nbformat": 4,
 "nbformat_minor": 2
}
